{
 "cells": [
  {
   "cell_type": "code",
   "execution_count": 1,
   "metadata": {
    "ExecuteTime": {
     "end_time": "2020-09-16T09:12:23.021426Z",
     "start_time": "2020-09-16T09:12:22.777564Z"
    },
    "colab": {},
    "colab_type": "code",
    "executionInfo": {
     "elapsed": 1104,
     "status": "ok",
     "timestamp": 1598799188622,
     "user": {
      "displayName": "‍조유정[학생](대학원 경영학과)",
      "photoUrl": "",
      "userId": "08462910251745570933"
     },
     "user_tz": -540
    },
    "id": "7IZUhKChplMj"
   },
   "outputs": [],
   "source": [
    "from sklearn.metrics import classification_report, confusion_matrix"
   ]
  },
  {
   "cell_type": "code",
   "execution_count": null,
   "metadata": {
    "ExecuteTime": {
     "end_time": "2020-09-09T04:59:19.685591Z",
     "start_time": "2020-09-09T04:59:19.683852Z"
    },
    "colab": {
     "base_uri": "https://localhost:8080/",
     "height": 297
    },
    "colab_type": "code",
    "executionInfo": {
     "elapsed": 37271,
     "status": "ok",
     "timestamp": 1598781603392,
     "user": {
      "displayName": "‍조유정[학생](대학원 경영학과)",
      "photoUrl": "",
      "userId": "08462910251745570933"
     },
     "user_tz": -540
    },
    "id": "m_dR1Z02zmsb",
    "outputId": "cfc8114f-1ec2-487c-a3c3-55f9ab380edc"
   },
   "outputs": [],
   "source": [
    "#!pip uninstall tensorflow"
   ]
  },
  {
   "cell_type": "code",
   "execution_count": null,
   "metadata": {
    "ExecuteTime": {
     "end_time": "2020-09-09T04:59:20.164457Z",
     "start_time": "2020-09-09T04:59:20.160673Z"
    },
    "colab": {
     "base_uri": "https://localhost:8080/",
     "height": 467
    },
    "colab_type": "code",
    "executionInfo": {
     "elapsed": 3730,
     "status": "ok",
     "timestamp": 1598781780233,
     "user": {
      "displayName": "‍조유정[학생](대학원 경영학과)",
      "photoUrl": "",
      "userId": "08462910251745570933"
     },
     "user_tz": -540
    },
    "id": "tnS5enjQzpJ6",
    "outputId": "0c1eb699-0dfe-40c2-c560-1e57d6c5f834"
   },
   "outputs": [],
   "source": [
    "#!pip install tensorflow==1.15"
   ]
  },
  {
   "cell_type": "code",
   "execution_count": 2,
   "metadata": {
    "ExecuteTime": {
     "end_time": "2020-09-16T09:12:26.452942Z",
     "start_time": "2020-09-16T09:12:25.587090Z"
    },
    "colab": {},
    "colab_type": "code",
    "executionInfo": {
     "elapsed": 2523,
     "status": "ok",
     "timestamp": 1598799206045,
     "user": {
      "displayName": "‍조유정[학생](대학원 경영학과)",
      "photoUrl": "",
      "userId": "08462910251745570933"
     },
     "user_tz": -540
    },
    "id": "o8wro8ziqETF"
   },
   "outputs": [],
   "source": [
    "import tensorflow as tf\n",
    "import tensorboard as tb"
   ]
  },
  {
   "cell_type": "code",
   "execution_count": 3,
   "metadata": {
    "ExecuteTime": {
     "end_time": "2020-09-16T09:12:27.261273Z",
     "start_time": "2020-09-16T09:12:27.182286Z"
    }
   },
   "outputs": [
    {
     "name": "stderr",
     "output_type": "stream",
     "text": [
      "Using TensorFlow backend.\n"
     ]
    }
   ],
   "source": [
    "from keras import backend as K"
   ]
  },
  {
   "cell_type": "code",
   "execution_count": 4,
   "metadata": {
    "ExecuteTime": {
     "end_time": "2020-09-16T09:12:28.707800Z",
     "start_time": "2020-09-16T09:12:28.700926Z"
    },
    "colab": {},
    "colab_type": "code",
    "executionInfo": {
     "elapsed": 900,
     "status": "ok",
     "timestamp": 1598799221197,
     "user": {
      "displayName": "‍조유정[학생](대학원 경영학과)",
      "photoUrl": "",
      "userId": "08462910251745570933"
     },
     "user_tz": -540
    },
    "id": "pvIgU7jlqMaY"
   },
   "outputs": [],
   "source": [
    "from tensorflow.keras.applications import VGG16\n",
    "from tensorflow.keras import models,layers, Input, optimizers, initializers, regularizers, metrics\n",
    "from tensorflow.keras.models import Model, Sequential\n",
    "from tensorflow.keras.preprocessing.image import ImageDataGenerator ,array_to_img, img_to_array, load_img\n",
    "from tensorflow.keras.callbacks import ModelCheckpoint, TensorBoard,  EarlyStopping\n",
    "from tensorflow.keras.layers import Dense, Dropout, Flatten"
   ]
  },
  {
   "cell_type": "code",
   "execution_count": 5,
   "metadata": {
    "ExecuteTime": {
     "end_time": "2020-09-16T09:12:34.509494Z",
     "start_time": "2020-09-16T09:12:34.380074Z"
    },
    "colab": {
     "base_uri": "https://localhost:8080/",
     "height": 36
    },
    "colab_type": "code",
    "executionInfo": {
     "elapsed": 867,
     "status": "ok",
     "timestamp": 1598799222994,
     "user": {
      "displayName": "‍조유정[학생](대학원 경영학과)",
      "photoUrl": "",
      "userId": "08462910251745570933"
     },
     "user_tz": -540
    },
    "id": "9jWll4txqNYI",
    "outputId": "1c1c9728-93b4-4c86-80d5-95408fdf6c03"
   },
   "outputs": [],
   "source": [
    "import os\n",
    "from glob import glob\n",
    "import PIL\n",
    "from PIL import Image\n",
    "\n",
    "import matplotlib.pyplot as plt\n",
    "import numpy as np\n",
    "import pandas as pd\n",
    "import math\n",
    "import keras\n",
    "import cv2\n",
    "\n",
    "from os import listdir\n",
    "from os.path import isfile, join\n",
    "import random\n",
    "import shutil"
   ]
  },
  {
   "cell_type": "code",
   "execution_count": null,
   "metadata": {
    "ExecuteTime": {
     "end_time": "2020-09-09T04:59:25.841277Z",
     "start_time": "2020-09-09T04:59:25.836003Z"
    },
    "colab": {},
    "colab_type": "code",
    "executionInfo": {
     "elapsed": 896,
     "status": "ok",
     "timestamp": 1598799229743,
     "user": {
      "displayName": "‍조유정[학생](대학원 경영학과)",
      "photoUrl": "",
      "userId": "08462910251745570933"
     },
     "user_tz": -540
    },
    "id": "_zBKwtU90xOI"
   },
   "outputs": [],
   "source": [
    "#!pip uninstall keras"
   ]
  },
  {
   "cell_type": "code",
   "execution_count": null,
   "metadata": {
    "ExecuteTime": {
     "end_time": "2020-09-09T04:59:26.030654Z",
     "start_time": "2020-09-09T04:59:26.028086Z"
    },
    "colab": {},
    "colab_type": "code",
    "executionInfo": {
     "elapsed": 902,
     "status": "ok",
     "timestamp": 1598799232418,
     "user": {
      "displayName": "‍조유정[학생](대학원 경영학과)",
      "photoUrl": "",
      "userId": "08462910251745570933"
     },
     "user_tz": -540
    },
    "id": "-kR4C9TJ0xdJ"
   },
   "outputs": [],
   "source": [
    "#!pip install keras==2.3.1"
   ]
  },
  {
   "cell_type": "code",
   "execution_count": 6,
   "metadata": {
    "ExecuteTime": {
     "end_time": "2020-09-16T09:12:36.630094Z",
     "start_time": "2020-09-16T09:12:36.627887Z"
    },
    "colab": {
     "base_uri": "https://localhost:8080/",
     "height": 36
    },
    "colab_type": "code",
    "executionInfo": {
     "elapsed": 859,
     "status": "ok",
     "timestamp": 1598799212041,
     "user": {
      "displayName": "‍조유정[학생](대학원 경영학과)",
      "photoUrl": "",
      "userId": "08462910251745570933"
     },
     "user_tz": -540
    },
    "id": "ad9kboTQqN8r",
    "outputId": "11ca130a-1486-4d2f-b882-f78f12a15a79"
   },
   "outputs": [
    {
     "name": "stdout",
     "output_type": "stream",
     "text": [
      "1.15.0\n"
     ]
    }
   ],
   "source": [
    "print(tf.__version__)"
   ]
  },
  {
   "cell_type": "code",
   "execution_count": null,
   "metadata": {
    "ExecuteTime": {
     "end_time": "2020-09-09T04:59:27.261579Z",
     "start_time": "2020-09-09T04:59:27.260017Z"
    },
    "colab": {
     "base_uri": "https://localhost:8080/",
     "height": 131
    },
    "colab_type": "code",
    "executionInfo": {
     "elapsed": 27123,
     "status": "ok",
     "timestamp": 1598780396377,
     "user": {
      "displayName": "‍조유정[학생](대학원 경영학과)",
      "photoUrl": "",
      "userId": "08462910251745570933"
     },
     "user_tz": -540
    },
    "id": "w2eCCUYdvFqr",
    "outputId": "44360df6-fabe-41ba-eca1-bc9877ba403d"
   },
   "outputs": [],
   "source": [
    "#from google.colab import drive\n",
    "#drive.mount('/content/drive')"
   ]
  },
  {
   "cell_type": "code",
   "execution_count": 7,
   "metadata": {
    "ExecuteTime": {
     "end_time": "2020-09-16T09:12:38.398887Z",
     "start_time": "2020-09-16T09:12:38.395675Z"
    },
    "colab": {
     "base_uri": "https://localhost:8080/",
     "height": 36
    },
    "colab_type": "code",
    "executionInfo": {
     "elapsed": 886,
     "status": "ok",
     "timestamp": 1598799256874,
     "user": {
      "displayName": "‍조유정[학생](대학원 경영학과)",
      "photoUrl": "",
      "userId": "08462910251745570933"
     },
     "user_tz": -540
    },
    "id": "ZMCV8gaD2jMu",
    "outputId": "93699e97-0928-4e7b-daf2-5a3cdff1b8d0"
   },
   "outputs": [
    {
     "data": {
      "text/plain": [
       "'/home/caitech/Desktop/yujung'"
      ]
     },
     "execution_count": 7,
     "metadata": {},
     "output_type": "execute_result"
    }
   ],
   "source": [
    "os.getcwd()"
   ]
  },
  {
   "cell_type": "code",
   "execution_count": null,
   "metadata": {
    "ExecuteTime": {
     "end_time": "2020-09-09T04:59:28.010920Z",
     "start_time": "2020-09-09T04:59:28.004096Z"
    },
    "colab": {},
    "colab_type": "code",
    "executionInfo": {
     "elapsed": 911,
     "status": "ok",
     "timestamp": 1598799252818,
     "user": {
      "displayName": "‍조유정[학생](대학원 경영학과)",
      "photoUrl": "",
      "userId": "08462910251745570933"
     },
     "user_tz": -540
    },
    "id": "rqW9jqeF2q0d"
   },
   "outputs": [],
   "source": [
    "#os.chdir('/content/drive/My Drive/posters')"
   ]
  },
  {
   "cell_type": "code",
   "execution_count": null,
   "metadata": {
    "ExecuteTime": {
     "end_time": "2020-09-09T04:59:28.417039Z",
     "start_time": "2020-09-09T04:59:28.413223Z"
    },
    "colab": {},
    "colab_type": "code",
    "executionInfo": {
     "elapsed": 923,
     "status": "ok",
     "timestamp": 1598781247823,
     "user": {
      "displayName": "‍조유정[학생](대학원 경영학과)",
      "photoUrl": "",
      "userId": "08462910251745570933"
     },
     "user_tz": -540
    },
    "id": "9uLRxOeiwyqf"
   },
   "outputs": [],
   "source": [
    "# !mkdir -p '/content/drive/My Drive/posters'"
   ]
  },
  {
   "cell_type": "code",
   "execution_count": 8,
   "metadata": {
    "ExecuteTime": {
     "end_time": "2020-09-16T09:13:06.224408Z",
     "start_time": "2020-09-16T09:13:06.065536Z"
    },
    "colab": {},
    "colab_type": "code",
    "executionInfo": {
     "elapsed": 27085,
     "status": "ok",
     "timestamp": 1598799304274,
     "user": {
      "displayName": "‍조유정[학생](대학원 경영학과)",
      "photoUrl": "",
      "userId": "08462910251745570933"
     },
     "user_tz": -540
    },
    "id": "vmjd2FERqOHu"
   },
   "outputs": [],
   "source": [
    "#test셋과 train셋으로 데이터 나눔\n",
    "\n",
    "renew_database = 1\n",
    "#파일 처리 - error예방\n",
    "if(renew_database):\n",
    "    if os.path.exists('train'):\n",
    "        shutil.rmtree('train')\n",
    "    if os.path.exists('test'):\n",
    "        shutil.rmtree('test')\n",
    "    if not os.path.exists('train'):\n",
    "        os.mkdir('train')\n",
    "    if not os.path.exists('test'):\n",
    "        os.mkdir('test')\n",
    "\n",
    "\n",
    "\n",
    "    rate=0.1 #분할 비율\n",
    "    \n",
    "    for root_dir in ['0', '1']:\n",
    "        list_file = os.listdir(root_dir)\n",
    "        picknumber=int(len(list_file)*rate) #test이미지 개수\n",
    "        test_pic = random.sample(list_file, picknumber) #test중애서 랜덤으로 뽑기\n",
    "        os.mkdir('train/'+root_dir)\n",
    "        os.mkdir('test/'+root_dir)\n",
    "        for item in list_file:\n",
    "            if item in test_pic:\n",
    "                shutil.copy(root_dir+'/'+item,'test/'+root_dir+'/'+item)\n",
    "            else:  #나머지는 train\n",
    "                shutil.copy(root_dir+'/'+item,'train/'+root_dir+'/'+item)"
   ]
  },
  {
   "cell_type": "code",
   "execution_count": 9,
   "metadata": {
    "ExecuteTime": {
     "end_time": "2020-09-16T09:13:10.925441Z",
     "start_time": "2020-09-16T09:13:10.923315Z"
    },
    "colab": {},
    "colab_type": "code",
    "executionInfo": {
     "elapsed": 931,
     "status": "ok",
     "timestamp": 1598799323150,
     "user": {
      "displayName": "‍조유정[학생](대학원 경영학과)",
      "photoUrl": "",
      "userId": "08462910251745570933"
     },
     "user_tz": -540
    },
    "id": "xL9F184ZqOPo"
   },
   "outputs": [],
   "source": [
    "train_dir = os.path.join('/home/caitech/Desktop/yujung/train/')\n",
    "test_dir = os.path.join('/home/caitech/Desktop/yujung/test/')"
   ]
  },
  {
   "cell_type": "code",
   "execution_count": null,
   "metadata": {
    "ExecuteTime": {
     "end_time": "2020-09-09T04:59:38.805140Z",
     "start_time": "2020-09-09T04:59:38.799823Z"
    },
    "colab": {},
    "colab_type": "code",
    "executionInfo": {
     "elapsed": 1163,
     "status": "ok",
     "timestamp": 1598799325057,
     "user": {
      "displayName": "‍조유정[학생](대학원 경영학과)",
      "photoUrl": "",
      "userId": "08462910251745570933"
     },
     "user_tz": -540
    },
    "id": "lxrpbE3mzE7p"
   },
   "outputs": [],
   "source": [
    "train_datagen = ImageDataGenerator(rescale = 1./255)\n",
    "test_datagen = ImageDataGenerator(rescale=1. / 255)"
   ]
  },
  {
   "cell_type": "code",
   "execution_count": null,
   "metadata": {
    "ExecuteTime": {
     "end_time": "2020-09-09T04:59:39.861715Z",
     "start_time": "2020-09-09T04:59:39.859991Z"
    },
    "colab": {},
    "colab_type": "code",
    "executionInfo": {
     "elapsed": 842,
     "status": "ok",
     "timestamp": 1598799325491,
     "user": {
      "displayName": "‍조유정[학생](대학원 경영학과)",
      "photoUrl": "",
      "userId": "08462910251745570933"
     },
     "user_tz": -540
    },
    "id": "OxP2Q1T1zFFT"
   },
   "outputs": [],
   "source": [
    "IMAGE_SIZE = 224"
   ]
  },
  {
   "cell_type": "code",
   "execution_count": null,
   "metadata": {
    "ExecuteTime": {
     "end_time": "2020-09-09T04:59:40.419496Z",
     "start_time": "2020-09-09T04:59:40.307621Z"
    },
    "colab": {
     "base_uri": "https://localhost:8080/",
     "height": 36
    },
    "colab_type": "code",
    "executionInfo": {
     "elapsed": 1037,
     "status": "ok",
     "timestamp": 1598799331521,
     "user": {
      "displayName": "‍조유정[학생](대학원 경영학과)",
      "photoUrl": "",
      "userId": "08462910251745570933"
     },
     "user_tz": -540
    },
    "id": "ht2YmUAMzOUJ",
    "outputId": "1706adad-a07d-479b-dc14-4c74b59ff8ed"
   },
   "outputs": [],
   "source": [
    "#데이터를 읽고 이미지를 한번에 넣은 개수_train\n",
    "train_generator = train_datagen.flow_from_directory(train_dir, target_size=(IMAGE_SIZE, IMAGE_SIZE),batch_size = 40,class_mode='binary')"
   ]
  },
  {
   "cell_type": "code",
   "execution_count": null,
   "metadata": {
    "ExecuteTime": {
     "end_time": "2020-09-09T04:59:41.254925Z",
     "start_time": "2020-09-09T04:59:41.141013Z"
    },
    "colab": {
     "base_uri": "https://localhost:8080/",
     "height": 36
    },
    "colab_type": "code",
    "executionInfo": {
     "elapsed": 992,
     "status": "ok",
     "timestamp": 1598799333078,
     "user": {
      "displayName": "‍조유정[학생](대학원 경영학과)",
      "photoUrl": "",
      "userId": "08462910251745570933"
     },
     "user_tz": -540
    },
    "id": "WIoZXMKTzOXi",
    "outputId": "11b6c3b3-75bb-4912-e04d-6cc20ac14851"
   },
   "outputs": [],
   "source": [
    "#데이터를 읽고 이미지를 한번에 넣은 개수_validation\n",
    "test_generator = test_datagen.flow_from_directory(test_dir, target_size=(IMAGE_SIZE, IMAGE_SIZE),batch_size = 10, class_mode='binary')"
   ]
  },
  {
   "cell_type": "code",
   "execution_count": null,
   "metadata": {
    "ExecuteTime": {
     "end_time": "2020-09-09T05:33:28.471147Z",
     "start_time": "2020-09-09T05:33:28.467998Z"
    }
   },
   "outputs": [],
   "source": [
    "print(len(os.listdir(train_dir+'./1_down')))\n",
    "print(len(os.listdir(train_dir+'/0')))"
   ]
  },
  {
   "cell_type": "code",
   "execution_count": null,
   "metadata": {
    "ExecuteTime": {
     "end_time": "2020-09-09T05:55:04.057301Z",
     "start_time": "2020-09-09T05:55:04.046561Z"
    }
   },
   "outputs": [],
   "source": [
    "math.ceil(train_generator.n / train_generator.batch_size)"
   ]
  },
  {
   "cell_type": "code",
   "execution_count": null,
   "metadata": {
    "ExecuteTime": {
     "end_time": "2020-09-09T05:54:21.313855Z",
     "start_time": "2020-09-09T05:54:21.302672Z"
    }
   },
   "outputs": [],
   "source": [
    "math.ceil(train_generator.n / train_generator.batch_size)"
   ]
  },
  {
   "cell_type": "code",
   "execution_count": null,
   "metadata": {
    "ExecuteTime": {
     "end_time": "2020-09-07T09:28:48.040518Z",
     "start_time": "2020-09-07T09:28:47.152445Z"
    },
    "colab": {
     "base_uri": "https://localhost:8080/",
     "height": 93
    },
    "colab_type": "code",
    "executionInfo": {
     "elapsed": 2456,
     "status": "ok",
     "timestamp": 1598799338926,
     "user": {
      "displayName": "‍조유정[학생](대학원 경영학과)",
      "photoUrl": "",
      "userId": "08462910251745570933"
     },
     "user_tz": -540
    },
    "id": "93CVM26SzOa1",
    "outputId": "218b3582-7e77-4708-f352-086da2275eb2"
   },
   "outputs": [],
   "source": [
    "#vgg model생성\n",
    "pre_trained_vgg = VGG16(weights = 'imagenet',include_top = False,input_shape = (224,224,3))"
   ]
  },
  {
   "cell_type": "code",
   "execution_count": null,
   "metadata": {
    "ExecuteTime": {
     "end_time": "2020-09-07T09:28:48.043251Z",
     "start_time": "2020-09-07T09:28:48.041634Z"
    },
    "colab": {},
    "colab_type": "code",
    "executionInfo": {
     "elapsed": 1020,
     "status": "ok",
     "timestamp": 1598799341317,
     "user": {
      "displayName": "‍조유정[학생](대학원 경영학과)",
      "photoUrl": "",
      "userId": "08462910251745570933"
     },
     "user_tz": -540
    },
    "id": "G_uvJI5uzOd3"
   },
   "outputs": [],
   "source": [
    "#pre_trained_vgg.summary()"
   ]
  },
  {
   "cell_type": "code",
   "execution_count": null,
   "metadata": {
    "ExecuteTime": {
     "end_time": "2020-09-07T09:28:48.738742Z",
     "start_time": "2020-09-07T09:28:48.736486Z"
    },
    "colab": {},
    "colab_type": "code",
    "executionInfo": {
     "elapsed": 867,
     "status": "ok",
     "timestamp": 1598799346382,
     "user": {
      "displayName": "‍조유정[학생](대학원 경영학과)",
      "photoUrl": "",
      "userId": "08462910251745570933"
     },
     "user_tz": -540
    },
    "id": "SQay-WSozUBc"
   },
   "outputs": [],
   "source": [
    "for layer in pre_trained_vgg.layers:\n",
    "    layer.trainable = False"
   ]
  },
  {
   "cell_type": "code",
   "execution_count": null,
   "metadata": {
    "ExecuteTime": {
     "end_time": "2020-09-07T09:28:51.206719Z",
     "start_time": "2020-09-07T09:28:51.088552Z"
    },
    "colab": {
     "base_uri": "https://localhost:8080/",
     "height": 503
    },
    "colab_type": "code",
    "executionInfo": {
     "elapsed": 878,
     "status": "ok",
     "timestamp": 1598799348145,
     "user": {
      "displayName": "‍조유정[학생](대학원 경영학과)",
      "photoUrl": "",
      "userId": "08462910251745570933"
     },
     "user_tz": -540
    },
    "id": "PPzGicj4zUFC",
    "outputId": "d149e386-8128-46e0-a009-59d26cdc9d3e"
   },
   "outputs": [],
   "source": [
    "vgg_model = tf.keras.Sequential()\n",
    "vgg_model.add(pre_trained_vgg)\n",
    "vgg_model.add(layers.Flatten())\n",
    "vgg_model.add(layers.Dense(1024,activation = 'relu'))\n",
    "vgg_model.add(Dropout(0.5))\n",
    "vgg_model.add(layers.Dense(512,activation = 'relu'))\n",
    "vgg_model.add(Dropout(0.5))\n",
    "vgg_model.add(layers.Dense(256,activation = 'relu'))\n",
    "vgg_model.add(Dropout(0.5))\n",
    "vgg_model.add(layers.Dense(2,activation = 'softmax'))\n",
    "\n",
    "vgg_model.summary()"
   ]
  },
  {
   "cell_type": "code",
   "execution_count": null,
   "metadata": {
    "ExecuteTime": {
     "end_time": "2020-09-07T09:28:51.970315Z",
     "start_time": "2020-09-07T09:28:51.968407Z"
    },
    "colab": {},
    "colab_type": "code",
    "executionInfo": {
     "elapsed": 894,
     "status": "ok",
     "timestamp": 1598799451892,
     "user": {
      "displayName": "‍조유정[학생](대학원 경영학과)",
      "photoUrl": "",
      "userId": "08462910251745570933"
     },
     "user_tz": -540
    },
    "id": "_zH0otVozUI3"
   },
   "outputs": [],
   "source": [
    "early_stopping = EarlyStopping(patience = 30)"
   ]
  },
  {
   "cell_type": "code",
   "execution_count": null,
   "metadata": {
    "ExecuteTime": {
     "end_time": "2020-09-07T09:28:53.286681Z",
     "start_time": "2020-09-07T09:28:53.256929Z"
    },
    "colab": {},
    "colab_type": "code",
    "executionInfo": {
     "elapsed": 920,
     "status": "ok",
     "timestamp": 1598799454314,
     "user": {
      "displayName": "‍조유정[학생](대학원 경영학과)",
      "photoUrl": "",
      "userId": "08462910251745570933"
     },
     "user_tz": -540
    },
    "id": "xRHGUlk3268N"
   },
   "outputs": [],
   "source": [
    "vgg_model.compile(optimizer = 'adam',\n",
    "             loss = 'sparse_categorical_crossentropy',\n",
    "             metrics = ['accuracy'])"
   ]
  },
  {
   "cell_type": "code",
   "execution_count": null,
   "metadata": {
    "ExecuteTime": {
     "end_time": "2020-09-07T09:33:45.418942Z",
     "start_time": "2020-09-07T09:29:02.259659Z"
    },
    "colab": {
     "base_uri": "https://localhost:8080/",
     "height": 1000
    },
    "colab_type": "code",
    "executionInfo": {
     "elapsed": 501864,
     "status": "ok",
     "timestamp": 1598799966329,
     "user": {
      "displayName": "‍조유정[학생](대학원 경영학과)",
      "photoUrl": "",
      "userId": "08462910251745570933"
     },
     "user_tz": -540
    },
    "id": "a8zZJFiY27As",
    "outputId": "47e961f0-d6cb-4ea2-c870-61e043d72c22"
   },
   "outputs": [],
   "source": [
    "history_vgg = vgg_model.fit_generator(\n",
    "        train_generator,\n",
    "        steps_per_epoch = math.ceil(train_generator.n / train_generator.batch_size),\n",
    "        epochs=100,\n",
    "        validation_data=test_generator,\n",
    "        validation_steps = math.ceil(test_generator.n / test_generator.batch_size),\n",
    "        callbacks = [early_stopping]\n",
    "        )"
   ]
  },
  {
   "cell_type": "code",
   "execution_count": null,
   "metadata": {
    "ExecuteTime": {
     "end_time": "2020-09-07T11:08:52.853583Z",
     "start_time": "2020-09-07T11:08:51.823625Z"
    },
    "colab": {},
    "colab_type": "code",
    "executionInfo": {
     "elapsed": 2906,
     "status": "ok",
     "timestamp": 1598800137640,
     "user": {
      "displayName": "‍조유정[학생](대학원 경영학과)",
      "photoUrl": "",
      "userId": "08462910251745570933"
     },
     "user_tz": -540
    },
    "id": "kh8IwXD527IM"
   },
   "outputs": [],
   "source": [
    "scores = vgg_model.evaluate_generator(test_generator, steps=math.ceil(test_generator.n / test_generator.batch_size))"
   ]
  },
  {
   "cell_type": "code",
   "execution_count": null,
   "metadata": {
    "ExecuteTime": {
     "end_time": "2020-09-07T11:08:56.349605Z",
     "start_time": "2020-09-07T11:08:56.346278Z"
    },
    "colab": {
     "base_uri": "https://localhost:8080/",
     "height": 36
    },
    "colab_type": "code",
    "executionInfo": {
     "elapsed": 969,
     "status": "ok",
     "timestamp": 1598800140609,
     "user": {
      "displayName": "‍조유정[학생](대학원 경영학과)",
      "photoUrl": "",
      "userId": "08462910251745570933"
     },
     "user_tz": -540
    },
    "id": "O3liS_nwCXGR",
    "outputId": "80c2fc93-5bf0-4c30-9ae7-c507834ff055"
   },
   "outputs": [],
   "source": [
    "scores"
   ]
  },
  {
   "cell_type": "code",
   "execution_count": null,
   "metadata": {
    "ExecuteTime": {
     "end_time": "2020-09-07T11:09:01.997073Z",
     "start_time": "2020-09-07T11:09:01.994089Z"
    },
    "colab": {},
    "colab_type": "code",
    "executionInfo": {
     "elapsed": 938,
     "status": "ok",
     "timestamp": 1598800148031,
     "user": {
      "displayName": "‍조유정[학생](대학원 경영학과)",
      "photoUrl": "",
      "userId": "08462910251745570933"
     },
     "user_tz": -540
    },
    "id": "BsD_fMClDWuC"
   },
   "outputs": [],
   "source": [
    "import pandas as pd\n",
    "history_vgg_df = pd.DataFrame(history_vgg.history)\n",
    "scores_df = pd.DataFrame(scores)"
   ]
  },
  {
   "cell_type": "code",
   "execution_count": null,
   "metadata": {
    "ExecuteTime": {
     "end_time": "2020-09-07T11:09:02.915535Z",
     "start_time": "2020-09-07T11:09:02.818165Z"
    },
    "colab": {},
    "colab_type": "code",
    "executionInfo": {
     "elapsed": 988,
     "status": "ok",
     "timestamp": 1598800152459,
     "user": {
      "displayName": "‍조유정[학생](대학원 경영학과)",
      "photoUrl": "",
      "userId": "08462910251745570933"
     },
     "user_tz": -540
    },
    "id": "SfeB3OpKDW2o"
   },
   "outputs": [],
   "source": [
    "history_vgg_df.to_excel('./down_batch40_10_e100/vgg_history.xlsx')\n",
    "scores_df.to_excel('./down_batch40_10_e100/vgg_scores.xlsx')"
   ]
  },
  {
   "cell_type": "code",
   "execution_count": null,
   "metadata": {
    "ExecuteTime": {
     "end_time": "2020-09-07T11:09:10.243517Z",
     "start_time": "2020-09-07T11:09:10.241955Z"
    },
    "colab": {
     "base_uri": "https://localhost:8080/",
     "height": 391
    },
    "colab_type": "code",
    "executionInfo": {
     "elapsed": 956,
     "status": "ok",
     "timestamp": 1598800154065,
     "user": {
      "displayName": "‍조유정[학생](대학원 경영학과)",
      "photoUrl": "",
      "userId": "08462910251745570933"
     },
     "user_tz": -540
    },
    "id": "w-fp58DM9fWM",
    "outputId": "ad07a697-9951-419d-bb72-89dab7459206"
   },
   "outputs": [],
   "source": [
    "#!nvidia-smi"
   ]
  },
  {
   "cell_type": "code",
   "execution_count": null,
   "metadata": {
    "ExecuteTime": {
     "end_time": "2020-09-07T11:09:15.240111Z",
     "start_time": "2020-09-07T11:09:14.234343Z"
    },
    "colab": {},
    "colab_type": "code",
    "executionInfo": {
     "elapsed": 3242,
     "status": "ok",
     "timestamp": 1598800216807,
     "user": {
      "displayName": "‍조유정[학생](대학원 경영학과)",
      "photoUrl": "",
      "userId": "08462910251745570933"
     },
     "user_tz": -540
    },
    "id": "DqjB1nHd3CXa"
   },
   "outputs": [],
   "source": [
    "#Confution Matrix and Classification Report\n",
    "#Y_pred = model.predict_generator(validation_generator, num_of_test_samples // batch_size+1)\n",
    "Y_pred = vgg_model.predict_generator(test_generator, math.ceil(test_generator.n / test_generator.batch_size))\n",
    "y_pred = np.argmax(Y_pred, axis=1)"
   ]
  },
  {
   "cell_type": "code",
   "execution_count": null,
   "metadata": {
    "ExecuteTime": {
     "end_time": "2020-09-07T11:09:16.124217Z",
     "start_time": "2020-09-07T11:09:16.121697Z"
    },
    "colab": {
     "base_uri": "https://localhost:8080/",
     "height": 36
    },
    "colab_type": "code",
    "executionInfo": {
     "elapsed": 898,
     "status": "ok",
     "timestamp": 1598800219492,
     "user": {
      "displayName": "‍조유정[학생](대학원 경영학과)",
      "photoUrl": "",
      "userId": "08462910251745570933"
     },
     "user_tz": -540
    },
    "id": "73UHKKyF3Cac",
    "outputId": "9d3d1327-63af-4bfe-ca7d-e298144ce3a7"
   },
   "outputs": [],
   "source": [
    "len(y_pred)"
   ]
  },
  {
   "cell_type": "code",
   "execution_count": null,
   "metadata": {
    "ExecuteTime": {
     "end_time": "2020-09-07T11:09:18.075218Z",
     "start_time": "2020-09-07T11:09:18.073621Z"
    },
    "colab": {
     "base_uri": "https://localhost:8080/",
     "height": 36
    },
    "colab_type": "code",
    "executionInfo": {
     "elapsed": 911,
     "status": "ok",
     "timestamp": 1598785963107,
     "user": {
      "displayName": "‍조유정[학생](대학원 경영학과)",
      "photoUrl": "",
      "userId": "08462910251745570933"
     },
     "user_tz": -540
    },
    "id": "kkE_-gTX3CdK",
    "outputId": "2e035004-7797-44ec-b9d2-7057809dd97e"
   },
   "outputs": [],
   "source": [
    "#y_pred"
   ]
  },
  {
   "cell_type": "code",
   "execution_count": null,
   "metadata": {
    "ExecuteTime": {
     "end_time": "2020-09-07T11:09:19.731250Z",
     "start_time": "2020-09-07T11:09:19.728176Z"
    },
    "colab": {
     "base_uri": "https://localhost:8080/",
     "height": 92
    },
    "colab_type": "code",
    "executionInfo": {
     "elapsed": 1028,
     "status": "ok",
     "timestamp": 1598800229541,
     "user": {
      "displayName": "‍조유정[학생](대학원 경영학과)",
      "photoUrl": "",
      "userId": "08462910251745570933"
     },
     "user_tz": -540
    },
    "id": "ZfiuCyor3CgO",
    "outputId": "c45be644-967c-460f-df3a-5e2df2569b9b"
   },
   "outputs": [],
   "source": [
    "print('Confusion Matrix')\n",
    "print(confusion_matrix(test_generator.classes, y_pred))\n",
    "print('Classification Report')"
   ]
  },
  {
   "cell_type": "code",
   "execution_count": null,
   "metadata": {
    "ExecuteTime": {
     "end_time": "2020-09-07T11:09:22.167599Z",
     "start_time": "2020-09-07T11:09:22.161735Z"
    },
    "colab": {
     "base_uri": "https://localhost:8080/",
     "height": 185
    },
    "colab_type": "code",
    "executionInfo": {
     "elapsed": 910,
     "status": "ok",
     "timestamp": 1598800231758,
     "user": {
      "displayName": "‍조유정[학생](대학원 경영학과)",
      "photoUrl": "",
      "userId": "08462910251745570933"
     },
     "user_tz": -540
    },
    "id": "xr0mgEFy3Ci1",
    "outputId": "3436f207-d866-4470-bcf8-58c05cb6b298"
   },
   "outputs": [],
   "source": [
    "#target_names = ['Cats', 'Dogs', 'Horse']\n",
    "target_names = ['0', '1']\n",
    "print(classification_report(test_generator.classes, y_pred, target_names=target_names))"
   ]
  },
  {
   "cell_type": "code",
   "execution_count": null,
   "metadata": {
    "ExecuteTime": {
     "end_time": "2020-09-07T11:09:31.197845Z",
     "start_time": "2020-09-07T11:09:31.193510Z"
    },
    "colab": {},
    "colab_type": "code",
    "executionInfo": {
     "elapsed": 910,
     "status": "ok",
     "timestamp": 1598800243013,
     "user": {
      "displayName": "‍조유정[학생](대학원 경영학과)",
      "photoUrl": "",
      "userId": "08462910251745570933"
     },
     "user_tz": -540
    },
    "id": "aKDdR3MOEj9r"
   },
   "outputs": [],
   "source": [
    "vgg_report = classification_report(test_generator.classes, y_pred, target_names=target_names,output_dict=True)"
   ]
  },
  {
   "cell_type": "code",
   "execution_count": null,
   "metadata": {
    "ExecuteTime": {
     "end_time": "2020-09-07T11:09:39.532891Z",
     "start_time": "2020-09-07T11:09:39.529777Z"
    },
    "colab": {},
    "colab_type": "code",
    "executionInfo": {
     "elapsed": 924,
     "status": "ok",
     "timestamp": 1598800251912,
     "user": {
      "displayName": "‍조유정[학생](대학원 경영학과)",
      "photoUrl": "",
      "userId": "08462910251745570933"
     },
     "user_tz": -540
    },
    "id": "U7eiEg23E1_m"
   },
   "outputs": [],
   "source": [
    "vgg_report_df = pd.DataFrame(vgg_report).transpose()"
   ]
  },
  {
   "cell_type": "code",
   "execution_count": null,
   "metadata": {
    "ExecuteTime": {
     "end_time": "2020-09-07T11:09:45.771861Z",
     "start_time": "2020-09-07T11:09:45.757347Z"
    },
    "colab": {},
    "colab_type": "code",
    "executionInfo": {
     "elapsed": 1028,
     "status": "ok",
     "timestamp": 1598800253639,
     "user": {
      "displayName": "‍조유정[학생](대학원 경영학과)",
      "photoUrl": "",
      "userId": "08462910251745570933"
     },
     "user_tz": -540
    },
    "id": "12fU2qTFE70R"
   },
   "outputs": [],
   "source": [
    "vgg_report_df.to_excel('./down_batch40_10_e100/vgg_report.xlsx')"
   ]
  },
  {
   "cell_type": "code",
   "execution_count": null,
   "metadata": {
    "ExecuteTime": {
     "end_time": "2020-09-07T11:09:53.141951Z",
     "start_time": "2020-09-07T11:09:53.001846Z"
    },
    "colab": {
     "base_uri": "https://localhost:8080/",
     "height": 300
    },
    "colab_type": "code",
    "executionInfo": {
     "elapsed": 1062,
     "status": "ok",
     "timestamp": 1598800255873,
     "user": {
      "displayName": "‍조유정[학생](대학원 경영학과)",
      "photoUrl": "",
      "userId": "08462910251745570933"
     },
     "user_tz": -540
    },
    "id": "MHOLy7m0MAz0",
    "outputId": "3a340850-7e32-40f2-de9b-9db55d2c3a4e"
   },
   "outputs": [],
   "source": [
    "epochs = range(len(history_vgg.history['acc']))\n",
    "\n",
    "plt.plot(epochs,history_vgg.history['acc'], label='Training acc')\n",
    "plt.plot(epochs, history_vgg.history['val_acc'],label='Validation acc')\n",
    "plt.title('Training and validation accuracy')\n",
    "plt.legend()"
   ]
  },
  {
   "cell_type": "code",
   "execution_count": null,
   "metadata": {
    "ExecuteTime": {
     "end_time": "2020-09-07T11:09:54.302621Z",
     "start_time": "2020-09-07T11:09:54.193968Z"
    },
    "colab": {
     "base_uri": "https://localhost:8080/",
     "height": 300
    },
    "colab_type": "code",
    "executionInfo": {
     "elapsed": 1417,
     "status": "ok",
     "timestamp": 1598800262568,
     "user": {
      "displayName": "‍조유정[학생](대학원 경영학과)",
      "photoUrl": "",
      "userId": "08462910251745570933"
     },
     "user_tz": -540
    },
    "id": "3aCNMrnKOEMz",
    "outputId": "a2f63618-dd62-4104-bd96-5481a7970071"
   },
   "outputs": [],
   "source": [
    "#plt.figure()\n",
    "plt.plot(epochs,history_vgg.history['loss'],label='Training loss')\n",
    "plt.plot(epochs,history_vgg.history['val_loss'], label='Validation loss')\n",
    "plt.title('Training and validation loss')\n",
    "plt.legend()\n",
    "\n",
    "#plt.show()"
   ]
  },
  {
   "cell_type": "markdown",
   "metadata": {
    "colab_type": "text",
    "id": "4vMeWPDzOKCs"
   },
   "source": [
    "Inception-V3"
   ]
  },
  {
   "cell_type": "code",
   "execution_count": null,
   "metadata": {
    "ExecuteTime": {
     "end_time": "2020-09-07T11:09:59.276896Z",
     "start_time": "2020-09-07T11:09:59.273709Z"
    },
    "colab": {},
    "colab_type": "code",
    "executionInfo": {
     "elapsed": 1287,
     "status": "ok",
     "timestamp": 1598800294623,
     "user": {
      "displayName": "‍조유정[학생](대학원 경영학과)",
      "photoUrl": "",
      "userId": "08462910251745570933"
     },
     "user_tz": -540
    },
    "id": "81Q9iJIBOJXf"
   },
   "outputs": [],
   "source": [
    "from tensorflow.keras.applications.inception_v3 import InceptionV3\n",
    "from tensorflow.keras.preprocessing import image\n",
    "from tensorflow.keras.layers import Dense, GlobalAveragePooling2D\n",
    "from tensorflow.keras import backend as K\n",
    "from tensorflow.keras.optimizers import RMSprop"
   ]
  },
  {
   "cell_type": "code",
   "execution_count": null,
   "metadata": {
    "ExecuteTime": {
     "end_time": "2020-09-07T11:10:00.515993Z",
     "start_time": "2020-09-07T11:10:00.513827Z"
    },
    "colab": {},
    "colab_type": "code",
    "executionInfo": {
     "elapsed": 1531,
     "status": "ok",
     "timestamp": 1598800297350,
     "user": {
      "displayName": "‍조유정[학생](대학원 경영학과)",
      "photoUrl": "",
      "userId": "08462910251745570933"
     },
     "user_tz": -540
    },
    "id": "OFu2HDDkOJar"
   },
   "outputs": [],
   "source": [
    "#크기조절\n",
    "train_datagen = ImageDataGenerator(rescale=1. / 255)\n",
    "test_datagen = ImageDataGenerator(rescale=1. / 255)"
   ]
  },
  {
   "cell_type": "code",
   "execution_count": null,
   "metadata": {
    "ExecuteTime": {
     "end_time": "2020-09-07T11:10:01.739577Z",
     "start_time": "2020-09-07T11:10:01.737715Z"
    },
    "colab": {},
    "colab_type": "code",
    "executionInfo": {
     "elapsed": 858,
     "status": "ok",
     "timestamp": 1598800297735,
     "user": {
      "displayName": "‍조유정[학생](대학원 경영학과)",
      "photoUrl": "",
      "userId": "08462910251745570933"
     },
     "user_tz": -540
    },
    "id": "ZwVTNGJiOJe3"
   },
   "outputs": [],
   "source": [
    "IMAGE_SIZE = 299"
   ]
  },
  {
   "cell_type": "code",
   "execution_count": null,
   "metadata": {
    "ExecuteTime": {
     "end_time": "2020-09-07T11:10:07.147334Z",
     "start_time": "2020-09-07T11:10:07.038516Z"
    },
    "colab": {
     "base_uri": "https://localhost:8080/",
     "height": 36
    },
    "colab_type": "code",
    "executionInfo": {
     "elapsed": 867,
     "status": "ok",
     "timestamp": 1598800310628,
     "user": {
      "displayName": "‍조유정[학생](대학원 경영학과)",
      "photoUrl": "",
      "userId": "08462910251745570933"
     },
     "user_tz": -540
    },
    "id": "n8Run5MIOXDP",
    "outputId": "2127eb84-d3d5-45e8-bb24-e89850517bd8"
   },
   "outputs": [],
   "source": [
    "#데이터를 읽고 이미지를 한번에 넣은 개수_train\n",
    "train_generator = train_datagen.flow_from_directory(train_dir, target_size=(IMAGE_SIZE, IMAGE_SIZE), batch_size=40,\n",
    "                                                        class_mode='binary')"
   ]
  },
  {
   "cell_type": "code",
   "execution_count": null,
   "metadata": {
    "ExecuteTime": {
     "end_time": "2020-09-07T11:10:08.246017Z",
     "start_time": "2020-09-07T11:10:08.138031Z"
    },
    "colab": {
     "base_uri": "https://localhost:8080/",
     "height": 36
    },
    "colab_type": "code",
    "executionInfo": {
     "elapsed": 1313,
     "status": "ok",
     "timestamp": 1598800313039,
     "user": {
      "displayName": "‍조유정[학생](대학원 경영학과)",
      "photoUrl": "",
      "userId": "08462910251745570933"
     },
     "user_tz": -540
    },
    "id": "l5F4EdAnOXGO",
    "outputId": "703dbd97-471c-4c99-f4e7-187385146bd1"
   },
   "outputs": [],
   "source": [
    "test_generator = test_datagen.flow_from_directory(test_dir, target_size = (IMAGE_SIZE,IMAGE_SIZE),batch_size = 10,\n",
    "                                                 class_mode = 'binary')"
   ]
  },
  {
   "cell_type": "code",
   "execution_count": null,
   "metadata": {
    "ExecuteTime": {
     "end_time": "2020-09-07T11:10:15.515488Z",
     "start_time": "2020-09-07T11:10:09.658254Z"
    },
    "colab": {},
    "colab_type": "code",
    "executionInfo": {
     "elapsed": 10438,
     "status": "ok",
     "timestamp": 1598800324991,
     "user": {
      "displayName": "‍조유정[학생](대학원 경영학과)",
      "photoUrl": "",
      "userId": "08462910251745570933"
     },
     "user_tz": -540
    },
    "id": "0-mwoaVgOXJJ"
   },
   "outputs": [],
   "source": [
    "pre_inceptionV3 = InceptionV3(weights = 'imagenet',include_top=False,input_shape = (299,299,3))"
   ]
  },
  {
   "cell_type": "code",
   "execution_count": null,
   "metadata": {
    "ExecuteTime": {
     "end_time": "2020-09-04T10:39:13.895277Z",
     "start_time": "2020-09-04T10:39:13.893728Z"
    },
    "colab": {},
    "colab_type": "code",
    "executionInfo": {
     "elapsed": 9601,
     "status": "ok",
     "timestamp": 1598800324992,
     "user": {
      "displayName": "‍조유정[학생](대학원 경영학과)",
      "photoUrl": "",
      "userId": "08462910251745570933"
     },
     "user_tz": -540
    },
    "id": "xUzgzzbVOXME"
   },
   "outputs": [],
   "source": [
    "# pre_inceptionV3.summary()"
   ]
  },
  {
   "cell_type": "code",
   "execution_count": null,
   "metadata": {
    "ExecuteTime": {
     "end_time": "2020-09-07T11:11:13.383221Z",
     "start_time": "2020-09-07T11:11:11.434208Z"
    },
    "colab": {},
    "colab_type": "code",
    "executionInfo": {
     "elapsed": 12714,
     "status": "ok",
     "timestamp": 1598800328671,
     "user": {
      "displayName": "‍조유정[학생](대학원 경영학과)",
      "photoUrl": "",
      "userId": "08462910251745570933"
     },
     "user_tz": -540
    },
    "id": "4GkZU8uNOemg"
   },
   "outputs": [],
   "source": [
    "v3_model = tf.keras.Sequential()\n",
    "v3_model.add(pre_inceptionV3)\n",
    "v3_model.add(layers.GlobalAveragePooling2D())\n",
    "v3_model.add(layers.Dense(2,activation = 'softmax'))"
   ]
  },
  {
   "cell_type": "code",
   "execution_count": null,
   "metadata": {
    "ExecuteTime": {
     "end_time": "2020-09-07T11:11:15.051876Z",
     "start_time": "2020-09-07T11:11:15.050183Z"
    },
    "colab": {
     "base_uri": "https://localhost:8080/",
     "height": 279
    },
    "colab_type": "code",
    "executionInfo": {
     "elapsed": 1019,
     "status": "ok",
     "timestamp": 1598788922754,
     "user": {
      "displayName": "‍조유정[학생](대학원 경영학과)",
      "photoUrl": "",
      "userId": "08462910251745570933"
     },
     "user_tz": -540
    },
    "id": "Aco4ohBGOevP",
    "outputId": "39c63963-bc0e-4505-c928-952cdc6fc156"
   },
   "outputs": [],
   "source": [
    "#v3_model.summary()"
   ]
  },
  {
   "cell_type": "code",
   "execution_count": null,
   "metadata": {
    "ExecuteTime": {
     "end_time": "2020-09-07T11:11:15.797371Z",
     "start_time": "2020-09-07T11:11:15.794228Z"
    },
    "colab": {},
    "colab_type": "code",
    "executionInfo": {
     "elapsed": 998,
     "status": "ok",
     "timestamp": 1598800352591,
     "user": {
      "displayName": "‍조유정[학생](대학원 경영학과)",
      "photoUrl": "",
      "userId": "08462910251745570933"
     },
     "user_tz": -540
    },
    "id": "adZzmG3EOeyZ"
   },
   "outputs": [],
   "source": [
    "from tensorflow.keras.optimizers import RMSprop"
   ]
  },
  {
   "cell_type": "code",
   "execution_count": null,
   "metadata": {
    "ExecuteTime": {
     "end_time": "2020-09-07T11:11:19.264104Z",
     "start_time": "2020-09-07T11:11:19.257926Z"
    },
    "colab": {},
    "colab_type": "code",
    "executionInfo": {
     "elapsed": 681,
     "status": "ok",
     "timestamp": 1598800353528,
     "user": {
      "displayName": "‍조유정[학생](대학원 경영학과)",
      "photoUrl": "",
      "userId": "08462910251745570933"
     },
     "user_tz": -540
    },
    "id": "Jg4WaaJFOe36"
   },
   "outputs": [],
   "source": [
    "for layer in pre_inceptionV3.layers:\n",
    "    layer.trainable = False"
   ]
  },
  {
   "cell_type": "code",
   "execution_count": null,
   "metadata": {
    "ExecuteTime": {
     "end_time": "2020-09-07T11:11:20.908164Z",
     "start_time": "2020-09-07T11:11:20.906263Z"
    },
    "colab": {},
    "colab_type": "code",
    "executionInfo": {
     "elapsed": 902,
     "status": "ok",
     "timestamp": 1598800366327,
     "user": {
      "displayName": "‍조유정[학생](대학원 경영학과)",
      "photoUrl": "",
      "userId": "08462910251745570933"
     },
     "user_tz": -540
    },
    "id": "VCtaZWxyPiFl"
   },
   "outputs": [],
   "source": [
    "early_stopping = EarlyStopping(patience =30)"
   ]
  },
  {
   "cell_type": "code",
   "execution_count": null,
   "metadata": {
    "ExecuteTime": {
     "end_time": "2020-09-07T11:11:21.383899Z",
     "start_time": "2020-09-07T11:11:21.297538Z"
    },
    "colab": {},
    "colab_type": "code",
    "executionInfo": {
     "elapsed": 853,
     "status": "ok",
     "timestamp": 1598800376471,
     "user": {
      "displayName": "‍조유정[학생](대학원 경영학과)",
      "photoUrl": "",
      "userId": "08462910251745570933"
     },
     "user_tz": -540
    },
    "id": "kCJg77HVPiIq"
   },
   "outputs": [],
   "source": [
    "v3_model.compile(loss='sparse_categorical_crossentropy', \n",
    "              optimizer='adam',\n",
    "              #optimizer = 'RMSprop',\n",
    "              metrics=['accuracy'],\n",
    "             )"
   ]
  },
  {
   "cell_type": "code",
   "execution_count": null,
   "metadata": {
    "ExecuteTime": {
     "end_time": "2020-09-07T11:15:02.941153Z",
     "start_time": "2020-09-07T11:11:30.310033Z"
    },
    "colab": {
     "base_uri": "https://localhost:8080/",
     "height": 1000
    },
    "colab_type": "code",
    "executionInfo": {
     "elapsed": 447973,
     "status": "ok",
     "timestamp": 1598800840862,
     "user": {
      "displayName": "‍조유정[학생](대학원 경영학과)",
      "photoUrl": "",
      "userId": "08462910251745570933"
     },
     "user_tz": -540
    },
    "id": "__VmbW0uPiMQ",
    "outputId": "688da73c-2043-4096-95a9-011b5c8ef259"
   },
   "outputs": [],
   "source": [
    "history_inceptionv3= v3_model.fit_generator(\n",
    "        train_generator,\n",
    "        steps_per_epoch=23,\n",
    "        epochs=100,\n",
    "        validation_data=test_generator,\n",
    "        validation_steps= 10,\n",
    "        callbacks = [early_stopping]\n",
    "        )"
   ]
  },
  {
   "cell_type": "code",
   "execution_count": null,
   "metadata": {
    "ExecuteTime": {
     "end_time": "2020-09-07T11:23:11.863540Z",
     "start_time": "2020-09-07T11:23:10.944882Z"
    },
    "colab": {},
    "colab_type": "code",
    "executionInfo": {
     "elapsed": 2849,
     "status": "ok",
     "timestamp": 1598800928973,
     "user": {
      "displayName": "‍조유정[학생](대학원 경영학과)",
      "photoUrl": "",
      "userId": "08462910251745570933"
     },
     "user_tz": -540
    },
    "id": "DCXH3dAiQJcq"
   },
   "outputs": [],
   "source": [
    "v3_scores = v3_model.evaluate_generator(test_generator, steps=10)"
   ]
  },
  {
   "cell_type": "code",
   "execution_count": null,
   "metadata": {
    "ExecuteTime": {
     "end_time": "2020-09-07T11:23:13.429105Z",
     "start_time": "2020-09-07T11:23:13.426709Z"
    },
    "colab": {
     "base_uri": "https://localhost:8080/",
     "height": 36
    },
    "colab_type": "code",
    "executionInfo": {
     "elapsed": 900,
     "status": "ok",
     "timestamp": 1598800932166,
     "user": {
      "displayName": "‍조유정[학생](대학원 경영학과)",
      "photoUrl": "",
      "userId": "08462910251745570933"
     },
     "user_tz": -540
    },
    "id": "HdGVkCi4QJgC",
    "outputId": "fa325081-113a-41e9-b4a4-2eb6b9b00d42"
   },
   "outputs": [],
   "source": [
    "v3_scores"
   ]
  },
  {
   "cell_type": "code",
   "execution_count": null,
   "metadata": {
    "ExecuteTime": {
     "end_time": "2020-09-07T11:23:15.549681Z",
     "start_time": "2020-09-07T11:23:15.546894Z"
    },
    "colab": {},
    "colab_type": "code",
    "executionInfo": {
     "elapsed": 864,
     "status": "ok",
     "timestamp": 1598800943531,
     "user": {
      "displayName": "‍조유정[학생](대학원 경영학과)",
      "photoUrl": "",
      "userId": "08462910251745570933"
     },
     "user_tz": -540
    },
    "id": "1MVdGlxYi8o-"
   },
   "outputs": [],
   "source": [
    "v3_history_df = pd.DataFrame(history_inceptionv3.history)\n",
    "v3_scores = pd.DataFrame(v3_scores)"
   ]
  },
  {
   "cell_type": "code",
   "execution_count": null,
   "metadata": {
    "ExecuteTime": {
     "end_time": "2020-09-07T11:23:28.656058Z",
     "start_time": "2020-09-07T11:23:28.627730Z"
    },
    "colab": {},
    "colab_type": "code",
    "executionInfo": {
     "elapsed": 889,
     "status": "ok",
     "timestamp": 1598800945102,
     "user": {
      "displayName": "‍조유정[학생](대학원 경영학과)",
      "photoUrl": "",
      "userId": "08462910251745570933"
     },
     "user_tz": -540
    },
    "id": "c9bfBRRoi8wG"
   },
   "outputs": [],
   "source": [
    "v3_history_df.to_excel('./down_batch40_10_e100/inceptionV3_history.xlsx')\n",
    "v3_scores.to_excel('./down_batch40_10_e100/inceptionV3_scores.xlsx')"
   ]
  },
  {
   "cell_type": "code",
   "execution_count": null,
   "metadata": {
    "ExecuteTime": {
     "end_time": "2020-09-07T11:23:29.925445Z",
     "start_time": "2020-09-07T11:23:29.802833Z"
    },
    "colab": {
     "base_uri": "https://localhost:8080/",
     "height": 300
    },
    "colab_type": "code",
    "executionInfo": {
     "elapsed": 1036,
     "status": "ok",
     "timestamp": 1598800949470,
     "user": {
      "displayName": "‍조유정[학생](대학원 경영학과)",
      "photoUrl": "",
      "userId": "08462910251745570933"
     },
     "user_tz": -540
    },
    "id": "Hn1okn7eQJis",
    "outputId": "9d24887e-a012-4a07-8a7e-fc0de4b91498"
   },
   "outputs": [],
   "source": [
    "epochs = range(len(history_inceptionv3.history['acc']))\n",
    "plt.plot(epochs, history_inceptionv3.history['acc'],label = 'Training accuracy')\n",
    "plt.plot(epochs,history_inceptionv3.history['val_acc'],label = 'Validation accuracy')\n",
    "plt.title('Training and validation accuracy')\n",
    "plt.legend()"
   ]
  },
  {
   "cell_type": "code",
   "execution_count": null,
   "metadata": {
    "ExecuteTime": {
     "end_time": "2020-09-07T11:23:31.598422Z",
     "start_time": "2020-09-07T11:23:31.474913Z"
    },
    "colab": {
     "base_uri": "https://localhost:8080/",
     "height": 300
    },
    "colab_type": "code",
    "executionInfo": {
     "elapsed": 1250,
     "status": "ok",
     "timestamp": 1598800958516,
     "user": {
      "displayName": "‍조유정[학생](대학원 경영학과)",
      "photoUrl": "",
      "userId": "08462910251745570933"
     },
     "user_tz": -540
    },
    "id": "zJqxQXf2QSMT",
    "outputId": "80d2321c-4fef-428e-8411-8168faf34f9f"
   },
   "outputs": [],
   "source": [
    "plt.plot(epochs, history_inceptionv3.history['loss'],label='Training loss')\n",
    "plt.plot(epochs,history_inceptionv3.history['val_loss'],label = 'Validation loss')\n",
    "plt.title('Training and validation loss')\n",
    "plt.legend()"
   ]
  },
  {
   "cell_type": "code",
   "execution_count": null,
   "metadata": {
    "ExecuteTime": {
     "end_time": "2020-09-07T11:26:27.418363Z",
     "start_time": "2020-09-07T11:26:25.099567Z"
    },
    "colab": {},
    "colab_type": "code",
    "executionInfo": {
     "elapsed": 4912,
     "status": "ok",
     "timestamp": 1598800971273,
     "user": {
      "displayName": "‍조유정[학생](대학원 경영학과)",
      "photoUrl": "",
      "userId": "08462910251745570933"
     },
     "user_tz": -540
    },
    "id": "Wv6L03YYQSPY"
   },
   "outputs": [],
   "source": [
    "Y_pred_v3 = v3_model.predict_generator(test_generator, 10)\n",
    "y_pred_v3 = np.argmax(Y_pred_v3, axis=1)"
   ]
  },
  {
   "cell_type": "code",
   "execution_count": null,
   "metadata": {
    "ExecuteTime": {
     "end_time": "2020-09-07T11:26:27.434120Z",
     "start_time": "2020-09-07T11:26:27.423568Z"
    },
    "colab": {
     "base_uri": "https://localhost:8080/",
     "height": 36
    },
    "colab_type": "code",
    "executionInfo": {
     "elapsed": 898,
     "status": "ok",
     "timestamp": 1598800974566,
     "user": {
      "displayName": "‍조유정[학생](대학원 경영학과)",
      "photoUrl": "",
      "userId": "08462910251745570933"
     },
     "user_tz": -540
    },
    "id": "uNtyWKygQSU0",
    "outputId": "434611cb-d663-49d4-e4f9-cbf43a207300"
   },
   "outputs": [],
   "source": [
    "len(y_pred_v3)"
   ]
  },
  {
   "cell_type": "code",
   "execution_count": null,
   "metadata": {
    "ExecuteTime": {
     "end_time": "2020-09-07T11:26:28.942759Z",
     "start_time": "2020-09-07T11:26:28.939263Z"
    },
    "colab": {
     "base_uri": "https://localhost:8080/",
     "height": 92
    },
    "colab_type": "code",
    "executionInfo": {
     "elapsed": 1282,
     "status": "ok",
     "timestamp": 1598800978435,
     "user": {
      "displayName": "‍조유정[학생](대학원 경영학과)",
      "photoUrl": "",
      "userId": "08462910251745570933"
     },
     "user_tz": -540
    },
    "id": "K-pzfM5CQZyM",
    "outputId": "9e469793-a6e6-4174-b32d-f7dc205cb14b"
   },
   "outputs": [],
   "source": [
    "print('Confusion Matrix')\n",
    "print(confusion_matrix(test_generator.classes, y_pred_v3))\n",
    "print('Classification Report')"
   ]
  },
  {
   "cell_type": "code",
   "execution_count": null,
   "metadata": {
    "ExecuteTime": {
     "end_time": "2020-09-07T11:26:30.138278Z",
     "start_time": "2020-09-07T11:26:30.131513Z"
    },
    "colab": {
     "base_uri": "https://localhost:8080/",
     "height": 185
    },
    "colab_type": "code",
    "executionInfo": {
     "elapsed": 873,
     "status": "ok",
     "timestamp": 1598800980077,
     "user": {
      "displayName": "‍조유정[학생](대학원 경영학과)",
      "photoUrl": "",
      "userId": "08462910251745570933"
     },
     "user_tz": -540
    },
    "id": "8tqdJLogQZ1L",
    "outputId": "9f25671d-62b1-45a9-c5b1-17c05a56a771"
   },
   "outputs": [],
   "source": [
    "#target_names = ['Cats', 'Dogs', 'Horse']\n",
    "target_names = ['0', '1']\n",
    "print(classification_report(test_generator.classes, y_pred_v3, target_names=target_names))"
   ]
  },
  {
   "cell_type": "code",
   "execution_count": null,
   "metadata": {
    "ExecuteTime": {
     "end_time": "2020-09-07T11:26:38.287517Z",
     "start_time": "2020-09-07T11:26:38.283242Z"
    },
    "colab": {},
    "colab_type": "code",
    "executionInfo": {
     "elapsed": 864,
     "status": "ok",
     "timestamp": 1598800986852,
     "user": {
      "displayName": "‍조유정[학생](대학원 경영학과)",
      "photoUrl": "",
      "userId": "08462910251745570933"
     },
     "user_tz": -540
    },
    "id": "Yr_EABwQQZ4j"
   },
   "outputs": [],
   "source": [
    "v3_report = classification_report(test_generator.classes, y_pred_v3, target_names=target_names,output_dict=True)"
   ]
  },
  {
   "cell_type": "code",
   "execution_count": null,
   "metadata": {
    "ExecuteTime": {
     "end_time": "2020-09-07T11:26:39.151323Z",
     "start_time": "2020-09-07T11:26:39.147243Z"
    },
    "colab": {},
    "colab_type": "code",
    "executionInfo": {
     "elapsed": 584,
     "status": "ok",
     "timestamp": 1598800987908,
     "user": {
      "displayName": "‍조유정[학생](대학원 경영학과)",
      "photoUrl": "",
      "userId": "08462910251745570933"
     },
     "user_tz": -540
    },
    "id": "9wfUMygvkrW2"
   },
   "outputs": [],
   "source": [
    "v3_report_df = pd.DataFrame(v3_report).transpose()"
   ]
  },
  {
   "cell_type": "code",
   "execution_count": null,
   "metadata": {
    "ExecuteTime": {
     "end_time": "2020-09-07T11:26:44.652469Z",
     "start_time": "2020-09-07T11:26:44.642806Z"
    },
    "colab": {},
    "colab_type": "code",
    "executionInfo": {
     "elapsed": 656,
     "status": "ok",
     "timestamp": 1598800989001,
     "user": {
      "displayName": "‍조유정[학생](대학원 경영학과)",
      "photoUrl": "",
      "userId": "08462910251745570933"
     },
     "user_tz": -540
    },
    "id": "kCdiWDl1kxJQ"
   },
   "outputs": [],
   "source": [
    "v3_report_df.to_excel('./down_batch40_10_e100/inceptionV3_report.xlsx')"
   ]
  },
  {
   "cell_type": "code",
   "execution_count": null,
   "metadata": {
    "colab": {},
    "colab_type": "code",
    "id": "zXM5afLzk1qS"
   },
   "outputs": [],
   "source": []
  },
  {
   "cell_type": "markdown",
   "metadata": {
    "colab_type": "text",
    "id": "O5cwAFhzk3sz"
   },
   "source": [
    "ResNet50"
   ]
  },
  {
   "cell_type": "code",
   "execution_count": null,
   "metadata": {
    "ExecuteTime": {
     "end_time": "2020-09-07T11:26:47.840932Z",
     "start_time": "2020-09-07T11:26:47.838593Z"
    },
    "colab": {},
    "colab_type": "code",
    "executionInfo": {
     "elapsed": 879,
     "status": "ok",
     "timestamp": 1598800997312,
     "user": {
      "displayName": "‍조유정[학생](대학원 경영학과)",
      "photoUrl": "",
      "userId": "08462910251745570933"
     },
     "user_tz": -540
    },
    "id": "xFE7CJJqk5ta"
   },
   "outputs": [],
   "source": [
    "from tensorflow.keras.applications.resnet50 import ResNet50"
   ]
  },
  {
   "cell_type": "code",
   "execution_count": null,
   "metadata": {
    "ExecuteTime": {
     "end_time": "2020-09-07T11:26:48.829426Z",
     "start_time": "2020-09-07T11:26:48.827673Z"
    },
    "colab": {},
    "colab_type": "code",
    "executionInfo": {
     "elapsed": 840,
     "status": "ok",
     "timestamp": 1598800998895,
     "user": {
      "displayName": "‍조유정[학생](대학원 경영학과)",
      "photoUrl": "",
      "userId": "08462910251745570933"
     },
     "user_tz": -540
    },
    "id": "DUZqxZ7Vk_hd"
   },
   "outputs": [],
   "source": [
    "IMAGE_SIZE = 224"
   ]
  },
  {
   "cell_type": "code",
   "execution_count": null,
   "metadata": {
    "ExecuteTime": {
     "end_time": "2020-09-07T11:26:54.229196Z",
     "start_time": "2020-09-07T11:26:54.110771Z"
    },
    "colab": {
     "base_uri": "https://localhost:8080/",
     "height": 36
    },
    "colab_type": "code",
    "executionInfo": {
     "elapsed": 840,
     "status": "ok",
     "timestamp": 1598801007405,
     "user": {
      "displayName": "‍조유정[학생](대학원 경영학과)",
      "photoUrl": "",
      "userId": "08462910251745570933"
     },
     "user_tz": -540
    },
    "id": "45krtKXGlB0n",
    "outputId": "c8dbd498-ae03-42be-c310-2dc613467d57"
   },
   "outputs": [],
   "source": [
    "#데이터를 읽고 이미지를 한번에 넣은 개수_train\n",
    "train_generator = train_datagen.flow_from_directory(train_dir, target_size=(IMAGE_SIZE, IMAGE_SIZE), batch_size=40,\n",
    "                                                        class_mode='binary')"
   ]
  },
  {
   "cell_type": "code",
   "execution_count": null,
   "metadata": {
    "ExecuteTime": {
     "end_time": "2020-09-07T11:26:55.279956Z",
     "start_time": "2020-09-07T11:26:55.171347Z"
    },
    "colab": {
     "base_uri": "https://localhost:8080/",
     "height": 36
    },
    "colab_type": "code",
    "executionInfo": {
     "elapsed": 876,
     "status": "ok",
     "timestamp": 1598801009296,
     "user": {
      "displayName": "‍조유정[학생](대학원 경영학과)",
      "photoUrl": "",
      "userId": "08462910251745570933"
     },
     "user_tz": -540
    },
    "id": "prZyRcbMlCXa",
    "outputId": "5c700183-9572-47fc-8613-7289ae1bb7b5"
   },
   "outputs": [],
   "source": [
    "test_generator = test_datagen.flow_from_directory(test_dir, target_size = (IMAGE_SIZE,IMAGE_SIZE),batch_size = 10,\n",
    "                                                 class_mode = 'binary')"
   ]
  },
  {
   "cell_type": "code",
   "execution_count": null,
   "metadata": {
    "ExecuteTime": {
     "end_time": "2020-09-07T11:27:02.519810Z",
     "start_time": "2020-09-07T11:26:57.443054Z"
    },
    "colab": {},
    "colab_type": "code",
    "executionInfo": {
     "elapsed": 9154,
     "status": "ok",
     "timestamp": 1598801035577,
     "user": {
      "displayName": "‍조유정[학생](대학원 경영학과)",
      "photoUrl": "",
      "userId": "08462910251745570933"
     },
     "user_tz": -540
    },
    "id": "oQg64ichlEMG"
   },
   "outputs": [],
   "source": [
    "pre_resnet = ResNet50(weights = 'imagenet', include_top = False, input_shape = (224,224,3))"
   ]
  },
  {
   "cell_type": "code",
   "execution_count": null,
   "metadata": {
    "ExecuteTime": {
     "end_time": "2020-09-07T11:27:04.310449Z",
     "start_time": "2020-09-07T11:27:04.306294Z"
    },
    "colab": {},
    "colab_type": "code",
    "executionInfo": {
     "elapsed": 902,
     "status": "ok",
     "timestamp": 1598801039573,
     "user": {
      "displayName": "‍조유정[학생](대학원 경영학과)",
      "photoUrl": "",
      "userId": "08462910251745570933"
     },
     "user_tz": -540
    },
    "id": "LH4V9PyWlHkl"
   },
   "outputs": [],
   "source": [
    "for layer in pre_resnet.layers:\n",
    "    layer.trainable = False"
   ]
  },
  {
   "cell_type": "code",
   "execution_count": null,
   "metadata": {
    "ExecuteTime": {
     "end_time": "2020-09-07T11:27:05.660610Z",
     "start_time": "2020-09-07T11:27:05.659156Z"
    },
    "colab": {},
    "colab_type": "code",
    "executionInfo": {
     "elapsed": 834,
     "status": "ok",
     "timestamp": 1598794552857,
     "user": {
      "displayName": "‍조유정[학생](대학원 경영학과)",
      "photoUrl": "",
      "userId": "08462910251745570933"
     },
     "user_tz": -540
    },
    "id": "qpNkTEytlIFF"
   },
   "outputs": [],
   "source": [
    "# pre_resnet.summary()"
   ]
  },
  {
   "cell_type": "code",
   "execution_count": null,
   "metadata": {
    "ExecuteTime": {
     "end_time": "2020-09-07T11:27:07.452159Z",
     "start_time": "2020-09-07T11:27:06.172490Z"
    },
    "colab": {},
    "colab_type": "code",
    "executionInfo": {
     "elapsed": 3083,
     "status": "ok",
     "timestamp": 1598801045695,
     "user": {
      "displayName": "‍조유정[학생](대학원 경영학과)",
      "photoUrl": "",
      "userId": "08462910251745570933"
     },
     "user_tz": -540
    },
    "id": "GsgEAvgklNKZ"
   },
   "outputs": [],
   "source": [
    "r_model = tf.keras.Sequential()\n",
    "r_model.add(pre_resnet)\n",
    "r_model.add(layers.GlobalAveragePooling2D())\n",
    "r_model.add(layers.Dense(2,activation = 'softmax'))"
   ]
  },
  {
   "cell_type": "code",
   "execution_count": null,
   "metadata": {
    "ExecuteTime": {
     "end_time": "2020-09-04T10:47:42.997328Z",
     "start_time": "2020-09-04T10:47:42.995725Z"
    },
    "colab": {},
    "colab_type": "code",
    "executionInfo": {
     "elapsed": 2343,
     "status": "ok",
     "timestamp": 1598801045696,
     "user": {
      "displayName": "‍조유정[학생](대학원 경영학과)",
      "photoUrl": "",
      "userId": "08462910251745570933"
     },
     "user_tz": -540
    },
    "id": "LGagkEdElO_Q"
   },
   "outputs": [],
   "source": [
    "# r_model.summary()"
   ]
  },
  {
   "cell_type": "code",
   "execution_count": null,
   "metadata": {
    "ExecuteTime": {
     "end_time": "2020-09-07T11:27:10.872570Z",
     "start_time": "2020-09-07T11:27:10.870672Z"
    },
    "colab": {},
    "colab_type": "code",
    "executionInfo": {
     "elapsed": 1465,
     "status": "ok",
     "timestamp": 1598801045696,
     "user": {
      "displayName": "‍조유정[학생](대학원 경영학과)",
      "photoUrl": "",
      "userId": "08462910251745570933"
     },
     "user_tz": -540
    },
    "id": "CB0kOR_slSD0"
   },
   "outputs": [],
   "source": [
    "early_stopping = EarlyStopping(patience = 30)"
   ]
  },
  {
   "cell_type": "code",
   "execution_count": null,
   "metadata": {
    "ExecuteTime": {
     "end_time": "2020-09-07T11:27:12.661097Z",
     "start_time": "2020-09-07T11:27:12.611492Z"
    },
    "colab": {},
    "colab_type": "code",
    "executionInfo": {
     "elapsed": 918,
     "status": "ok",
     "timestamp": 1598801050791,
     "user": {
      "displayName": "‍조유정[학생](대학원 경영학과)",
      "photoUrl": "",
      "userId": "08462910251745570933"
     },
     "user_tz": -540
    },
    "id": "UDoKZeNtlWDx"
   },
   "outputs": [],
   "source": [
    "r_model.compile(loss='sparse_categorical_crossentropy', \n",
    "              optimizer='adam',\n",
    "              #optimizer = 'RMSprop',\n",
    "              metrics=['accuracy'],\n",
    "             )"
   ]
  },
  {
   "cell_type": "code",
   "execution_count": null,
   "metadata": {
    "ExecuteTime": {
     "end_time": "2020-09-07T11:30:43.792602Z",
     "start_time": "2020-09-07T11:27:22.182929Z"
    },
    "colab": {
     "base_uri": "https://localhost:8080/",
     "height": 969
    },
    "colab_type": "code",
    "executionInfo": {
     "elapsed": 352063,
     "status": "ok",
     "timestamp": 1598801406318,
     "user": {
      "displayName": "‍조유정[학생](대학원 경영학과)",
      "photoUrl": "",
      "userId": "08462910251745570933"
     },
     "user_tz": -540
    },
    "id": "rDVo64KBlXD1",
    "outputId": "6901268a-6fe8-446a-ea58-88082f975a93"
   },
   "outputs": [],
   "source": [
    "history_resnet = r_model.fit_generator(train_generator,\n",
    "                                       steps_per_epoch=23,\n",
    "                                       epochs=100,\n",
    "                                       validation_data=test_generator,\n",
    "                                       validation_steps= 10,\n",
    "                                      callbacks = [early_stopping]\n",
    "                                       )"
   ]
  },
  {
   "cell_type": "code",
   "execution_count": null,
   "metadata": {
    "ExecuteTime": {
     "end_time": "2020-09-07T11:43:11.777255Z",
     "start_time": "2020-09-07T11:43:10.864084Z"
    },
    "colab": {},
    "colab_type": "code",
    "executionInfo": {
     "elapsed": 2522,
     "status": "ok",
     "timestamp": 1598802883108,
     "user": {
      "displayName": "‍조유정[학생](대학원 경영학과)",
      "photoUrl": "",
      "userId": "08462910251745570933"
     },
     "user_tz": -540
    },
    "id": "WodFJrV1lgQ5"
   },
   "outputs": [],
   "source": [
    "scores_resnet = r_model.evaluate_generator(test_generator,steps = 10)"
   ]
  },
  {
   "cell_type": "code",
   "execution_count": null,
   "metadata": {
    "ExecuteTime": {
     "end_time": "2020-09-07T11:43:12.368455Z",
     "start_time": "2020-09-07T11:43:12.366024Z"
    },
    "colab": {
     "base_uri": "https://localhost:8080/",
     "height": 36
    },
    "colab_type": "code",
    "executionInfo": {
     "elapsed": 890,
     "status": "ok",
     "timestamp": 1598802901253,
     "user": {
      "displayName": "‍조유정[학생](대학원 경영학과)",
      "photoUrl": "",
      "userId": "08462910251745570933"
     },
     "user_tz": -540
    },
    "id": "BCK_5mr4FCQP",
    "outputId": "0f7f6107-e8cd-4c09-d790-ea13c7fe0ba4"
   },
   "outputs": [],
   "source": [
    "scores_resnet"
   ]
  },
  {
   "cell_type": "code",
   "execution_count": null,
   "metadata": {
    "ExecuteTime": {
     "end_time": "2020-09-07T11:43:15.881088Z",
     "start_time": "2020-09-07T11:43:15.878118Z"
    },
    "colab": {},
    "colab_type": "code",
    "executionInfo": {
     "elapsed": 955,
     "status": "ok",
     "timestamp": 1598802890112,
     "user": {
      "displayName": "‍조유정[학생](대학원 경영학과)",
      "photoUrl": "",
      "userId": "08462910251745570933"
     },
     "user_tz": -540
    },
    "id": "I2WcYvygljip"
   },
   "outputs": [],
   "source": [
    "history_resnet_df = pd.DataFrame(history_resnet.history)\n",
    "scores_resnet_df = pd.DataFrame(scores_resnet)"
   ]
  },
  {
   "cell_type": "code",
   "execution_count": null,
   "metadata": {
    "ExecuteTime": {
     "end_time": "2020-09-07T11:43:18.309978Z",
     "start_time": "2020-09-07T11:43:18.286284Z"
    },
    "colab": {},
    "colab_type": "code",
    "executionInfo": {
     "elapsed": 809,
     "status": "ok",
     "timestamp": 1598802891063,
     "user": {
      "displayName": "‍조유정[학생](대학원 경영학과)",
      "photoUrl": "",
      "userId": "08462910251745570933"
     },
     "user_tz": -540
    },
    "id": "C2wqUclhm-wI"
   },
   "outputs": [],
   "source": [
    "history_resnet_df.to_excel('./down_batch40_10_e100/resnet50_history.xlsx')\n",
    "scores_resnet_df.to_excel('./down_batch40_10_e100/resnet50_scores.xlsx')"
   ]
  },
  {
   "cell_type": "code",
   "execution_count": null,
   "metadata": {
    "ExecuteTime": {
     "end_time": "2020-09-07T11:43:21.250179Z",
     "start_time": "2020-09-07T11:43:21.134343Z"
    },
    "colab": {
     "base_uri": "https://localhost:8080/",
     "height": 300
    },
    "colab_type": "code",
    "executionInfo": {
     "elapsed": 958,
     "status": "ok",
     "timestamp": 1598802910062,
     "user": {
      "displayName": "‍조유정[학생](대학원 경영학과)",
      "photoUrl": "",
      "userId": "08462910251745570933"
     },
     "user_tz": -540
    },
    "id": "953ZYIk4ljmK",
    "outputId": "74dfbb59-b61e-4bbc-8b13-0e5bfb28e159"
   },
   "outputs": [],
   "source": [
    "epochs = range(len(history_resnet.history['acc']))\n",
    "plt.plot(epochs, history_resnet.history['acc'],label = 'Training accuracy')\n",
    "plt.plot(epochs,history_resnet.history['val_acc'],label = 'Validation accuracy')\n",
    "plt.title('Training and validation accuracy')\n",
    "plt.legend()"
   ]
  },
  {
   "cell_type": "code",
   "execution_count": null,
   "metadata": {
    "ExecuteTime": {
     "end_time": "2020-09-07T11:43:25.518497Z",
     "start_time": "2020-09-07T11:43:25.396045Z"
    },
    "colab": {
     "base_uri": "https://localhost:8080/",
     "height": 300
    },
    "colab_type": "code",
    "executionInfo": {
     "elapsed": 962,
     "status": "ok",
     "timestamp": 1598802912811,
     "user": {
      "displayName": "‍조유정[학생](대학원 경영학과)",
      "photoUrl": "",
      "userId": "08462910251745570933"
     },
     "user_tz": -540
    },
    "id": "9UO9TZwcljqq",
    "outputId": "cdf7a332-707f-4b15-fe78-e859b68ce81d"
   },
   "outputs": [],
   "source": [
    "plt.plot(epochs, history_resnet.history['loss'],label='Training loss')\n",
    "plt.plot(epochs,history_resnet.history['val_loss'],label = 'Validation loss')\n",
    "plt.title('Training and validation loss')\n",
    "plt.legend()"
   ]
  },
  {
   "cell_type": "code",
   "execution_count": null,
   "metadata": {
    "ExecuteTime": {
     "end_time": "2020-09-07T11:43:36.082634Z",
     "start_time": "2020-09-07T11:43:34.366821Z"
    },
    "colab": {},
    "colab_type": "code",
    "executionInfo": {
     "elapsed": 4593,
     "status": "ok",
     "timestamp": 1598802933007,
     "user": {
      "displayName": "‍조유정[학생](대학원 경영학과)",
      "photoUrl": "",
      "userId": "08462910251745570933"
     },
     "user_tz": -540
    },
    "id": "ZfoBW_Y9lnwA"
   },
   "outputs": [],
   "source": [
    "Y_pred_resnet = r_model.predict_generator(test_generator, 10)\n",
    "y_pred_resnet = np.argmax(Y_pred_resnet, axis=1)"
   ]
  },
  {
   "cell_type": "code",
   "execution_count": null,
   "metadata": {
    "ExecuteTime": {
     "end_time": "2020-09-07T11:43:36.086577Z",
     "start_time": "2020-09-07T11:43:36.083753Z"
    },
    "colab": {
     "base_uri": "https://localhost:8080/",
     "height": 148
    },
    "colab_type": "code",
    "executionInfo": {
     "elapsed": 1020,
     "status": "ok",
     "timestamp": 1598802942624,
     "user": {
      "displayName": "‍조유정[학생](대학원 경영학과)",
      "photoUrl": "",
      "userId": "08462910251745570933"
     },
     "user_tz": -540
    },
    "id": "lCzPSV3LsBkX",
    "outputId": "248514ad-d90c-404c-a884-a453722a51e0"
   },
   "outputs": [],
   "source": [
    "y_pred_resnet"
   ]
  },
  {
   "cell_type": "code",
   "execution_count": null,
   "metadata": {
    "ExecuteTime": {
     "end_time": "2020-09-07T11:43:40.554393Z",
     "start_time": "2020-09-07T11:43:40.551071Z"
    },
    "colab": {
     "base_uri": "https://localhost:8080/",
     "height": 92
    },
    "colab_type": "code",
    "executionInfo": {
     "elapsed": 927,
     "status": "ok",
     "timestamp": 1598802950612,
     "user": {
      "displayName": "‍조유정[학생](대학원 경영학과)",
      "photoUrl": "",
      "userId": "08462910251745570933"
     },
     "user_tz": -540
    },
    "id": "WlnzEw67lnz9",
    "outputId": "ac789add-3ff7-4ad3-d606-b579d4870474"
   },
   "outputs": [],
   "source": [
    "print('Confusion Matrix')\n",
    "print(confusion_matrix(test_generator.classes, y_pred_resnet))\n",
    "print('Classification Report')"
   ]
  },
  {
   "cell_type": "code",
   "execution_count": null,
   "metadata": {
    "ExecuteTime": {
     "end_time": "2020-09-07T11:43:42.743223Z",
     "start_time": "2020-09-07T11:43:42.736451Z"
    },
    "colab": {
     "base_uri": "https://localhost:8080/",
     "height": 243
    },
    "colab_type": "code",
    "executionInfo": {
     "elapsed": 890,
     "status": "ok",
     "timestamp": 1598802967035,
     "user": {
      "displayName": "‍조유정[학생](대학원 경영학과)",
      "photoUrl": "",
      "userId": "08462910251745570933"
     },
     "user_tz": -540
    },
    "id": "riH8XeriljuZ",
    "outputId": "fe3d3944-7723-4382-e3fc-3446db55426f"
   },
   "outputs": [],
   "source": [
    "target_names = ['0', '1']\n",
    "print(classification_report(test_generator.classes, y_pred_resnet, target_names=target_names))"
   ]
  },
  {
   "cell_type": "code",
   "execution_count": null,
   "metadata": {
    "ExecuteTime": {
     "end_time": "2020-09-07T11:43:46.849916Z",
     "start_time": "2020-09-07T11:43:46.843857Z"
    },
    "colab": {
     "base_uri": "https://localhost:8080/",
     "height": 75
    },
    "colab_type": "code",
    "executionInfo": {
     "elapsed": 1008,
     "status": "ok",
     "timestamp": 1598802971746,
     "user": {
      "displayName": "‍조유정[학생](대학원 경영학과)",
      "photoUrl": "",
      "userId": "08462910251745570933"
     },
     "user_tz": -540
    },
    "id": "0sbXH04Rlw23",
    "outputId": "c8c8a6a0-f0ac-4ddc-f7ea-c3b100570152"
   },
   "outputs": [],
   "source": [
    "resnet_report = classification_report(test_generator.classes, y_pred_resnet, target_names=target_names,output_dict = True)"
   ]
  },
  {
   "cell_type": "code",
   "execution_count": null,
   "metadata": {
    "ExecuteTime": {
     "end_time": "2020-09-07T11:43:47.954449Z",
     "start_time": "2020-09-07T11:43:47.951411Z"
    },
    "colab": {},
    "colab_type": "code",
    "executionInfo": {
     "elapsed": 916,
     "status": "ok",
     "timestamp": 1598802975652,
     "user": {
      "displayName": "‍조유정[학생](대학원 경영학과)",
      "photoUrl": "",
      "userId": "08462910251745570933"
     },
     "user_tz": -540
    },
    "id": "8ouW_9eJlw-A"
   },
   "outputs": [],
   "source": [
    "resnet_report_df = pd.DataFrame(resnet_report).transpose()"
   ]
  },
  {
   "cell_type": "code",
   "execution_count": null,
   "metadata": {
    "ExecuteTime": {
     "end_time": "2020-09-07T11:43:49.132856Z",
     "start_time": "2020-09-07T11:43:49.119425Z"
    },
    "colab": {},
    "colab_type": "code",
    "executionInfo": {
     "elapsed": 891,
     "status": "ok",
     "timestamp": 1598802978604,
     "user": {
      "displayName": "‍조유정[학생](대학원 경영학과)",
      "photoUrl": "",
      "userId": "08462910251745570933"
     },
     "user_tz": -540
    },
    "id": "UYpf_GhMl2Am"
   },
   "outputs": [],
   "source": [
    "resnet_report_df.to_excel('./down_batch40_10_e100/resnet50_report.xlsx')"
   ]
  },
  {
   "cell_type": "code",
   "execution_count": null,
   "metadata": {
    "colab": {},
    "colab_type": "code",
    "id": "m6u5yHN9l2Dt"
   },
   "outputs": [],
   "source": [
    "with open('result.csv', 'a') as f:\n",
    "    f.write('어떤결과')"
   ]
  }
 ],
 "metadata": {
  "accelerator": "GPU",
  "colab": {
   "authorship_tag": "ABX9TyPYqUFIA+BOViEEQai9xOBK",
   "name": "0831_accuracy_save.ipynb",
   "provenance": []
  },
  "hide_input": false,
  "kernelspec": {
   "display_name": "yu4",
   "language": "python",
   "name": "yu4"
  },
  "language_info": {
   "codemirror_mode": {
    "name": "ipython",
    "version": 3
   },
   "file_extension": ".py",
   "mimetype": "text/x-python",
   "name": "python",
   "nbconvert_exporter": "python",
   "pygments_lexer": "ipython3",
   "version": "3.7.7"
  },
  "toc": {
   "base_numbering": 1,
   "nav_menu": {},
   "number_sections": true,
   "sideBar": true,
   "skip_h1_title": false,
   "title_cell": "Table of Contents",
   "title_sidebar": "Contents",
   "toc_cell": false,
   "toc_position": {},
   "toc_section_display": true,
   "toc_window_display": false
  }
 },
 "nbformat": 4,
 "nbformat_minor": 1
}
