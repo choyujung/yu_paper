{
 "cells": [
  {
   "cell_type": "code",
   "execution_count": 1,
   "metadata": {
    "ExecuteTime": {
     "end_time": "2020-09-17T05:57:08.279941Z",
     "start_time": "2020-09-17T05:57:07.307875Z"
    },
    "colab": {},
    "colab_type": "code",
    "executionInfo": {
     "elapsed": 2523,
     "status": "ok",
     "timestamp": 1598799206045,
     "user": {
      "displayName": "‍조유정[학생](대학원 경영학과)",
      "photoUrl": "",
      "userId": "08462910251745570933"
     },
     "user_tz": -540
    },
    "id": "o8wro8ziqETF"
   },
   "outputs": [],
   "source": [
    "import tensorflow as tf\n",
    "import tensorboard as tb"
   ]
  },
  {
   "cell_type": "code",
   "execution_count": null,
   "metadata": {
    "ExecuteTime": {
     "end_time": "2020-09-09T04:59:21.588187Z",
     "start_time": "2020-09-09T04:59:21.515917Z"
    }
   },
   "outputs": [],
   "source": [
    "#from keras import backend as K"
   ]
  },
  {
   "cell_type": "code",
   "execution_count": 2,
   "metadata": {
    "ExecuteTime": {
     "end_time": "2020-09-17T05:57:12.438141Z",
     "start_time": "2020-09-17T05:57:12.297506Z"
    },
    "colab": {},
    "colab_type": "code",
    "executionInfo": {
     "elapsed": 900,
     "status": "ok",
     "timestamp": 1598799221197,
     "user": {
      "displayName": "‍조유정[학생](대학원 경영학과)",
      "photoUrl": "",
      "userId": "08462910251745570933"
     },
     "user_tz": -540
    },
    "id": "pvIgU7jlqMaY"
   },
   "outputs": [],
   "source": [
    "from sklearn.metrics import classification_report, confusion_matrix\n",
    "from tensorflow.keras.applications import VGG16\n",
    "from tensorflow.keras import models,layers, Input, optimizers, initializers, regularizers, metrics\n",
    "from tensorflow.keras.models import Model, Sequential, load_model\n",
    "from tensorflow.keras.preprocessing.image import ImageDataGenerator ,array_to_img, img_to_array, load_img\n",
    "from tensorflow.keras.callbacks import ModelCheckpoint, TensorBoard,  EarlyStopping\n",
    "from tensorflow.keras.layers import Dense, Dropout, Flatten"
   ]
  },
  {
   "cell_type": "code",
   "execution_count": 3,
   "metadata": {
    "ExecuteTime": {
     "end_time": "2020-09-17T05:57:13.461699Z",
     "start_time": "2020-09-17T05:57:13.273193Z"
    },
    "colab": {
     "base_uri": "https://localhost:8080/",
     "height": 36
    },
    "colab_type": "code",
    "executionInfo": {
     "elapsed": 867,
     "status": "ok",
     "timestamp": 1598799222994,
     "user": {
      "displayName": "‍조유정[학생](대학원 경영학과)",
      "photoUrl": "",
      "userId": "08462910251745570933"
     },
     "user_tz": -540
    },
    "id": "9jWll4txqNYI",
    "outputId": "1c1c9728-93b4-4c86-80d5-95408fdf6c03"
   },
   "outputs": [
    {
     "name": "stderr",
     "output_type": "stream",
     "text": [
      "Using TensorFlow backend.\n"
     ]
    }
   ],
   "source": [
    "import os\n",
    "from glob import glob\n",
    "import PIL\n",
    "from PIL import Image\n",
    "\n",
    "import matplotlib.pyplot as plt\n",
    "import numpy as np\n",
    "import pandas as pd\n",
    "import math\n",
    "import keras\n",
    "import cv2\n",
    "\n",
    "from os import listdir\n",
    "from os.path import isfile, join\n",
    "import random\n",
    "import shutil"
   ]
  },
  {
   "cell_type": "code",
   "execution_count": null,
   "metadata": {
    "ExecuteTime": {
     "end_time": "2020-09-09T04:59:25.841277Z",
     "start_time": "2020-09-09T04:59:25.836003Z"
    },
    "colab": {},
    "colab_type": "code",
    "executionInfo": {
     "elapsed": 896,
     "status": "ok",
     "timestamp": 1598799229743,
     "user": {
      "displayName": "‍조유정[학생](대학원 경영학과)",
      "photoUrl": "",
      "userId": "08462910251745570933"
     },
     "user_tz": -540
    },
    "id": "_zBKwtU90xOI"
   },
   "outputs": [],
   "source": [
    "#!pip uninstall keras"
   ]
  },
  {
   "cell_type": "code",
   "execution_count": null,
   "metadata": {
    "ExecuteTime": {
     "end_time": "2020-09-09T04:59:26.030654Z",
     "start_time": "2020-09-09T04:59:26.028086Z"
    },
    "colab": {},
    "colab_type": "code",
    "executionInfo": {
     "elapsed": 902,
     "status": "ok",
     "timestamp": 1598799232418,
     "user": {
      "displayName": "‍조유정[학생](대학원 경영학과)",
      "photoUrl": "",
      "userId": "08462910251745570933"
     },
     "user_tz": -540
    },
    "id": "-kR4C9TJ0xdJ"
   },
   "outputs": [],
   "source": [
    "#!pip install keras==2.3.1"
   ]
  },
  {
   "cell_type": "code",
   "execution_count": null,
   "metadata": {
    "ExecuteTime": {
     "end_time": "2020-09-09T04:59:26.211420Z",
     "start_time": "2020-09-09T04:59:26.208090Z"
    },
    "colab": {
     "base_uri": "https://localhost:8080/",
     "height": 36
    },
    "colab_type": "code",
    "executionInfo": {
     "elapsed": 859,
     "status": "ok",
     "timestamp": 1598799212041,
     "user": {
      "displayName": "‍조유정[학생](대학원 경영학과)",
      "photoUrl": "",
      "userId": "08462910251745570933"
     },
     "user_tz": -540
    },
    "id": "ad9kboTQqN8r",
    "outputId": "11ca130a-1486-4d2f-b882-f78f12a15a79"
   },
   "outputs": [],
   "source": [
    "print(tf.__version__)"
   ]
  },
  {
   "cell_type": "code",
   "execution_count": null,
   "metadata": {
    "ExecuteTime": {
     "end_time": "2020-09-09T04:59:27.261579Z",
     "start_time": "2020-09-09T04:59:27.260017Z"
    },
    "colab": {
     "base_uri": "https://localhost:8080/",
     "height": 131
    },
    "colab_type": "code",
    "executionInfo": {
     "elapsed": 27123,
     "status": "ok",
     "timestamp": 1598780396377,
     "user": {
      "displayName": "‍조유정[학생](대학원 경영학과)",
      "photoUrl": "",
      "userId": "08462910251745570933"
     },
     "user_tz": -540
    },
    "id": "w2eCCUYdvFqr",
    "outputId": "44360df6-fabe-41ba-eca1-bc9877ba403d"
   },
   "outputs": [],
   "source": [
    "#from google.colab import drive\n",
    "#drive.mount('/content/drive')"
   ]
  },
  {
   "cell_type": "code",
   "execution_count": null,
   "metadata": {
    "ExecuteTime": {
     "end_time": "2020-09-09T04:59:27.468163Z",
     "start_time": "2020-09-09T04:59:27.459254Z"
    },
    "colab": {
     "base_uri": "https://localhost:8080/",
     "height": 36
    },
    "colab_type": "code",
    "executionInfo": {
     "elapsed": 886,
     "status": "ok",
     "timestamp": 1598799256874,
     "user": {
      "displayName": "‍조유정[학생](대학원 경영학과)",
      "photoUrl": "",
      "userId": "08462910251745570933"
     },
     "user_tz": -540
    },
    "id": "ZMCV8gaD2jMu",
    "outputId": "93699e97-0928-4e7b-daf2-5a3cdff1b8d0"
   },
   "outputs": [],
   "source": [
    "os.getcwd()"
   ]
  },
  {
   "cell_type": "code",
   "execution_count": null,
   "metadata": {
    "ExecuteTime": {
     "end_time": "2020-09-09T04:59:28.010920Z",
     "start_time": "2020-09-09T04:59:28.004096Z"
    },
    "colab": {},
    "colab_type": "code",
    "executionInfo": {
     "elapsed": 911,
     "status": "ok",
     "timestamp": 1598799252818,
     "user": {
      "displayName": "‍조유정[학생](대학원 경영학과)",
      "photoUrl": "",
      "userId": "08462910251745570933"
     },
     "user_tz": -540
    },
    "id": "rqW9jqeF2q0d"
   },
   "outputs": [],
   "source": [
    "#os.chdir('/content/drive/My Drive/posters')"
   ]
  },
  {
   "cell_type": "code",
   "execution_count": null,
   "metadata": {
    "ExecuteTime": {
     "end_time": "2020-09-09T04:59:28.417039Z",
     "start_time": "2020-09-09T04:59:28.413223Z"
    },
    "colab": {},
    "colab_type": "code",
    "executionInfo": {
     "elapsed": 923,
     "status": "ok",
     "timestamp": 1598781247823,
     "user": {
      "displayName": "‍조유정[학생](대학원 경영학과)",
      "photoUrl": "",
      "userId": "08462910251745570933"
     },
     "user_tz": -540
    },
    "id": "9uLRxOeiwyqf"
   },
   "outputs": [],
   "source": [
    "# !mkdir -p '/content/drive/My Drive/posters'"
   ]
  },
  {
   "cell_type": "code",
   "execution_count": 4,
   "metadata": {
    "ExecuteTime": {
     "end_time": "2020-09-17T05:57:28.513696Z",
     "start_time": "2020-09-17T05:57:28.297704Z"
    },
    "colab": {},
    "colab_type": "code",
    "executionInfo": {
     "elapsed": 27085,
     "status": "ok",
     "timestamp": 1598799304274,
     "user": {
      "displayName": "‍조유정[학생](대학원 경영학과)",
      "photoUrl": "",
      "userId": "08462910251745570933"
     },
     "user_tz": -540
    },
    "id": "vmjd2FERqOHu"
   },
   "outputs": [],
   "source": [
    "#test셋과 train셋으로 데이터 나눔\n",
    "\n",
    "renew_database = 1\n",
    "#파일 처리 - error예방\n",
    "if(renew_database):\n",
    "    if os.path.exists('train'):\n",
    "        shutil.rmtree('train')\n",
    "    if os.path.exists('test'):\n",
    "        shutil.rmtree('test')\n",
    "    if not os.path.exists('train'):\n",
    "        os.mkdir('train')\n",
    "    if not os.path.exists('test'):\n",
    "        os.mkdir('test')\n",
    "\n",
    "\n",
    "\n",
    "    rate=0.1 #분할 비율\n",
    "    \n",
    "    for root_dir in ['0_tt', '1_tt']:\n",
    "        list_file = os.listdir(root_dir)\n",
    "        picknumber=int(len(list_file)*rate) #test이미지 개수\n",
    "        test_pic = random.sample(list_file, picknumber) #test중애서 랜덤으로 뽑기\n",
    "        os.mkdir('train/'+root_dir)\n",
    "        os.mkdir('test/'+root_dir)\n",
    "        for item in list_file:\n",
    "            if item in test_pic:\n",
    "                shutil.copy(root_dir+'/'+item,'test/'+root_dir+'/'+item)\n",
    "            else:  #나머지는 train\n",
    "                shutil.copy(root_dir+'/'+item,'train/'+root_dir+'/'+item)"
   ]
  },
  {
   "cell_type": "code",
   "execution_count": 5,
   "metadata": {
    "ExecuteTime": {
     "end_time": "2020-09-17T05:57:32.455419Z",
     "start_time": "2020-09-17T05:57:32.450018Z"
    },
    "colab": {},
    "colab_type": "code",
    "executionInfo": {
     "elapsed": 931,
     "status": "ok",
     "timestamp": 1598799323150,
     "user": {
      "displayName": "‍조유정[학생](대학원 경영학과)",
      "photoUrl": "",
      "userId": "08462910251745570933"
     },
     "user_tz": -540
    },
    "id": "xL9F184ZqOPo"
   },
   "outputs": [],
   "source": [
    "train_dir = os.path.join('/home/caitech/Desktop/yujung/train/')\n",
    "test_dir = os.path.join('/home/caitech/Desktop/yujung/test/')\n",
    "valid_dir = os.path.join('/home/caitech/Desktop/yujung/valid/')"
   ]
  },
  {
   "cell_type": "code",
   "execution_count": 6,
   "metadata": {
    "ExecuteTime": {
     "end_time": "2020-09-17T05:57:34.995484Z",
     "start_time": "2020-09-17T05:57:34.993162Z"
    },
    "colab": {},
    "colab_type": "code",
    "executionInfo": {
     "elapsed": 1163,
     "status": "ok",
     "timestamp": 1598799325057,
     "user": {
      "displayName": "‍조유정[학생](대학원 경영학과)",
      "photoUrl": "",
      "userId": "08462910251745570933"
     },
     "user_tz": -540
    },
    "id": "lxrpbE3mzE7p"
   },
   "outputs": [],
   "source": [
    "train_datagen = ImageDataGenerator(rescale = 1./255)\n",
    "test_datagen = ImageDataGenerator(rescale=1. / 255)\n",
    "valid_datagen = ImageDataGenerator(rescale =1./ 255)"
   ]
  },
  {
   "cell_type": "code",
   "execution_count": 7,
   "metadata": {
    "ExecuteTime": {
     "end_time": "2020-09-17T05:57:37.815718Z",
     "start_time": "2020-09-17T05:57:37.810066Z"
    },
    "colab": {},
    "colab_type": "code",
    "executionInfo": {
     "elapsed": 842,
     "status": "ok",
     "timestamp": 1598799325491,
     "user": {
      "displayName": "‍조유정[학생](대학원 경영학과)",
      "photoUrl": "",
      "userId": "08462910251745570933"
     },
     "user_tz": -540
    },
    "id": "OxP2Q1T1zFFT"
   },
   "outputs": [],
   "source": [
    "IMAGE_SIZE = 224"
   ]
  },
  {
   "cell_type": "code",
   "execution_count": 8,
   "metadata": {
    "ExecuteTime": {
     "end_time": "2020-09-17T05:57:38.541867Z",
     "start_time": "2020-09-17T05:57:38.419747Z"
    },
    "colab": {
     "base_uri": "https://localhost:8080/",
     "height": 36
    },
    "colab_type": "code",
    "executionInfo": {
     "elapsed": 1037,
     "status": "ok",
     "timestamp": 1598799331521,
     "user": {
      "displayName": "‍조유정[학생](대학원 경영학과)",
      "photoUrl": "",
      "userId": "08462910251745570933"
     },
     "user_tz": -540
    },
    "id": "ht2YmUAMzOUJ",
    "outputId": "1706adad-a07d-479b-dc14-4c74b59ff8ed"
   },
   "outputs": [
    {
     "name": "stdout",
     "output_type": "stream",
     "text": [
      "Found 1139 images belonging to 2 classes.\n"
     ]
    }
   ],
   "source": [
    "#데이터를 읽고 이미지를 한번에 넣은 개수_train\n",
    "train_generator = train_datagen.flow_from_directory(train_dir, target_size=(IMAGE_SIZE, IMAGE_SIZE),batch_size = 30,class_mode='binary')"
   ]
  },
  {
   "cell_type": "code",
   "execution_count": 9,
   "metadata": {
    "ExecuteTime": {
     "end_time": "2020-09-17T05:57:41.474588Z",
     "start_time": "2020-09-17T05:57:41.369316Z"
    },
    "colab": {
     "base_uri": "https://localhost:8080/",
     "height": 36
    },
    "colab_type": "code",
    "executionInfo": {
     "elapsed": 992,
     "status": "ok",
     "timestamp": 1598799333078,
     "user": {
      "displayName": "‍조유정[학생](대학원 경영학과)",
      "photoUrl": "",
      "userId": "08462910251745570933"
     },
     "user_tz": -540
    },
    "id": "WIoZXMKTzOXi",
    "outputId": "11b6c3b3-75bb-4912-e04d-6cc20ac14851"
   },
   "outputs": [
    {
     "name": "stdout",
     "output_type": "stream",
     "text": [
      "Found 125 images belonging to 2 classes.\n"
     ]
    }
   ],
   "source": [
    "#데이터를 읽고 이미지를 한번에 넣은 개수_validation\n",
    "test_generator = test_datagen.flow_from_directory(test_dir, target_size=(IMAGE_SIZE, IMAGE_SIZE),batch_size = 10, class_mode='binary')"
   ]
  },
  {
   "cell_type": "code",
   "execution_count": 10,
   "metadata": {
    "ExecuteTime": {
     "end_time": "2020-09-17T05:57:42.873614Z",
     "start_time": "2020-09-17T05:57:42.762037Z"
    }
   },
   "outputs": [
    {
     "name": "stdout",
     "output_type": "stream",
     "text": [
      "Found 584 images belonging to 2 classes.\n"
     ]
    }
   ],
   "source": [
    "valid_generator = valid_datagen.flow_from_directory(valid_dir, target_size = (IMAGE_SIZE, IMAGE_SIZE), batch_size = 10, class_mode='binary',shuffle=False)"
   ]
  },
  {
   "cell_type": "code",
   "execution_count": 11,
   "metadata": {
    "ExecuteTime": {
     "end_time": "2020-09-17T05:57:49.436923Z",
     "start_time": "2020-09-17T05:57:48.546078Z"
    },
    "colab": {
     "base_uri": "https://localhost:8080/",
     "height": 93
    },
    "colab_type": "code",
    "executionInfo": {
     "elapsed": 2456,
     "status": "ok",
     "timestamp": 1598799338926,
     "user": {
      "displayName": "‍조유정[학생](대학원 경영학과)",
      "photoUrl": "",
      "userId": "08462910251745570933"
     },
     "user_tz": -540
    },
    "id": "93CVM26SzOa1",
    "outputId": "218b3582-7e77-4708-f352-086da2275eb2"
   },
   "outputs": [
    {
     "name": "stdout",
     "output_type": "stream",
     "text": [
      "WARNING:tensorflow:From /home/caitech/anaconda3/envs/yu4/lib/python3.7/site-packages/tensorflow_core/python/ops/resource_variable_ops.py:1630: calling BaseResourceVariable.__init__ (from tensorflow.python.ops.resource_variable_ops) with constraint is deprecated and will be removed in a future version.\n",
      "Instructions for updating:\n",
      "If using Keras pass *_constraint arguments to layers.\n"
     ]
    }
   ],
   "source": [
    "#vgg model생성\n",
    "pre_trained_vgg = VGG16(weights = 'imagenet',include_top = False,input_shape = (224,224,3))"
   ]
  },
  {
   "cell_type": "code",
   "execution_count": null,
   "metadata": {
    "ExecuteTime": {
     "end_time": "2020-09-07T09:28:48.043251Z",
     "start_time": "2020-09-07T09:28:48.041634Z"
    },
    "colab": {},
    "colab_type": "code",
    "executionInfo": {
     "elapsed": 1020,
     "status": "ok",
     "timestamp": 1598799341317,
     "user": {
      "displayName": "‍조유정[학생](대학원 경영학과)",
      "photoUrl": "",
      "userId": "08462910251745570933"
     },
     "user_tz": -540
    },
    "id": "G_uvJI5uzOd3"
   },
   "outputs": [],
   "source": [
    "#pre_trained_vgg.summary()"
   ]
  },
  {
   "cell_type": "code",
   "execution_count": 12,
   "metadata": {
    "ExecuteTime": {
     "end_time": "2020-09-17T05:57:50.487218Z",
     "start_time": "2020-09-17T05:57:50.484640Z"
    },
    "colab": {},
    "colab_type": "code",
    "executionInfo": {
     "elapsed": 867,
     "status": "ok",
     "timestamp": 1598799346382,
     "user": {
      "displayName": "‍조유정[학생](대학원 경영학과)",
      "photoUrl": "",
      "userId": "08462910251745570933"
     },
     "user_tz": -540
    },
    "id": "SQay-WSozUBc"
   },
   "outputs": [],
   "source": [
    "for layer in pre_trained_vgg.layers:\n",
    "    layer.trainable = False"
   ]
  },
  {
   "cell_type": "code",
   "execution_count": 13,
   "metadata": {
    "ExecuteTime": {
     "end_time": "2020-09-17T05:57:52.027313Z",
     "start_time": "2020-09-17T05:57:51.905294Z"
    },
    "colab": {
     "base_uri": "https://localhost:8080/",
     "height": 503
    },
    "colab_type": "code",
    "executionInfo": {
     "elapsed": 878,
     "status": "ok",
     "timestamp": 1598799348145,
     "user": {
      "displayName": "‍조유정[학생](대학원 경영학과)",
      "photoUrl": "",
      "userId": "08462910251745570933"
     },
     "user_tz": -540
    },
    "id": "PPzGicj4zUFC",
    "outputId": "d149e386-8128-46e0-a009-59d26cdc9d3e"
   },
   "outputs": [
    {
     "name": "stdout",
     "output_type": "stream",
     "text": [
      "Model: \"sequential\"\n",
      "_________________________________________________________________\n",
      "Layer (type)                 Output Shape              Param #   \n",
      "=================================================================\n",
      "vgg16 (Model)                (None, 7, 7, 512)         14714688  \n",
      "_________________________________________________________________\n",
      "flatten (Flatten)            (None, 25088)             0         \n",
      "_________________________________________________________________\n",
      "dense (Dense)                (None, 1024)              25691136  \n",
      "_________________________________________________________________\n",
      "dropout (Dropout)            (None, 1024)              0         \n",
      "_________________________________________________________________\n",
      "dense_1 (Dense)              (None, 512)               524800    \n",
      "_________________________________________________________________\n",
      "dropout_1 (Dropout)          (None, 512)               0         \n",
      "_________________________________________________________________\n",
      "dense_2 (Dense)              (None, 256)               131328    \n",
      "_________________________________________________________________\n",
      "dropout_2 (Dropout)          (None, 256)               0         \n",
      "_________________________________________________________________\n",
      "dense_3 (Dense)              (None, 2)                 514       \n",
      "=================================================================\n",
      "Total params: 41,062,466\n",
      "Trainable params: 26,347,778\n",
      "Non-trainable params: 14,714,688\n",
      "_________________________________________________________________\n"
     ]
    }
   ],
   "source": [
    "vgg_model = tf.keras.Sequential()\n",
    "vgg_model.add(pre_trained_vgg)\n",
    "vgg_model.add(layers.Flatten())\n",
    "vgg_model.add(layers.Dense(1024,activation = 'relu'))\n",
    "vgg_model.add(Dropout(0.5))\n",
    "vgg_model.add(layers.Dense(512,activation = 'relu'))\n",
    "vgg_model.add(Dropout(0.5))\n",
    "vgg_model.add(layers.Dense(256,activation = 'relu'))\n",
    "vgg_model.add(Dropout(0.5))\n",
    "vgg_model.add(layers.Dense(2,activation = 'softmax'))\n",
    "\n",
    "vgg_model.summary()"
   ]
  },
  {
   "cell_type": "code",
   "execution_count": 14,
   "metadata": {
    "ExecuteTime": {
     "end_time": "2020-09-17T05:57:54.187042Z",
     "start_time": "2020-09-17T05:57:54.185232Z"
    },
    "colab": {},
    "colab_type": "code",
    "executionInfo": {
     "elapsed": 894,
     "status": "ok",
     "timestamp": 1598799451892,
     "user": {
      "displayName": "‍조유정[학생](대학원 경영학과)",
      "photoUrl": "",
      "userId": "08462910251745570933"
     },
     "user_tz": -540
    },
    "id": "_zH0otVozUI3"
   },
   "outputs": [],
   "source": [
    "early_stopping = EarlyStopping(patience = 30)"
   ]
  },
  {
   "cell_type": "code",
   "execution_count": 15,
   "metadata": {
    "ExecuteTime": {
     "end_time": "2020-09-17T05:58:00.847410Z",
     "start_time": "2020-09-17T05:58:00.817556Z"
    },
    "colab": {},
    "colab_type": "code",
    "executionInfo": {
     "elapsed": 920,
     "status": "ok",
     "timestamp": 1598799454314,
     "user": {
      "displayName": "‍조유정[학생](대학원 경영학과)",
      "photoUrl": "",
      "userId": "08462910251745570933"
     },
     "user_tz": -540
    },
    "id": "xRHGUlk3268N"
   },
   "outputs": [],
   "source": [
    "vgg_model.compile(optimizer = 'adam',\n",
    "             loss = 'sparse_categorical_crossentropy',\n",
    "             metrics = ['accuracy'])"
   ]
  },
  {
   "cell_type": "code",
   "execution_count": 16,
   "metadata": {
    "ExecuteTime": {
     "end_time": "2020-09-17T06:03:38.098784Z",
     "start_time": "2020-09-17T05:58:06.873780Z"
    },
    "colab": {
     "base_uri": "https://localhost:8080/",
     "height": 1000
    },
    "colab_type": "code",
    "executionInfo": {
     "elapsed": 501864,
     "status": "ok",
     "timestamp": 1598799966329,
     "user": {
      "displayName": "‍조유정[학생](대학원 경영학과)",
      "photoUrl": "",
      "userId": "08462910251745570933"
     },
     "user_tz": -540
    },
    "id": "a8zZJFiY27As",
    "outputId": "47e961f0-d6cb-4ea2-c870-61e043d72c22"
   },
   "outputs": [
    {
     "name": "stdout",
     "output_type": "stream",
     "text": [
      "Epoch 1/100\n",
      "37/38 [============================>.] - ETA: 0s - loss: 3.1893 - acc: 0.5771Epoch 1/100\n",
      "38/38 [==============================] - 11s 287ms/step - loss: 3.1299 - acc: 0.5830 - val_loss: 0.6387 - val_acc: 0.7040\n",
      "Epoch 2/100\n",
      "37/38 [============================>.] - ETA: 0s - loss: 1.2342 - acc: 0.5951Epoch 1/100\n",
      "38/38 [==============================] - 7s 189ms/step - loss: 1.2196 - acc: 0.5961 - val_loss: 0.6117 - val_acc: 0.7040\n",
      "Epoch 3/100\n",
      "37/38 [============================>.] - ETA: 0s - loss: 0.7200 - acc: 0.6438Epoch 1/100\n",
      "38/38 [==============================] - 8s 202ms/step - loss: 0.7178 - acc: 0.6444 - val_loss: 0.6069 - val_acc: 0.6960\n",
      "Epoch 4/100\n",
      "37/38 [============================>.] - ETA: 0s - loss: 0.6624 - acc: 0.6628Epoch 1/100\n",
      "38/38 [==============================] - 8s 202ms/step - loss: 0.6620 - acc: 0.6611 - val_loss: 0.6224 - val_acc: 0.7120\n",
      "Epoch 5/100\n",
      "37/38 [============================>.] - ETA: 0s - loss: 0.6015 - acc: 0.7106Epoch 1/100\n",
      "38/38 [==============================] - 8s 208ms/step - loss: 0.6026 - acc: 0.7076 - val_loss: 0.6512 - val_acc: 0.6880\n",
      "Epoch 6/100\n",
      "37/38 [============================>.] - ETA: 0s - loss: 0.6012 - acc: 0.6835Epoch 1/100\n",
      "38/38 [==============================] - 8s 203ms/step - loss: 0.5990 - acc: 0.6839 - val_loss: 0.6046 - val_acc: 0.6960\n",
      "Epoch 7/100\n",
      "37/38 [============================>.] - ETA: 0s - loss: 0.5499 - acc: 0.7115Epoch 1/100\n",
      "38/38 [==============================] - 8s 207ms/step - loss: 0.5472 - acc: 0.7155 - val_loss: 0.6065 - val_acc: 0.7120\n",
      "Epoch 8/100\n",
      "37/38 [============================>.] - ETA: 0s - loss: 0.5325 - acc: 0.7223Epoch 1/100\n",
      "38/38 [==============================] - 8s 208ms/step - loss: 0.5310 - acc: 0.7217 - val_loss: 0.5950 - val_acc: 0.7040\n",
      "Epoch 9/100\n",
      "37/38 [============================>.] - ETA: 0s - loss: 0.5026 - acc: 0.7619Epoch 1/100\n",
      "38/38 [==============================] - 8s 200ms/step - loss: 0.5011 - acc: 0.7621 - val_loss: 0.6274 - val_acc: 0.6320\n",
      "Epoch 10/100\n",
      "37/38 [============================>.] - ETA: 0s - loss: 0.4730 - acc: 0.7710Epoch 1/100\n",
      "38/38 [==============================] - 8s 211ms/step - loss: 0.4706 - acc: 0.7726 - val_loss: 0.6188 - val_acc: 0.6880\n",
      "Epoch 11/100\n",
      "37/38 [============================>.] - ETA: 0s - loss: 0.4593 - acc: 0.7638Epoch 1/100\n",
      "38/38 [==============================] - 8s 201ms/step - loss: 0.4548 - acc: 0.7647 - val_loss: 0.6418 - val_acc: 0.7200\n",
      "Epoch 12/100\n",
      "37/38 [============================>.] - ETA: 0s - loss: 0.4340 - acc: 0.7773Epoch 1/100\n",
      "38/38 [==============================] - 8s 208ms/step - loss: 0.4342 - acc: 0.7770 - val_loss: 0.5818 - val_acc: 0.6880\n",
      "Epoch 13/100\n",
      "37/38 [============================>.] - ETA: 0s - loss: 0.5201 - acc: 0.7683Epoch 1/100\n",
      "38/38 [==============================] - 8s 206ms/step - loss: 0.5192 - acc: 0.7691 - val_loss: 0.5979 - val_acc: 0.7200\n",
      "Epoch 14/100\n",
      "37/38 [============================>.] - ETA: 0s - loss: 0.4282 - acc: 0.7890Epoch 1/100\n",
      "38/38 [==============================] - 8s 204ms/step - loss: 0.4290 - acc: 0.7902 - val_loss: 0.6071 - val_acc: 0.6960\n",
      "Epoch 15/100\n",
      "37/38 [============================>.] - ETA: 0s - loss: 0.3970 - acc: 0.8170Epoch 1/100\n",
      "38/38 [==============================] - 8s 200ms/step - loss: 0.3992 - acc: 0.8139 - val_loss: 0.6596 - val_acc: 0.7120\n",
      "Epoch 16/100\n",
      "37/38 [============================>.] - ETA: 0s - loss: 0.3926 - acc: 0.7962Epoch 1/100\n",
      "38/38 [==============================] - 8s 203ms/step - loss: 0.3909 - acc: 0.7998 - val_loss: 0.6400 - val_acc: 0.6560\n",
      "Epoch 17/100\n",
      "37/38 [============================>.] - ETA: 0s - loss: 0.4336 - acc: 0.7953Epoch 1/100\n",
      "38/38 [==============================] - 8s 203ms/step - loss: 0.4318 - acc: 0.7972 - val_loss: 0.6305 - val_acc: 0.6640\n",
      "Epoch 18/100\n",
      "37/38 [============================>.] - ETA: 0s - loss: 0.3796 - acc: 0.8079Epoch 1/100\n",
      "38/38 [==============================] - 8s 206ms/step - loss: 0.3786 - acc: 0.8086 - val_loss: 0.8304 - val_acc: 0.7120\n",
      "Epoch 19/100\n",
      "37/38 [============================>.] - ETA: 0s - loss: 0.3090 - acc: 0.8440Epoch 1/100\n",
      "38/38 [==============================] - 8s 202ms/step - loss: 0.3066 - acc: 0.8464 - val_loss: 0.8664 - val_acc: 0.7040\n",
      "Epoch 20/100\n",
      "37/38 [============================>.] - ETA: 0s - loss: 0.3135 - acc: 0.8476Epoch 1/100\n",
      "38/38 [==============================] - 8s 204ms/step - loss: 0.3102 - acc: 0.8499 - val_loss: 0.7803 - val_acc: 0.6560\n",
      "Epoch 21/100\n",
      "37/38 [============================>.] - ETA: 0s - loss: 0.2759 - acc: 0.8530Epoch 1/100\n",
      "38/38 [==============================] - 8s 203ms/step - loss: 0.2725 - acc: 0.8569 - val_loss: 1.0246 - val_acc: 0.6800\n",
      "Epoch 22/100\n",
      "37/38 [============================>.] - ETA: 0s - loss: 0.2695 - acc: 0.8720Epoch 1/100\n",
      "38/38 [==============================] - 8s 213ms/step - loss: 0.2680 - acc: 0.8727 - val_loss: 1.0225 - val_acc: 0.6800\n",
      "Epoch 23/100\n",
      "37/38 [============================>.] - ETA: 0s - loss: 0.2844 - acc: 0.8640Epoch 1/100\n",
      "38/38 [==============================] - 8s 204ms/step - loss: 0.2863 - acc: 0.8613 - val_loss: 0.9119 - val_acc: 0.6560\n",
      "Epoch 24/100\n",
      "37/38 [============================>.] - ETA: 0s - loss: 0.2697 - acc: 0.8467Epoch 1/100\n",
      "38/38 [==============================] - 8s 207ms/step - loss: 0.2713 - acc: 0.8481 - val_loss: 1.0184 - val_acc: 0.6480\n",
      "Epoch 25/100\n",
      "37/38 [============================>.] - ETA: 0s - loss: 0.2788 - acc: 0.8584Epoch 1/100\n",
      "38/38 [==============================] - 8s 206ms/step - loss: 0.2845 - acc: 0.8543 - val_loss: 0.9945 - val_acc: 0.7120\n",
      "Epoch 26/100\n",
      "37/38 [============================>.] - ETA: 0s - loss: 0.2236 - acc: 0.8900Epoch 1/100\n",
      "38/38 [==============================] - 8s 213ms/step - loss: 0.2246 - acc: 0.8876 - val_loss: 1.0156 - val_acc: 0.6560\n",
      "Epoch 27/100\n",
      "37/38 [============================>.] - ETA: 0s - loss: 0.2457 - acc: 0.8647Epoch 1/100\n",
      "38/38 [==============================] - 8s 218ms/step - loss: 0.2456 - acc: 0.8657 - val_loss: 0.8938 - val_acc: 0.6320\n",
      "Epoch 28/100\n",
      "37/38 [============================>.] - ETA: 0s - loss: 0.2540 - acc: 0.8702Epoch 1/100\n",
      "38/38 [==============================] - 8s 206ms/step - loss: 0.2520 - acc: 0.8709 - val_loss: 1.1374 - val_acc: 0.6480\n",
      "Epoch 29/100\n",
      "37/38 [============================>.] - ETA: 0s - loss: 0.2255 - acc: 0.8873Epoch 1/100\n",
      "38/38 [==============================] - 8s 204ms/step - loss: 0.2257 - acc: 0.8867 - val_loss: 1.2231 - val_acc: 0.6960\n",
      "Epoch 30/100\n",
      "37/38 [============================>.] - ETA: 0s - loss: 0.2566 - acc: 0.8647Epoch 1/100\n",
      "38/38 [==============================] - 8s 206ms/step - loss: 0.2548 - acc: 0.8665 - val_loss: 1.0723 - val_acc: 0.6640\n",
      "Epoch 31/100\n",
      "37/38 [============================>.] - ETA: 0s - loss: 0.2187 - acc: 0.8837Epoch 1/100\n",
      "38/38 [==============================] - 8s 209ms/step - loss: 0.2172 - acc: 0.8841 - val_loss: 1.3927 - val_acc: 0.6400\n",
      "Epoch 32/100\n",
      "37/38 [============================>.] - ETA: 0s - loss: 0.2401 - acc: 0.8792Epoch 1/100\n",
      "38/38 [==============================] - 8s 206ms/step - loss: 0.2420 - acc: 0.8788 - val_loss: 1.1307 - val_acc: 0.6640\n",
      "Epoch 33/100\n",
      "37/38 [============================>.] - ETA: 0s - loss: 0.2265 - acc: 0.8846Epoch 1/100\n",
      "38/38 [==============================] - 7s 197ms/step - loss: 0.2295 - acc: 0.8832 - val_loss: 1.3105 - val_acc: 0.7120\n",
      "Epoch 34/100\n",
      "37/38 [============================>.] - ETA: 0s - loss: 0.2131 - acc: 0.8936Epoch 1/100\n",
      "38/38 [==============================] - 8s 210ms/step - loss: 0.2141 - acc: 0.8929 - val_loss: 0.9895 - val_acc: 0.6640\n",
      "Epoch 35/100\n",
      "37/38 [============================>.] - ETA: 0s - loss: 0.2830 - acc: 0.8665Epoch 1/100\n",
      "38/38 [==============================] - 8s 212ms/step - loss: 0.2872 - acc: 0.8639 - val_loss: 0.8738 - val_acc: 0.6560\n",
      "Epoch 36/100\n",
      "37/38 [============================>.] - ETA: 0s - loss: 0.2821 - acc: 0.8629Epoch 1/100\n",
      "38/38 [==============================] - 8s 207ms/step - loss: 0.2788 - acc: 0.8639 - val_loss: 1.2189 - val_acc: 0.6640\n",
      "Epoch 37/100\n",
      "37/38 [============================>.] - ETA: 0s - loss: 0.2283 - acc: 0.8837Epoch 1/100\n"
     ]
    },
    {
     "name": "stdout",
     "output_type": "stream",
     "text": [
      "38/38 [==============================] - 8s 203ms/step - loss: 0.2291 - acc: 0.8824 - val_loss: 1.2430 - val_acc: 0.6800\n",
      "Epoch 38/100\n",
      "37/38 [============================>.] - ETA: 0s - loss: 0.2104 - acc: 0.8882Epoch 1/100\n",
      "38/38 [==============================] - 8s 204ms/step - loss: 0.2082 - acc: 0.8903 - val_loss: 1.1329 - val_acc: 0.6320\n",
      "Epoch 39/100\n",
      "37/38 [============================>.] - ETA: 0s - loss: 0.2216 - acc: 0.8620Epoch 1/100\n",
      "38/38 [==============================] - 8s 204ms/step - loss: 0.2202 - acc: 0.8639 - val_loss: 1.1634 - val_acc: 0.6560\n",
      "Epoch 40/100\n",
      "37/38 [============================>.] - ETA: 0s - loss: 0.1957 - acc: 0.8873Epoch 1/100\n",
      "38/38 [==============================] - 8s 206ms/step - loss: 0.1949 - acc: 0.8885 - val_loss: 1.2324 - val_acc: 0.6880\n",
      "Epoch 41/100\n",
      "37/38 [============================>.] - ETA: 0s - loss: 0.1730 - acc: 0.8954Epoch 1/100\n",
      "38/38 [==============================] - 8s 210ms/step - loss: 0.1733 - acc: 0.8964 - val_loss: 1.4901 - val_acc: 0.6720\n",
      "Epoch 42/100\n",
      "37/38 [============================>.] - ETA: 0s - loss: 0.2047 - acc: 0.8954Epoch 1/100\n",
      "38/38 [==============================] - 8s 210ms/step - loss: 0.2029 - acc: 0.8964 - val_loss: 0.9058 - val_acc: 0.6240\n"
     ]
    }
   ],
   "source": [
    "history_vgg = vgg_model.fit_generator(\n",
    "        train_generator,\n",
    "        steps_per_epoch = math.ceil(train_generator.n / train_generator.batch_size),\n",
    "        epochs=100,\n",
    "        validation_data=test_generator,\n",
    "        validation_steps = math.ceil(test_generator.n / test_generator.batch_size),\n",
    "        callbacks = [early_stopping]\n",
    "        )"
   ]
  },
  {
   "cell_type": "code",
   "execution_count": 17,
   "metadata": {
    "ExecuteTime": {
     "end_time": "2020-09-17T06:03:52.010272Z",
     "start_time": "2020-09-17T06:03:47.271036Z"
    },
    "colab": {},
    "colab_type": "code",
    "executionInfo": {
     "elapsed": 2906,
     "status": "ok",
     "timestamp": 1598800137640,
     "user": {
      "displayName": "‍조유정[학생](대학원 경영학과)",
      "photoUrl": "",
      "userId": "08462910251745570933"
     },
     "user_tz": -540
    },
    "id": "kh8IwXD527IM"
   },
   "outputs": [],
   "source": [
    "scores = vgg_model.evaluate_generator(valid_generator, steps=math.ceil(valid_generator.n / valid_generator.batch_size))"
   ]
  },
  {
   "cell_type": "code",
   "execution_count": 18,
   "metadata": {
    "ExecuteTime": {
     "end_time": "2020-09-17T06:03:53.743437Z",
     "start_time": "2020-09-17T06:03:53.740150Z"
    },
    "colab": {
     "base_uri": "https://localhost:8080/",
     "height": 36
    },
    "colab_type": "code",
    "executionInfo": {
     "elapsed": 969,
     "status": "ok",
     "timestamp": 1598800140609,
     "user": {
      "displayName": "‍조유정[학생](대학원 경영학과)",
      "photoUrl": "",
      "userId": "08462910251745570933"
     },
     "user_tz": -540
    },
    "id": "O3liS_nwCXGR",
    "outputId": "80c2fc93-5bf0-4c30-9ae7-c507834ff055"
   },
   "outputs": [
    {
     "data": {
      "text/plain": [
       "[0.8984000598538225, 0.6746575]"
      ]
     },
     "execution_count": 18,
     "metadata": {},
     "output_type": "execute_result"
    }
   ],
   "source": [
    "scores"
   ]
  },
  {
   "cell_type": "code",
   "execution_count": 19,
   "metadata": {
    "ExecuteTime": {
     "end_time": "2020-09-17T06:04:02.009848Z",
     "start_time": "2020-09-17T06:04:01.643976Z"
    }
   },
   "outputs": [],
   "source": [
    "vgg_model.save('/home/caitech/Desktop/yujung/vgg_weight.h5')"
   ]
  },
  {
   "cell_type": "code",
   "execution_count": 21,
   "metadata": {
    "ExecuteTime": {
     "end_time": "2020-09-17T06:04:30.097322Z",
     "start_time": "2020-09-17T06:04:28.281609Z"
    }
   },
   "outputs": [
    {
     "name": "stdout",
     "output_type": "stream",
     "text": [
      "WARNING:tensorflow:From /home/caitech/anaconda3/envs/yu4/lib/python3.7/site-packages/tensorflow_core/python/ops/init_ops.py:97: calling GlorotUniform.__init__ (from tensorflow.python.ops.init_ops) with dtype is deprecated and will be removed in a future version.\n",
      "Instructions for updating:\n",
      "Call initializer instance with the dtype argument instead of passing it to the constructor\n",
      "WARNING:tensorflow:From /home/caitech/anaconda3/envs/yu4/lib/python3.7/site-packages/tensorflow_core/python/ops/init_ops.py:97: calling Zeros.__init__ (from tensorflow.python.ops.init_ops) with dtype is deprecated and will be removed in a future version.\n",
      "Instructions for updating:\n",
      "Call initializer instance with the dtype argument instead of passing it to the constructor\n"
     ]
    }
   ],
   "source": [
    "loadmodel = load_model('vgg_weight.h5')"
   ]
  },
  {
   "cell_type": "code",
   "execution_count": 22,
   "metadata": {
    "ExecuteTime": {
     "end_time": "2020-09-17T06:04:35.369198Z",
     "start_time": "2020-09-17T06:04:31.045182Z"
    }
   },
   "outputs": [
    {
     "data": {
      "text/plain": [
       "[0.8984000598538225, 0.6746575]"
      ]
     },
     "execution_count": 22,
     "metadata": {},
     "output_type": "execute_result"
    }
   ],
   "source": [
    "loadmodel.evaluate_generator(valid_generator, steps=math.ceil(valid_generator.n / valid_generator.batch_size))"
   ]
  },
  {
   "cell_type": "code",
   "execution_count": 23,
   "metadata": {
    "ExecuteTime": {
     "end_time": "2020-09-17T06:04:43.122801Z",
     "start_time": "2020-09-17T06:04:43.119725Z"
    },
    "colab": {},
    "colab_type": "code",
    "executionInfo": {
     "elapsed": 938,
     "status": "ok",
     "timestamp": 1598800148031,
     "user": {
      "displayName": "‍조유정[학생](대학원 경영학과)",
      "photoUrl": "",
      "userId": "08462910251745570933"
     },
     "user_tz": -540
    },
    "id": "BsD_fMClDWuC"
   },
   "outputs": [],
   "source": [
    "history_vgg_df = pd.DataFrame(history_vgg.history)\n",
    "scores_df = pd.DataFrame(scores)"
   ]
  },
  {
   "cell_type": "code",
   "execution_count": 24,
   "metadata": {
    "ExecuteTime": {
     "end_time": "2020-09-17T06:04:45.686320Z",
     "start_time": "2020-09-17T06:04:45.565435Z"
    },
    "colab": {},
    "colab_type": "code",
    "executionInfo": {
     "elapsed": 988,
     "status": "ok",
     "timestamp": 1598800152459,
     "user": {
      "displayName": "‍조유정[학생](대학원 경영학과)",
      "photoUrl": "",
      "userId": "08462910251745570933"
     },
     "user_tz": -540
    },
    "id": "SfeB3OpKDW2o"
   },
   "outputs": [],
   "source": [
    "history_vgg_df.to_excel('./vgg_history_0916.xlsx')\n",
    "scores_df.to_excel('./vgg_scores_0916.xlsx')"
   ]
  },
  {
   "cell_type": "code",
   "execution_count": null,
   "metadata": {
    "ExecuteTime": {
     "end_time": "2020-09-07T11:09:10.243517Z",
     "start_time": "2020-09-07T11:09:10.241955Z"
    },
    "colab": {
     "base_uri": "https://localhost:8080/",
     "height": 391
    },
    "colab_type": "code",
    "executionInfo": {
     "elapsed": 956,
     "status": "ok",
     "timestamp": 1598800154065,
     "user": {
      "displayName": "‍조유정[학생](대학원 경영학과)",
      "photoUrl": "",
      "userId": "08462910251745570933"
     },
     "user_tz": -540
    },
    "id": "w-fp58DM9fWM",
    "outputId": "ad07a697-9951-419d-bb72-89dab7459206"
   },
   "outputs": [],
   "source": [
    "#!nvidia-smi"
   ]
  },
  {
   "cell_type": "code",
   "execution_count": 25,
   "metadata": {
    "ExecuteTime": {
     "end_time": "2020-09-17T06:04:53.038766Z",
     "start_time": "2020-09-17T06:04:48.804693Z"
    },
    "colab": {},
    "colab_type": "code",
    "executionInfo": {
     "elapsed": 3242,
     "status": "ok",
     "timestamp": 1598800216807,
     "user": {
      "displayName": "‍조유정[학생](대학원 경영학과)",
      "photoUrl": "",
      "userId": "08462910251745570933"
     },
     "user_tz": -540
    },
    "id": "DqjB1nHd3CXa"
   },
   "outputs": [],
   "source": [
    "#Confution Matrix and Classification Report\n",
    "#Y_pred = model.predict_generator(validation_generator, num_of_test_samples // batch_size+1)\n",
    "Y_pred = vgg_model.predict_generator(valid_generator, math.ceil(valid_generator.n / valid_generator.batch_size))\n",
    "y_pred = np.argmax(Y_pred, axis=1)"
   ]
  },
  {
   "cell_type": "code",
   "execution_count": 26,
   "metadata": {
    "ExecuteTime": {
     "end_time": "2020-09-17T06:04:57.671713Z",
     "start_time": "2020-09-17T06:04:57.668514Z"
    },
    "colab": {
     "base_uri": "https://localhost:8080/",
     "height": 36
    },
    "colab_type": "code",
    "executionInfo": {
     "elapsed": 898,
     "status": "ok",
     "timestamp": 1598800219492,
     "user": {
      "displayName": "‍조유정[학생](대학원 경영학과)",
      "photoUrl": "",
      "userId": "08462910251745570933"
     },
     "user_tz": -540
    },
    "id": "73UHKKyF3Cac",
    "outputId": "9d3d1327-63af-4bfe-ca7d-e298144ce3a7"
   },
   "outputs": [
    {
     "data": {
      "text/plain": [
       "array([1, 0, 1, 1, 0, 0, 1, 1, 1, 1, 1, 1, 1, 0, 1, 1, 1, 0, 1, 1, 1, 0,\n",
       "       1, 1, 0, 0, 0, 1, 1, 1, 1, 1, 1, 1, 1, 0, 0, 1, 1, 1, 1, 1, 1, 0,\n",
       "       0, 1, 1, 1, 0, 1, 1, 0, 1, 0, 1, 0, 0, 1, 1, 0, 1, 1, 1, 0, 1, 1,\n",
       "       0, 1, 0, 1, 1, 1, 1, 1, 0, 1, 0, 1, 1, 0, 1, 1, 1, 1, 1, 1, 1, 1,\n",
       "       1, 1, 1, 0, 1, 1, 1, 1, 0, 1, 1, 0, 0, 1, 1, 1, 1, 1, 1, 1, 1, 0,\n",
       "       1, 0, 0, 0, 1, 0, 0, 0, 1, 0, 1, 1, 0, 1, 0, 1, 1, 1, 0, 1, 1, 1,\n",
       "       0, 1, 1, 1, 1, 1, 0, 1, 1, 1, 0, 0, 0, 0, 0, 1, 0, 1, 1, 1, 0, 0,\n",
       "       0, 0, 0, 1, 1, 0, 1, 0, 0, 1, 0, 0, 1, 1, 1, 1, 0, 1, 1, 0, 1, 1,\n",
       "       1, 1, 1, 0, 1, 1, 0, 1, 1, 0, 1, 1, 1, 1, 1, 1, 1, 1, 1, 1, 1, 1,\n",
       "       1, 1, 0, 1, 1, 0, 1, 1, 0, 1, 1, 1, 1, 1, 0, 1, 1, 1, 1, 1, 1, 1,\n",
       "       0, 1, 0, 1, 1, 1, 1, 1, 0, 1, 1, 1, 1, 1, 1, 1, 1, 1, 1, 1, 1, 1,\n",
       "       1, 1, 0, 1, 0, 1, 1, 0, 1, 1, 1, 1, 1, 1, 1, 1, 0, 1, 1, 1, 1, 1,\n",
       "       0, 1, 1, 1, 1, 0, 1, 1, 1, 0, 1, 1, 0, 1, 1, 0, 1, 1, 1, 1, 1, 1,\n",
       "       1, 0, 1, 1, 1, 1, 0, 1, 1, 1, 1, 1, 1, 1, 0, 1, 1, 0, 1, 1, 1, 1,\n",
       "       0, 1, 1, 1, 0, 1, 0, 1, 1, 1, 1, 0, 1, 1, 1, 1, 1, 1, 1, 1, 1, 1,\n",
       "       0, 1, 1, 0, 1, 1, 1, 1, 1, 0, 1, 1, 1, 1, 1, 1, 1, 1, 0, 1, 0, 1,\n",
       "       1, 1, 1, 1, 1, 1, 1, 1, 1, 1, 1, 1, 1, 1, 1, 1, 1, 1, 1, 1, 1, 0,\n",
       "       0, 1, 0, 1, 1, 1, 1, 1, 1, 1, 1, 0, 1, 1, 1, 1, 1, 0, 1, 1, 1, 0,\n",
       "       1, 0, 0, 1, 1, 1, 0, 1, 1, 0, 1, 1, 1, 1, 0, 1, 1, 1, 1, 1, 1, 1,\n",
       "       1, 1, 1, 1, 1, 0, 0, 1, 1, 1, 1, 1, 1, 0, 1, 1, 1, 1, 1, 1, 0, 1,\n",
       "       1, 1, 1, 1, 1, 1, 0, 1, 1, 1, 1, 1, 1, 1, 1, 1, 1, 1, 1, 1, 1, 1,\n",
       "       1, 0, 1, 1, 1, 1, 1, 1, 1, 1, 1, 1, 1, 1, 1, 1, 1, 1, 1, 1, 1, 1,\n",
       "       1, 1, 1, 0, 0, 1, 1, 0, 1, 1, 1, 1, 1, 1, 1, 1, 1, 1, 1, 1, 1, 1,\n",
       "       0, 1, 1, 1, 0, 1, 1, 1, 1, 1, 0, 0, 1, 1, 1, 1, 0, 1, 1, 0, 1, 1,\n",
       "       1, 1, 1, 1, 0, 1, 0, 1, 1, 1, 0, 1, 1, 1, 1, 1, 1, 1, 1, 1, 1, 1,\n",
       "       1, 1, 1, 0, 1, 1, 0, 1, 1, 0, 1, 1, 1, 0, 1, 1, 1, 1, 0, 1, 0, 1,\n",
       "       1, 1, 1, 1, 1, 1, 0, 1, 1, 1, 1, 1])"
      ]
     },
     "execution_count": 26,
     "metadata": {},
     "output_type": "execute_result"
    }
   ],
   "source": [
    "y_pred"
   ]
  },
  {
   "cell_type": "code",
   "execution_count": 27,
   "metadata": {
    "ExecuteTime": {
     "end_time": "2020-09-17T06:05:05.017772Z",
     "start_time": "2020-09-17T06:05:05.012604Z"
    }
   },
   "outputs": [],
   "source": [
    "vgg_df = pd.DataFrame()\n",
    "vgg_df['filenames'] = valid_generator.filenames\n",
    "vgg_df['predict'] = y_pred"
   ]
  },
  {
   "cell_type": "code",
   "execution_count": 29,
   "metadata": {
    "ExecuteTime": {
     "end_time": "2020-09-17T06:06:01.690003Z",
     "start_time": "2020-09-17T06:06:01.589851Z"
    }
   },
   "outputs": [],
   "source": [
    "vgg_df.to_excel('vgg_predict.xlsx',index = False)"
   ]
  },
  {
   "cell_type": "code",
   "execution_count": null,
   "metadata": {
    "ExecuteTime": {
     "end_time": "2020-09-17T06:07:03.759455Z",
     "start_time": "2020-09-17T06:07:03.651595Z"
    },
    "colab": {
     "base_uri": "https://localhost:8080/",
     "height": 36
    },
    "colab_type": "code",
    "executionInfo": {
     "elapsed": 1313,
     "status": "ok",
     "timestamp": 1598800313039,
     "user": {
      "displayName": "‍조유정[학생](대학원 경영학과)",
      "photoUrl": "",
      "userId": "08462910251745570933"
     },
     "user_tz": -540
    },
    "id": "l5F4EdAnOXGO",
    "outputId": "703dbd97-471c-4c99-f4e7-187385146bd1"
   },
   "outputs": [],
   "source": [
    "# test_generator = test_datagen.flow_from_directory(test_dir, target_size = (IMAGE_SIZE,IMAGE_SIZE),batch_size = 10,\n",
    "#                                                 class_mode = 'binary')"
   ]
  },
  {
   "cell_type": "code",
   "execution_count": null,
   "metadata": {
    "ExecuteTime": {
     "end_time": "2020-09-07T11:09:19.731250Z",
     "start_time": "2020-09-07T11:09:19.728176Z"
    },
    "colab": {
     "base_uri": "https://localhost:8080/",
     "height": 92
    },
    "colab_type": "code",
    "executionInfo": {
     "elapsed": 1028,
     "status": "ok",
     "timestamp": 1598800229541,
     "user": {
      "displayName": "‍조유정[학생](대학원 경영학과)",
      "photoUrl": "",
      "userId": "08462910251745570933"
     },
     "user_tz": -540
    },
    "id": "ZfiuCyor3CgO",
    "outputId": "c45be644-967c-460f-df3a-5e2df2569b9b"
   },
   "outputs": [],
   "source": [
    "print('Confusion Matrix')\n",
    "print(confusion_matrix(test_generator.classes, y_pred))\n",
    "print('Classification Report')"
   ]
  },
  {
   "cell_type": "code",
   "execution_count": null,
   "metadata": {
    "ExecuteTime": {
     "end_time": "2020-09-17T05:52:44.307100Z",
     "start_time": "2020-09-17T05:52:44.283221Z"
    },
    "colab": {
     "base_uri": "https://localhost:8080/",
     "height": 185
    },
    "colab_type": "code",
    "executionInfo": {
     "elapsed": 910,
     "status": "ok",
     "timestamp": 1598800231758,
     "user": {
      "displayName": "‍조유정[학생](대학원 경영학과)",
      "photoUrl": "",
      "userId": "08462910251745570933"
     },
     "user_tz": -540
    },
    "id": "xr0mgEFy3Ci1",
    "outputId": "3436f207-d866-4470-bcf8-58c05cb6b298"
   },
   "outputs": [],
   "source": [
    "#target_names = ['Cats', 'Dogs', 'Horse']\n",
    "target_names = ['0', '1']\n",
    "print(classification_report(valid_generator.classes, y_pred, target_names=target_names))"
   ]
  },
  {
   "cell_type": "code",
   "execution_count": null,
   "metadata": {
    "ExecuteTime": {
     "end_time": "2020-09-17T05:12:35.948353Z",
     "start_time": "2020-09-17T05:12:35.939801Z"
    },
    "colab": {},
    "colab_type": "code",
    "executionInfo": {
     "elapsed": 910,
     "status": "ok",
     "timestamp": 1598800243013,
     "user": {
      "displayName": "‍조유정[학생](대학원 경영학과)",
      "photoUrl": "",
      "userId": "08462910251745570933"
     },
     "user_tz": -540
    },
    "id": "aKDdR3MOEj9r"
   },
   "outputs": [],
   "source": [
    "vgg_report = classification_report(valid_generator.classes, y_pred, target_names=target_names,output_dict=True)"
   ]
  },
  {
   "cell_type": "code",
   "execution_count": null,
   "metadata": {
    "ExecuteTime": {
     "end_time": "2020-09-17T05:12:36.602808Z",
     "start_time": "2020-09-17T05:12:36.591557Z"
    },
    "colab": {},
    "colab_type": "code",
    "executionInfo": {
     "elapsed": 924,
     "status": "ok",
     "timestamp": 1598800251912,
     "user": {
      "displayName": "‍조유정[학생](대학원 경영학과)",
      "photoUrl": "",
      "userId": "08462910251745570933"
     },
     "user_tz": -540
    },
    "id": "U7eiEg23E1_m"
   },
   "outputs": [],
   "source": [
    "vgg_report_df = pd.DataFrame(vgg_report).transpose()"
   ]
  },
  {
   "cell_type": "code",
   "execution_count": null,
   "metadata": {
    "ExecuteTime": {
     "end_time": "2020-09-17T05:12:37.733234Z",
     "start_time": "2020-09-17T05:12:37.718451Z"
    },
    "colab": {},
    "colab_type": "code",
    "executionInfo": {
     "elapsed": 1028,
     "status": "ok",
     "timestamp": 1598800253639,
     "user": {
      "displayName": "‍조유정[학생](대학원 경영학과)",
      "photoUrl": "",
      "userId": "08462910251745570933"
     },
     "user_tz": -540
    },
    "id": "12fU2qTFE70R"
   },
   "outputs": [],
   "source": [
    "vgg_report_df.to_excel('./vgg_report_0916.xlsx')"
   ]
  },
  {
   "cell_type": "code",
   "execution_count": null,
   "metadata": {
    "ExecuteTime": {
     "end_time": "2020-09-07T11:09:53.141951Z",
     "start_time": "2020-09-07T11:09:53.001846Z"
    },
    "colab": {
     "base_uri": "https://localhost:8080/",
     "height": 300
    },
    "colab_type": "code",
    "executionInfo": {
     "elapsed": 1062,
     "status": "ok",
     "timestamp": 1598800255873,
     "user": {
      "displayName": "‍조유정[학생](대학원 경영학과)",
      "photoUrl": "",
      "userId": "08462910251745570933"
     },
     "user_tz": -540
    },
    "id": "MHOLy7m0MAz0",
    "outputId": "3a340850-7e32-40f2-de9b-9db55d2c3a4e"
   },
   "outputs": [],
   "source": [
    "# epochs = range(len(history_vgg.history['acc']))\n",
    "\n",
    "# plt.plot(epochs,history_vgg.history['acc'], label='Training acc')\n",
    "# plt.plot(epochs, history_vgg.history['val_acc'],label='Validation acc')\n",
    "# plt.title('Training and validation accuracy')\n",
    "# plt.legend()"
   ]
  },
  {
   "cell_type": "code",
   "execution_count": null,
   "metadata": {
    "ExecuteTime": {
     "end_time": "2020-09-07T11:09:54.302621Z",
     "start_time": "2020-09-07T11:09:54.193968Z"
    },
    "colab": {
     "base_uri": "https://localhost:8080/",
     "height": 300
    },
    "colab_type": "code",
    "executionInfo": {
     "elapsed": 1417,
     "status": "ok",
     "timestamp": 1598800262568,
     "user": {
      "displayName": "‍조유정[학생](대학원 경영학과)",
      "photoUrl": "",
      "userId": "08462910251745570933"
     },
     "user_tz": -540
    },
    "id": "3aCNMrnKOEMz",
    "outputId": "a2f63618-dd62-4104-bd96-5481a7970071"
   },
   "outputs": [],
   "source": [
    "# #plt.figure()\n",
    "# plt.plot(epochs,history_vgg.history['loss'],label='Training loss')\n",
    "# plt.plot(epochs,history_vgg.history['val_loss'], label='Validation loss')\n",
    "# plt.title('Training and validation loss')\n",
    "# plt.legend()\n",
    "\n",
    "# #plt.show()"
   ]
  },
  {
   "cell_type": "markdown",
   "metadata": {
    "colab_type": "text",
    "id": "4vMeWPDzOKCs"
   },
   "source": [
    "Inception-V3"
   ]
  },
  {
   "cell_type": "code",
   "execution_count": 30,
   "metadata": {
    "ExecuteTime": {
     "end_time": "2020-09-17T06:06:20.126738Z",
     "start_time": "2020-09-17T06:06:20.122944Z"
    },
    "colab": {},
    "colab_type": "code",
    "executionInfo": {
     "elapsed": 1287,
     "status": "ok",
     "timestamp": 1598800294623,
     "user": {
      "displayName": "‍조유정[학생](대학원 경영학과)",
      "photoUrl": "",
      "userId": "08462910251745570933"
     },
     "user_tz": -540
    },
    "id": "81Q9iJIBOJXf"
   },
   "outputs": [],
   "source": [
    "from tensorflow.keras.applications.inception_v3 import InceptionV3\n",
    "from tensorflow.keras.preprocessing import image\n",
    "from tensorflow.keras.layers import Dense, GlobalAveragePooling2D\n",
    "from tensorflow.keras import backend as K\n",
    "from tensorflow.keras.optimizers import RMSprop"
   ]
  },
  {
   "cell_type": "code",
   "execution_count": 31,
   "metadata": {
    "ExecuteTime": {
     "end_time": "2020-09-17T06:06:21.175909Z",
     "start_time": "2020-09-17T06:06:21.173572Z"
    },
    "colab": {},
    "colab_type": "code",
    "executionInfo": {
     "elapsed": 1531,
     "status": "ok",
     "timestamp": 1598800297350,
     "user": {
      "displayName": "‍조유정[학생](대학원 경영학과)",
      "photoUrl": "",
      "userId": "08462910251745570933"
     },
     "user_tz": -540
    },
    "id": "OFu2HDDkOJar"
   },
   "outputs": [],
   "source": [
    "#크기조절\n",
    "train_datagen = ImageDataGenerator(rescale=1. / 255)\n",
    "test_datagen = ImageDataGenerator(rescale=1. / 255)\n",
    "valid_datagen = ImageDataGenerator(rescale=1./255)"
   ]
  },
  {
   "cell_type": "code",
   "execution_count": 32,
   "metadata": {
    "ExecuteTime": {
     "end_time": "2020-09-17T06:06:21.724519Z",
     "start_time": "2020-09-17T06:06:21.718899Z"
    },
    "colab": {},
    "colab_type": "code",
    "executionInfo": {
     "elapsed": 858,
     "status": "ok",
     "timestamp": 1598800297735,
     "user": {
      "displayName": "‍조유정[학생](대학원 경영학과)",
      "photoUrl": "",
      "userId": "08462910251745570933"
     },
     "user_tz": -540
    },
    "id": "ZwVTNGJiOJe3"
   },
   "outputs": [],
   "source": [
    "IMAGE_SIZE = 299"
   ]
  },
  {
   "cell_type": "code",
   "execution_count": 33,
   "metadata": {
    "ExecuteTime": {
     "end_time": "2020-09-17T06:06:51.020182Z",
     "start_time": "2020-09-17T06:06:50.898768Z"
    },
    "colab": {
     "base_uri": "https://localhost:8080/",
     "height": 36
    },
    "colab_type": "code",
    "executionInfo": {
     "elapsed": 867,
     "status": "ok",
     "timestamp": 1598800310628,
     "user": {
      "displayName": "‍조유정[학생](대학원 경영학과)",
      "photoUrl": "",
      "userId": "08462910251745570933"
     },
     "user_tz": -540
    },
    "id": "n8Run5MIOXDP",
    "outputId": "2127eb84-d3d5-45e8-bb24-e89850517bd8"
   },
   "outputs": [
    {
     "name": "stdout",
     "output_type": "stream",
     "text": [
      "Found 1139 images belonging to 2 classes.\n"
     ]
    }
   ],
   "source": [
    "#데이터를 읽고 이미지를 한번에 넣은 개수_train\n",
    "train_generator = train_datagen.flow_from_directory(train_dir, target_size=(IMAGE_SIZE, IMAGE_SIZE), batch_size=40,\n",
    "                                                        class_mode='binary')"
   ]
  },
  {
   "cell_type": "code",
   "execution_count": 34,
   "metadata": {
    "ExecuteTime": {
     "end_time": "2020-09-17T06:06:51.596514Z",
     "start_time": "2020-09-17T06:06:51.490240Z"
    },
    "colab": {
     "base_uri": "https://localhost:8080/",
     "height": 36
    },
    "colab_type": "code",
    "executionInfo": {
     "elapsed": 1313,
     "status": "ok",
     "timestamp": 1598800313039,
     "user": {
      "displayName": "‍조유정[학생](대학원 경영학과)",
      "photoUrl": "",
      "userId": "08462910251745570933"
     },
     "user_tz": -540
    },
    "id": "l5F4EdAnOXGO",
    "outputId": "703dbd97-471c-4c99-f4e7-187385146bd1"
   },
   "outputs": [
    {
     "name": "stdout",
     "output_type": "stream",
     "text": [
      "Found 125 images belonging to 2 classes.\n"
     ]
    }
   ],
   "source": [
    "test_generator = test_datagen.flow_from_directory(test_dir, target_size = (IMAGE_SIZE,IMAGE_SIZE),batch_size = 10,\n",
    "                                                 class_mode = 'binary')"
   ]
  },
  {
   "cell_type": "code",
   "execution_count": 35,
   "metadata": {
    "ExecuteTime": {
     "end_time": "2020-09-17T06:07:03.759455Z",
     "start_time": "2020-09-17T06:07:03.651595Z"
    },
    "colab": {
     "base_uri": "https://localhost:8080/",
     "height": 36
    },
    "colab_type": "code",
    "executionInfo": {
     "elapsed": 1313,
     "status": "ok",
     "timestamp": 1598800313039,
     "user": {
      "displayName": "‍조유정[학생](대학원 경영학과)",
      "photoUrl": "",
      "userId": "08462910251745570933"
     },
     "user_tz": -540
    },
    "id": "l5F4EdAnOXGO",
    "outputId": "703dbd97-471c-4c99-f4e7-187385146bd1"
   },
   "outputs": [
    {
     "name": "stdout",
     "output_type": "stream",
     "text": [
      "Found 584 images belonging to 2 classes.\n"
     ]
    }
   ],
   "source": [
    "valid_generator = valid_datagen.flow_from_directory(valid_dir, target_size = (IMAGE_SIZE,IMAGE_SIZE),batch_size = 10,\n",
    "                                                 class_mode = 'binary',shuffle = False)"
   ]
  },
  {
   "cell_type": "code",
   "execution_count": 36,
   "metadata": {
    "ExecuteTime": {
     "end_time": "2020-09-17T06:07:38.724974Z",
     "start_time": "2020-09-17T06:07:32.814223Z"
    },
    "colab": {},
    "colab_type": "code",
    "executionInfo": {
     "elapsed": 10438,
     "status": "ok",
     "timestamp": 1598800324991,
     "user": {
      "displayName": "‍조유정[학생](대학원 경영학과)",
      "photoUrl": "",
      "userId": "08462910251745570933"
     },
     "user_tz": -540
    },
    "id": "0-mwoaVgOXJJ"
   },
   "outputs": [],
   "source": [
    "pre_inceptionV3 = InceptionV3(weights = 'imagenet',include_top=False,input_shape = (299,299,3))"
   ]
  },
  {
   "cell_type": "code",
   "execution_count": null,
   "metadata": {
    "ExecuteTime": {
     "end_time": "2020-09-04T10:39:13.895277Z",
     "start_time": "2020-09-04T10:39:13.893728Z"
    },
    "colab": {},
    "colab_type": "code",
    "executionInfo": {
     "elapsed": 9601,
     "status": "ok",
     "timestamp": 1598800324992,
     "user": {
      "displayName": "‍조유정[학생](대학원 경영학과)",
      "photoUrl": "",
      "userId": "08462910251745570933"
     },
     "user_tz": -540
    },
    "id": "xUzgzzbVOXME"
   },
   "outputs": [],
   "source": [
    "# pre_inceptionV3.summary()"
   ]
  },
  {
   "cell_type": "code",
   "execution_count": 37,
   "metadata": {
    "ExecuteTime": {
     "end_time": "2020-09-17T06:07:47.836182Z",
     "start_time": "2020-09-17T06:07:45.693828Z"
    },
    "colab": {},
    "colab_type": "code",
    "executionInfo": {
     "elapsed": 12714,
     "status": "ok",
     "timestamp": 1598800328671,
     "user": {
      "displayName": "‍조유정[학생](대학원 경영학과)",
      "photoUrl": "",
      "userId": "08462910251745570933"
     },
     "user_tz": -540
    },
    "id": "4GkZU8uNOemg"
   },
   "outputs": [],
   "source": [
    "v3_model = tf.keras.Sequential()\n",
    "v3_model.add(pre_inceptionV3)\n",
    "v3_model.add(layers.GlobalAveragePooling2D())\n",
    "v3_model.add(layers.Dense(2,activation = 'softmax'))"
   ]
  },
  {
   "cell_type": "code",
   "execution_count": null,
   "metadata": {
    "ExecuteTime": {
     "end_time": "2020-09-07T11:11:15.051876Z",
     "start_time": "2020-09-07T11:11:15.050183Z"
    },
    "colab": {
     "base_uri": "https://localhost:8080/",
     "height": 279
    },
    "colab_type": "code",
    "executionInfo": {
     "elapsed": 1019,
     "status": "ok",
     "timestamp": 1598788922754,
     "user": {
      "displayName": "‍조유정[학생](대학원 경영학과)",
      "photoUrl": "",
      "userId": "08462910251745570933"
     },
     "user_tz": -540
    },
    "id": "Aco4ohBGOevP",
    "outputId": "39c63963-bc0e-4505-c928-952cdc6fc156"
   },
   "outputs": [],
   "source": [
    "#v3_model.summary()"
   ]
  },
  {
   "cell_type": "code",
   "execution_count": 38,
   "metadata": {
    "ExecuteTime": {
     "end_time": "2020-09-17T06:08:10.571326Z",
     "start_time": "2020-09-17T06:08:10.568476Z"
    },
    "colab": {},
    "colab_type": "code",
    "executionInfo": {
     "elapsed": 998,
     "status": "ok",
     "timestamp": 1598800352591,
     "user": {
      "displayName": "‍조유정[학생](대학원 경영학과)",
      "photoUrl": "",
      "userId": "08462910251745570933"
     },
     "user_tz": -540
    },
    "id": "adZzmG3EOeyZ"
   },
   "outputs": [],
   "source": [
    "from tensorflow.keras.optimizers import RMSprop"
   ]
  },
  {
   "cell_type": "code",
   "execution_count": 39,
   "metadata": {
    "ExecuteTime": {
     "end_time": "2020-09-17T06:08:12.292350Z",
     "start_time": "2020-09-17T06:08:12.286016Z"
    },
    "colab": {},
    "colab_type": "code",
    "executionInfo": {
     "elapsed": 681,
     "status": "ok",
     "timestamp": 1598800353528,
     "user": {
      "displayName": "‍조유정[학생](대학원 경영학과)",
      "photoUrl": "",
      "userId": "08462910251745570933"
     },
     "user_tz": -540
    },
    "id": "Jg4WaaJFOe36"
   },
   "outputs": [],
   "source": [
    "for layer in pre_inceptionV3.layers:\n",
    "    layer.trainable = False"
   ]
  },
  {
   "cell_type": "code",
   "execution_count": 40,
   "metadata": {
    "ExecuteTime": {
     "end_time": "2020-09-17T06:08:15.040069Z",
     "start_time": "2020-09-17T06:08:15.038083Z"
    },
    "colab": {},
    "colab_type": "code",
    "executionInfo": {
     "elapsed": 902,
     "status": "ok",
     "timestamp": 1598800366327,
     "user": {
      "displayName": "‍조유정[학생](대학원 경영학과)",
      "photoUrl": "",
      "userId": "08462910251745570933"
     },
     "user_tz": -540
    },
    "id": "VCtaZWxyPiFl"
   },
   "outputs": [],
   "source": [
    "early_stopping = EarlyStopping(patience =30)"
   ]
  },
  {
   "cell_type": "code",
   "execution_count": 41,
   "metadata": {
    "ExecuteTime": {
     "end_time": "2020-09-17T06:08:15.938583Z",
     "start_time": "2020-09-17T06:08:15.870170Z"
    },
    "colab": {},
    "colab_type": "code",
    "executionInfo": {
     "elapsed": 853,
     "status": "ok",
     "timestamp": 1598800376471,
     "user": {
      "displayName": "‍조유정[학생](대학원 경영학과)",
      "photoUrl": "",
      "userId": "08462910251745570933"
     },
     "user_tz": -540
    },
    "id": "kCJg77HVPiIq"
   },
   "outputs": [],
   "source": [
    "v3_model.compile(loss='sparse_categorical_crossentropy', \n",
    "              optimizer='adam',\n",
    "              #optimizer = 'RMSprop',\n",
    "              metrics=['accuracy'],\n",
    "             )"
   ]
  },
  {
   "cell_type": "code",
   "execution_count": 42,
   "metadata": {
    "ExecuteTime": {
     "end_time": "2020-09-17T06:13:09.752042Z",
     "start_time": "2020-09-17T06:08:36.414305Z"
    },
    "colab": {
     "base_uri": "https://localhost:8080/",
     "height": 1000
    },
    "colab_type": "code",
    "executionInfo": {
     "elapsed": 447973,
     "status": "ok",
     "timestamp": 1598800840862,
     "user": {
      "displayName": "‍조유정[학생](대학원 경영학과)",
      "photoUrl": "",
      "userId": "08462910251745570933"
     },
     "user_tz": -540
    },
    "id": "__VmbW0uPiMQ",
    "outputId": "688da73c-2043-4096-95a9-011b5c8ef259"
   },
   "outputs": [
    {
     "name": "stdout",
     "output_type": "stream",
     "text": [
      "Epoch 1/100\n",
      "28/29 [===========================>..] - ETA: 0s - loss: 0.6967 - acc: 0.6242Epoch 1/100\n",
      "29/29 [==============================] - 13s 445ms/step - loss: 0.6977 - acc: 0.6198 - val_loss: 0.7208 - val_acc: 0.5360\n",
      "Epoch 2/100\n",
      "28/29 [===========================>..] - ETA: 0s - loss: 0.6343 - acc: 0.6788Epoch 1/100\n",
      "29/29 [==============================] - 6s 208ms/step - loss: 0.6305 - acc: 0.6813 - val_loss: 0.6080 - val_acc: 0.6560\n",
      "Epoch 3/100\n",
      "28/29 [===========================>..] - ETA: 0s - loss: 0.5845 - acc: 0.7034Epoch 1/100\n",
      "29/29 [==============================] - 9s 299ms/step - loss: 0.5815 - acc: 0.7050 - val_loss: 0.6188 - val_acc: 0.6480\n",
      "Epoch 4/100\n",
      "28/29 [===========================>..] - ETA: 0s - loss: 0.5643 - acc: 0.7225Epoch 1/100\n",
      "29/29 [==============================] - 8s 290ms/step - loss: 0.5605 - acc: 0.7243 - val_loss: 0.6232 - val_acc: 0.6720\n",
      "Epoch 5/100\n",
      "28/29 [===========================>..] - ETA: 0s - loss: 0.5466 - acc: 0.7325Epoch 1/100\n",
      "29/29 [==============================] - 9s 301ms/step - loss: 0.5463 - acc: 0.7331 - val_loss: 0.6433 - val_acc: 0.6400\n",
      "Epoch 6/100\n",
      "28/29 [===========================>..] - ETA: 0s - loss: 0.5259 - acc: 0.7330Epoch 1/100\n",
      "29/29 [==============================] - 8s 291ms/step - loss: 0.5261 - acc: 0.7322 - val_loss: 0.6638 - val_acc: 0.6000\n",
      "Epoch 7/100\n",
      "28/29 [===========================>..] - ETA: 0s - loss: 0.5097 - acc: 0.7498Epoch 1/100\n",
      "29/29 [==============================] - 9s 305ms/step - loss: 0.5139 - acc: 0.7463 - val_loss: 0.6645 - val_acc: 0.7040\n",
      "Epoch 8/100\n",
      "28/29 [===========================>..] - ETA: 0s - loss: 0.5755 - acc: 0.6934Epoch 1/100\n",
      "29/29 [==============================] - 8s 293ms/step - loss: 0.5713 - acc: 0.6980 - val_loss: 0.6635 - val_acc: 0.6880\n",
      "Epoch 9/100\n",
      "28/29 [===========================>..] - ETA: 0s - loss: 0.5031 - acc: 0.7598Epoch 1/100\n",
      "29/29 [==============================] - 9s 295ms/step - loss: 0.5071 - acc: 0.7568 - val_loss: 0.6601 - val_acc: 0.6800\n",
      "Epoch 10/100\n",
      "28/29 [===========================>..] - ETA: 0s - loss: 0.4717 - acc: 0.7680Epoch 1/100\n",
      "29/29 [==============================] - 8s 290ms/step - loss: 0.4750 - acc: 0.7665 - val_loss: 0.6605 - val_acc: 0.6400\n",
      "Epoch 11/100\n",
      "28/29 [===========================>..] - ETA: 0s - loss: 0.4926 - acc: 0.7616Epoch 1/100\n",
      "29/29 [==============================] - 8s 288ms/step - loss: 0.4907 - acc: 0.7638 - val_loss: 0.6625 - val_acc: 0.6880\n",
      "Epoch 12/100\n",
      "28/29 [===========================>..] - ETA: 0s - loss: 0.4758 - acc: 0.7552Epoch 1/100\n",
      "29/29 [==============================] - 8s 292ms/step - loss: 0.4795 - acc: 0.7515 - val_loss: 0.6741 - val_acc: 0.6720\n",
      "Epoch 13/100\n",
      "28/29 [===========================>..] - ETA: 0s - loss: 0.4632 - acc: 0.7753Epoch 1/100\n",
      "29/29 [==============================] - 8s 286ms/step - loss: 0.4616 - acc: 0.7779 - val_loss: 0.6856 - val_acc: 0.6400\n",
      "Epoch 14/100\n",
      "28/29 [===========================>..] - ETA: 0s - loss: 0.4507 - acc: 0.7980Epoch 1/100\n",
      "29/29 [==============================] - 8s 291ms/step - loss: 0.4525 - acc: 0.7946 - val_loss: 0.6692 - val_acc: 0.6480\n",
      "Epoch 15/100\n",
      "28/29 [===========================>..] - ETA: 0s - loss: 0.4465 - acc: 0.7816Epoch 1/100\n",
      "29/29 [==============================] - 9s 293ms/step - loss: 0.4493 - acc: 0.7805 - val_loss: 0.6774 - val_acc: 0.6400\n",
      "Epoch 16/100\n",
      "28/29 [===========================>..] - ETA: 0s - loss: 0.4502 - acc: 0.7880Epoch 1/100\n",
      "29/29 [==============================] - 8s 289ms/step - loss: 0.4537 - acc: 0.7867 - val_loss: 0.6965 - val_acc: 0.6160\n",
      "Epoch 17/100\n",
      "28/29 [===========================>..] - ETA: 0s - loss: 0.4363 - acc: 0.7953Epoch 1/100\n",
      "29/29 [==============================] - 8s 288ms/step - loss: 0.4393 - acc: 0.7928 - val_loss: 0.6846 - val_acc: 0.6720\n",
      "Epoch 18/100\n",
      "28/29 [===========================>..] - ETA: 0s - loss: 0.4282 - acc: 0.8116Epoch 1/100\n",
      "29/29 [==============================] - 9s 294ms/step - loss: 0.4290 - acc: 0.8104 - val_loss: 0.6877 - val_acc: 0.6640\n",
      "Epoch 19/100\n",
      "28/29 [===========================>..] - ETA: 0s - loss: 0.4278 - acc: 0.8162Epoch 1/100\n",
      "29/29 [==============================] - 8s 285ms/step - loss: 0.4319 - acc: 0.8121 - val_loss: 0.7210 - val_acc: 0.6640\n",
      "Epoch 20/100\n",
      "28/29 [===========================>..] - ETA: 0s - loss: 0.4186 - acc: 0.8098Epoch 1/100\n",
      "29/29 [==============================] - 8s 287ms/step - loss: 0.4203 - acc: 0.8095 - val_loss: 0.7446 - val_acc: 0.5920\n",
      "Epoch 21/100\n",
      "28/29 [===========================>..] - ETA: 0s - loss: 0.4143 - acc: 0.8244Epoch 1/100\n",
      "29/29 [==============================] - 8s 286ms/step - loss: 0.4131 - acc: 0.8227 - val_loss: 0.7028 - val_acc: 0.6720\n",
      "Epoch 22/100\n",
      "28/29 [===========================>..] - ETA: 0s - loss: 0.4207 - acc: 0.8153Epoch 1/100\n",
      "29/29 [==============================] - 8s 283ms/step - loss: 0.4137 - acc: 0.8200 - val_loss: 0.7334 - val_acc: 0.6640\n",
      "Epoch 23/100\n",
      "28/29 [===========================>..] - ETA: 0s - loss: 0.4169 - acc: 0.8016Epoch 1/100\n",
      "29/29 [==============================] - 9s 294ms/step - loss: 0.4182 - acc: 0.8007 - val_loss: 0.7186 - val_acc: 0.6240\n",
      "Epoch 24/100\n",
      "28/29 [===========================>..] - ETA: 0s - loss: 0.4032 - acc: 0.8207Epoch 1/100\n",
      "29/29 [==============================] - 8s 284ms/step - loss: 0.4006 - acc: 0.8244 - val_loss: 0.7608 - val_acc: 0.5840\n",
      "Epoch 25/100\n",
      "28/29 [===========================>..] - ETA: 0s - loss: 0.3942 - acc: 0.8280Epoch 1/100\n",
      "29/29 [==============================] - 9s 296ms/step - loss: 0.3978 - acc: 0.8270 - val_loss: 0.7286 - val_acc: 0.6240\n",
      "Epoch 26/100\n",
      "28/29 [===========================>..] - ETA: 0s - loss: 0.3934 - acc: 0.8180Epoch 1/100\n",
      "29/29 [==============================] - 8s 292ms/step - loss: 0.3934 - acc: 0.8174 - val_loss: 0.7378 - val_acc: 0.6320\n",
      "Epoch 27/100\n",
      "28/29 [===========================>..] - ETA: 0s - loss: 0.4080 - acc: 0.8035Epoch 1/100\n",
      "29/29 [==============================] - 8s 279ms/step - loss: 0.4100 - acc: 0.8042 - val_loss: 0.8758 - val_acc: 0.4960\n",
      "Epoch 28/100\n",
      "28/29 [===========================>..] - ETA: 0s - loss: 0.4013 - acc: 0.8171Epoch 1/100\n",
      "29/29 [==============================] - 8s 290ms/step - loss: 0.4010 - acc: 0.8174 - val_loss: 0.7339 - val_acc: 0.6720\n",
      "Epoch 29/100\n",
      "28/29 [===========================>..] - ETA: 0s - loss: 0.4031 - acc: 0.8180Epoch 1/100\n",
      "29/29 [==============================] - 9s 294ms/step - loss: 0.4051 - acc: 0.8139 - val_loss: 0.7762 - val_acc: 0.6720\n",
      "Epoch 30/100\n",
      "28/29 [===========================>..] - ETA: 0s - loss: 0.3898 - acc: 0.8207Epoch 1/100\n",
      "29/29 [==============================] - 8s 284ms/step - loss: 0.3907 - acc: 0.8218 - val_loss: 0.8083 - val_acc: 0.5760\n",
      "Epoch 31/100\n",
      "28/29 [===========================>..] - ETA: 0s - loss: 0.3686 - acc: 0.8508Epoch 1/100\n",
      "29/29 [==============================] - 9s 293ms/step - loss: 0.3668 - acc: 0.8525 - val_loss: 0.7789 - val_acc: 0.6240\n",
      "Epoch 32/100\n",
      "28/29 [===========================>..] - ETA: 0s - loss: 0.3659 - acc: 0.8380Epoch 1/100\n",
      "29/29 [==============================] - 8s 290ms/step - loss: 0.3638 - acc: 0.8402 - val_loss: 0.7758 - val_acc: 0.6560\n"
     ]
    }
   ],
   "source": [
    "history_inceptionv3= v3_model.fit_generator(\n",
    "        train_generator,\n",
    "        steps_per_epoch=math.ceil(train_generator.n / train_generator.batch_size),\n",
    "        epochs=100,\n",
    "        validation_data=test_generator,\n",
    "        validation_steps= math.ceil(test_generator.n / test_generator.batch_size),\n",
    "        callbacks = [early_stopping]\n",
    "        )"
   ]
  },
  {
   "cell_type": "code",
   "execution_count": 43,
   "metadata": {
    "ExecuteTime": {
     "end_time": "2020-09-17T06:29:31.179121Z",
     "start_time": "2020-09-17T06:29:26.073083Z"
    },
    "colab": {},
    "colab_type": "code",
    "executionInfo": {
     "elapsed": 2849,
     "status": "ok",
     "timestamp": 1598800928973,
     "user": {
      "displayName": "‍조유정[학생](대학원 경영학과)",
      "photoUrl": "",
      "userId": "08462910251745570933"
     },
     "user_tz": -540
    },
    "id": "DCXH3dAiQJcq"
   },
   "outputs": [],
   "source": [
    "v3_scores = v3_model.evaluate_generator(valid_generator, steps=math.ceil(valid_generator.n / valid_generator.batch_size))"
   ]
  },
  {
   "cell_type": "code",
   "execution_count": 44,
   "metadata": {
    "ExecuteTime": {
     "end_time": "2020-09-17T06:29:32.392934Z",
     "start_time": "2020-09-17T06:29:32.390603Z"
    },
    "colab": {
     "base_uri": "https://localhost:8080/",
     "height": 36
    },
    "colab_type": "code",
    "executionInfo": {
     "elapsed": 900,
     "status": "ok",
     "timestamp": 1598800932166,
     "user": {
      "displayName": "‍조유정[학생](대학원 경영학과)",
      "photoUrl": "",
      "userId": "08462910251745570933"
     },
     "user_tz": -540
    },
    "id": "HdGVkCi4QJgC",
    "outputId": "fa325081-113a-41e9-b4a4-2eb6b9b00d42"
   },
   "outputs": [
    {
     "data": {
      "text/plain": [
       "[0.7104686463283281, 0.6318493]"
      ]
     },
     "execution_count": 44,
     "metadata": {},
     "output_type": "execute_result"
    }
   ],
   "source": [
    "v3_scores"
   ]
  },
  {
   "cell_type": "code",
   "execution_count": 45,
   "metadata": {
    "ExecuteTime": {
     "end_time": "2020-09-17T06:29:37.577251Z",
     "start_time": "2020-09-17T06:29:37.574650Z"
    },
    "colab": {},
    "colab_type": "code",
    "executionInfo": {
     "elapsed": 864,
     "status": "ok",
     "timestamp": 1598800943531,
     "user": {
      "displayName": "‍조유정[학생](대학원 경영학과)",
      "photoUrl": "",
      "userId": "08462910251745570933"
     },
     "user_tz": -540
    },
    "id": "1MVdGlxYi8o-"
   },
   "outputs": [],
   "source": [
    "v3_history_df = pd.DataFrame(history_inceptionv3.history)\n",
    "v3_scores = pd.DataFrame(v3_scores)"
   ]
  },
  {
   "cell_type": "code",
   "execution_count": 46,
   "metadata": {
    "ExecuteTime": {
     "end_time": "2020-09-17T06:29:48.014320Z",
     "start_time": "2020-09-17T06:29:47.986266Z"
    },
    "colab": {},
    "colab_type": "code",
    "executionInfo": {
     "elapsed": 889,
     "status": "ok",
     "timestamp": 1598800945102,
     "user": {
      "displayName": "‍조유정[학생](대학원 경영학과)",
      "photoUrl": "",
      "userId": "08462910251745570933"
     },
     "user_tz": -540
    },
    "id": "c9bfBRRoi8wG"
   },
   "outputs": [],
   "source": [
    "v3_history_df.to_excel('./inceptionV3_history_0917.xlsx')\n",
    "v3_scores.to_excel('./inceptionV3_scores_0917.xlsx')"
   ]
  },
  {
   "cell_type": "code",
   "execution_count": 48,
   "metadata": {
    "ExecuteTime": {
     "end_time": "2020-09-17T06:31:46.552505Z",
     "start_time": "2020-09-17T06:31:44.920885Z"
    }
   },
   "outputs": [],
   "source": [
    "v3_model.save('/home/caitech/Desktop/yujung/inception_weight.h5')"
   ]
  },
  {
   "cell_type": "code",
   "execution_count": 49,
   "metadata": {
    "ExecuteTime": {
     "end_time": "2020-09-17T06:32:34.057559Z",
     "start_time": "2020-09-17T06:32:21.461106Z"
    }
   },
   "outputs": [
    {
     "name": "stdout",
     "output_type": "stream",
     "text": [
      "WARNING:tensorflow:From /home/caitech/anaconda3/envs/yu4/lib/python3.7/site-packages/tensorflow_core/python/ops/init_ops.py:97: calling Ones.__init__ (from tensorflow.python.ops.init_ops) with dtype is deprecated and will be removed in a future version.\n",
      "Instructions for updating:\n",
      "Call initializer instance with the dtype argument instead of passing it to the constructor\n"
     ]
    }
   ],
   "source": [
    "#v3_load = load_model('./inception_weight.h5')"
   ]
  },
  {
   "cell_type": "code",
   "execution_count": 50,
   "metadata": {
    "ExecuteTime": {
     "end_time": "2020-09-17T06:33:17.230849Z",
     "start_time": "2020-09-17T06:33:10.615701Z"
    }
   },
   "outputs": [
    {
     "data": {
      "text/plain": [
       "[0.7104686463283281, 0.6318493]"
      ]
     },
     "execution_count": 50,
     "metadata": {},
     "output_type": "execute_result"
    }
   ],
   "source": [
    "#v3_load.evaluate_generator(valid_generator, steps=math.ceil(valid_generator.n / valid_generator.batch_size))"
   ]
  },
  {
   "cell_type": "code",
   "execution_count": null,
   "metadata": {
    "ExecuteTime": {
     "end_time": "2020-09-07T11:23:29.925445Z",
     "start_time": "2020-09-07T11:23:29.802833Z"
    },
    "colab": {
     "base_uri": "https://localhost:8080/",
     "height": 300
    },
    "colab_type": "code",
    "executionInfo": {
     "elapsed": 1036,
     "status": "ok",
     "timestamp": 1598800949470,
     "user": {
      "displayName": "‍조유정[학생](대학원 경영학과)",
      "photoUrl": "",
      "userId": "08462910251745570933"
     },
     "user_tz": -540
    },
    "id": "Hn1okn7eQJis",
    "outputId": "9d24887e-a012-4a07-8a7e-fc0de4b91498"
   },
   "outputs": [],
   "source": [
    "# epochs = range(len(history_inceptionv3.history['acc']))\n",
    "# plt.plot(epochs, history_inceptionv3.history['acc'],label = 'Training accuracy')\n",
    "# plt.plot(epochs,history_inceptionv3.history['val_acc'],label = 'Validation accuracy')\n",
    "# plt.title('Training and validation accuracy')\n",
    "# plt.legend()"
   ]
  },
  {
   "cell_type": "code",
   "execution_count": null,
   "metadata": {
    "ExecuteTime": {
     "end_time": "2020-09-07T11:23:31.598422Z",
     "start_time": "2020-09-07T11:23:31.474913Z"
    },
    "colab": {
     "base_uri": "https://localhost:8080/",
     "height": 300
    },
    "colab_type": "code",
    "executionInfo": {
     "elapsed": 1250,
     "status": "ok",
     "timestamp": 1598800958516,
     "user": {
      "displayName": "‍조유정[학생](대학원 경영학과)",
      "photoUrl": "",
      "userId": "08462910251745570933"
     },
     "user_tz": -540
    },
    "id": "zJqxQXf2QSMT",
    "outputId": "80d2321c-4fef-428e-8411-8168faf34f9f"
   },
   "outputs": [],
   "source": [
    "# plt.plot(epochs, history_inceptionv3.history['loss'],label='Training loss')\n",
    "# plt.plot(epochs,history_inceptionv3.history['val_loss'],label = 'Validation loss')\n",
    "# plt.title('Training and validation loss')\n",
    "# plt.legend()"
   ]
  },
  {
   "cell_type": "code",
   "execution_count": 51,
   "metadata": {
    "ExecuteTime": {
     "end_time": "2020-09-17T06:33:39.448688Z",
     "start_time": "2020-09-17T06:33:33.862208Z"
    },
    "colab": {},
    "colab_type": "code",
    "executionInfo": {
     "elapsed": 4912,
     "status": "ok",
     "timestamp": 1598800971273,
     "user": {
      "displayName": "‍조유정[학생](대학원 경영학과)",
      "photoUrl": "",
      "userId": "08462910251745570933"
     },
     "user_tz": -540
    },
    "id": "Wv6L03YYQSPY"
   },
   "outputs": [],
   "source": [
    "Y_pred_v3 = v3_model.predict_generator(valid_generator, math.ceil(valid_generator.n / valid_generator.batch_size))\n",
    "y_pred_v3 = np.argmax(Y_pred_v3, axis=1)"
   ]
  },
  {
   "cell_type": "code",
   "execution_count": 52,
   "metadata": {
    "ExecuteTime": {
     "end_time": "2020-09-17T06:33:58.876159Z",
     "start_time": "2020-09-17T06:33:58.860439Z"
    }
   },
   "outputs": [],
   "source": [
    "inception_df = pd.DataFrame()\n",
    "inception_df['filenames'] = valid_generator.filenames\n",
    "inception_df['predict'] = y_pred_v3"
   ]
  },
  {
   "cell_type": "code",
   "execution_count": 53,
   "metadata": {
    "ExecuteTime": {
     "end_time": "2020-09-17T06:34:16.589227Z",
     "start_time": "2020-09-17T06:34:16.523525Z"
    }
   },
   "outputs": [],
   "source": [
    "inception_df.to_excel('inceptionv3_predict.xlsx')"
   ]
  },
  {
   "cell_type": "code",
   "execution_count": 54,
   "metadata": {
    "ExecuteTime": {
     "end_time": "2020-09-17T06:34:20.505846Z",
     "start_time": "2020-09-17T06:34:20.496165Z"
    },
    "colab": {
     "base_uri": "https://localhost:8080/",
     "height": 36
    },
    "colab_type": "code",
    "executionInfo": {
     "elapsed": 898,
     "status": "ok",
     "timestamp": 1598800974566,
     "user": {
      "displayName": "‍조유정[학생](대학원 경영학과)",
      "photoUrl": "",
      "userId": "08462910251745570933"
     },
     "user_tz": -540
    },
    "id": "uNtyWKygQSU0",
    "outputId": "434611cb-d663-49d4-e4f9-cbf43a207300"
   },
   "outputs": [
    {
     "data": {
      "text/plain": [
       "584"
      ]
     },
     "execution_count": 54,
     "metadata": {},
     "output_type": "execute_result"
    }
   ],
   "source": [
    "len(y_pred_v3)"
   ]
  },
  {
   "cell_type": "code",
   "execution_count": null,
   "metadata": {
    "ExecuteTime": {
     "end_time": "2020-09-07T11:26:28.942759Z",
     "start_time": "2020-09-07T11:26:28.939263Z"
    },
    "colab": {
     "base_uri": "https://localhost:8080/",
     "height": 92
    },
    "colab_type": "code",
    "executionInfo": {
     "elapsed": 1282,
     "status": "ok",
     "timestamp": 1598800978435,
     "user": {
      "displayName": "‍조유정[학생](대학원 경영학과)",
      "photoUrl": "",
      "userId": "08462910251745570933"
     },
     "user_tz": -540
    },
    "id": "K-pzfM5CQZyM",
    "outputId": "9e469793-a6e6-4174-b32d-f7dc205cb14b"
   },
   "outputs": [],
   "source": [
    "# print('Confusion Matrix')\n",
    "# print(confusion_matrix(test_generator.classes, y_pred_v3))\n",
    "# print('Classification Report')"
   ]
  },
  {
   "cell_type": "code",
   "execution_count": 55,
   "metadata": {
    "ExecuteTime": {
     "end_time": "2020-09-17T06:34:39.337479Z",
     "start_time": "2020-09-17T06:34:39.331108Z"
    },
    "colab": {
     "base_uri": "https://localhost:8080/",
     "height": 185
    },
    "colab_type": "code",
    "executionInfo": {
     "elapsed": 873,
     "status": "ok",
     "timestamp": 1598800980077,
     "user": {
      "displayName": "‍조유정[학생](대학원 경영학과)",
      "photoUrl": "",
      "userId": "08462910251745570933"
     },
     "user_tz": -540
    },
    "id": "8tqdJLogQZ1L",
    "outputId": "9f25671d-62b1-45a9-c5b1-17c05a56a771"
   },
   "outputs": [
    {
     "name": "stdout",
     "output_type": "stream",
     "text": [
      "              precision    recall  f1-score   support\n",
      "\n",
      "           0       0.42      0.36      0.38       188\n",
      "           1       0.71      0.76      0.74       396\n",
      "\n",
      "    accuracy                           0.63       584\n",
      "   macro avg       0.57      0.56      0.56       584\n",
      "weighted avg       0.62      0.63      0.62       584\n",
      "\n"
     ]
    }
   ],
   "source": [
    "#target_names = ['Cats', 'Dogs', 'Horse']\n",
    "target_names = ['0', '1']\n",
    "print(classification_report(valid_generator.classes, y_pred_v3, target_names=target_names))"
   ]
  },
  {
   "cell_type": "code",
   "execution_count": 56,
   "metadata": {
    "ExecuteTime": {
     "end_time": "2020-09-17T06:34:54.254063Z",
     "start_time": "2020-09-17T06:34:54.245255Z"
    },
    "colab": {},
    "colab_type": "code",
    "executionInfo": {
     "elapsed": 864,
     "status": "ok",
     "timestamp": 1598800986852,
     "user": {
      "displayName": "‍조유정[학생](대학원 경영학과)",
      "photoUrl": "",
      "userId": "08462910251745570933"
     },
     "user_tz": -540
    },
    "id": "Yr_EABwQQZ4j"
   },
   "outputs": [],
   "source": [
    "v3_report = classification_report(valid_generator.classes, y_pred_v3, target_names=target_names,output_dict=True)"
   ]
  },
  {
   "cell_type": "code",
   "execution_count": 57,
   "metadata": {
    "ExecuteTime": {
     "end_time": "2020-09-17T06:34:54.998674Z",
     "start_time": "2020-09-17T06:34:54.985754Z"
    },
    "colab": {},
    "colab_type": "code",
    "executionInfo": {
     "elapsed": 584,
     "status": "ok",
     "timestamp": 1598800987908,
     "user": {
      "displayName": "‍조유정[학생](대학원 경영학과)",
      "photoUrl": "",
      "userId": "08462910251745570933"
     },
     "user_tz": -540
    },
    "id": "9wfUMygvkrW2"
   },
   "outputs": [],
   "source": [
    "v3_report_df = pd.DataFrame(v3_report).transpose()"
   ]
  },
  {
   "cell_type": "code",
   "execution_count": 58,
   "metadata": {
    "ExecuteTime": {
     "end_time": "2020-09-17T06:35:06.545696Z",
     "start_time": "2020-09-17T06:35:06.517333Z"
    },
    "colab": {},
    "colab_type": "code",
    "executionInfo": {
     "elapsed": 656,
     "status": "ok",
     "timestamp": 1598800989001,
     "user": {
      "displayName": "‍조유정[학생](대학원 경영학과)",
      "photoUrl": "",
      "userId": "08462910251745570933"
     },
     "user_tz": -540
    },
    "id": "kCdiWDl1kxJQ"
   },
   "outputs": [],
   "source": [
    "v3_report_df.to_excel('./inceptionV3_report_0917.xlsx')"
   ]
  },
  {
   "cell_type": "markdown",
   "metadata": {
    "colab_type": "text",
    "id": "O5cwAFhzk3sz"
   },
   "source": [
    "# ResNet50"
   ]
  },
  {
   "cell_type": "code",
   "execution_count": 59,
   "metadata": {
    "ExecuteTime": {
     "end_time": "2020-09-17T06:35:24.117552Z",
     "start_time": "2020-09-17T06:35:24.115313Z"
    },
    "colab": {},
    "colab_type": "code",
    "executionInfo": {
     "elapsed": 879,
     "status": "ok",
     "timestamp": 1598800997312,
     "user": {
      "displayName": "‍조유정[학생](대학원 경영학과)",
      "photoUrl": "",
      "userId": "08462910251745570933"
     },
     "user_tz": -540
    },
    "id": "xFE7CJJqk5ta"
   },
   "outputs": [],
   "source": [
    "from tensorflow.keras.applications.resnet50 import ResNet50"
   ]
  },
  {
   "cell_type": "code",
   "execution_count": 60,
   "metadata": {
    "ExecuteTime": {
     "end_time": "2020-09-17T06:35:24.679388Z",
     "start_time": "2020-09-17T06:35:24.673427Z"
    },
    "colab": {},
    "colab_type": "code",
    "executionInfo": {
     "elapsed": 840,
     "status": "ok",
     "timestamp": 1598800998895,
     "user": {
      "displayName": "‍조유정[학생](대학원 경영학과)",
      "photoUrl": "",
      "userId": "08462910251745570933"
     },
     "user_tz": -540
    },
    "id": "DUZqxZ7Vk_hd"
   },
   "outputs": [],
   "source": [
    "IMAGE_SIZE = 224"
   ]
  },
  {
   "cell_type": "code",
   "execution_count": 61,
   "metadata": {
    "ExecuteTime": {
     "end_time": "2020-09-17T06:35:29.254884Z",
     "start_time": "2020-09-17T06:35:29.149077Z"
    },
    "colab": {
     "base_uri": "https://localhost:8080/",
     "height": 36
    },
    "colab_type": "code",
    "executionInfo": {
     "elapsed": 840,
     "status": "ok",
     "timestamp": 1598801007405,
     "user": {
      "displayName": "‍조유정[학생](대학원 경영학과)",
      "photoUrl": "",
      "userId": "08462910251745570933"
     },
     "user_tz": -540
    },
    "id": "45krtKXGlB0n",
    "outputId": "c8dbd498-ae03-42be-c310-2dc613467d57"
   },
   "outputs": [
    {
     "name": "stdout",
     "output_type": "stream",
     "text": [
      "Found 1139 images belonging to 2 classes.\n"
     ]
    }
   ],
   "source": [
    "#데이터를 읽고 이미지를 한번에 넣은 개수_train\n",
    "train_generator = train_datagen.flow_from_directory(train_dir, target_size=(IMAGE_SIZE, IMAGE_SIZE), batch_size=50,\n",
    "                                                        class_mode='binary')"
   ]
  },
  {
   "cell_type": "code",
   "execution_count": 62,
   "metadata": {
    "ExecuteTime": {
     "end_time": "2020-09-17T06:35:34.068423Z",
     "start_time": "2020-09-17T06:35:33.960026Z"
    },
    "colab": {
     "base_uri": "https://localhost:8080/",
     "height": 36
    },
    "colab_type": "code",
    "executionInfo": {
     "elapsed": 876,
     "status": "ok",
     "timestamp": 1598801009296,
     "user": {
      "displayName": "‍조유정[학생](대학원 경영학과)",
      "photoUrl": "",
      "userId": "08462910251745570933"
     },
     "user_tz": -540
    },
    "id": "prZyRcbMlCXa",
    "outputId": "5c700183-9572-47fc-8613-7289ae1bb7b5"
   },
   "outputs": [
    {
     "name": "stdout",
     "output_type": "stream",
     "text": [
      "Found 125 images belonging to 2 classes.\n"
     ]
    }
   ],
   "source": [
    "test_generator = test_datagen.flow_from_directory(test_dir, target_size = (IMAGE_SIZE,IMAGE_SIZE),batch_size = 10,\n",
    "                                                 class_mode = 'binary')"
   ]
  },
  {
   "cell_type": "code",
   "execution_count": 63,
   "metadata": {
    "ExecuteTime": {
     "end_time": "2020-09-17T06:36:23.156955Z",
     "start_time": "2020-09-17T06:36:23.040234Z"
    }
   },
   "outputs": [
    {
     "name": "stdout",
     "output_type": "stream",
     "text": [
      "Found 584 images belonging to 2 classes.\n"
     ]
    }
   ],
   "source": [
    "valid_generator = valid_datagen.flow_from_directory(valid_dir, target_size = (IMAGE_SIZE,IMAGE_SIZE),batch_size = 10,\n",
    "                                                 class_mode = 'binary',shuffle = False)"
   ]
  },
  {
   "cell_type": "code",
   "execution_count": 64,
   "metadata": {
    "ExecuteTime": {
     "end_time": "2020-09-17T06:36:37.586753Z",
     "start_time": "2020-09-17T06:36:31.379166Z"
    },
    "colab": {},
    "colab_type": "code",
    "executionInfo": {
     "elapsed": 9154,
     "status": "ok",
     "timestamp": 1598801035577,
     "user": {
      "displayName": "‍조유정[학생](대학원 경영학과)",
      "photoUrl": "",
      "userId": "08462910251745570933"
     },
     "user_tz": -540
    },
    "id": "oQg64ichlEMG"
   },
   "outputs": [],
   "source": [
    "pre_resnet = ResNet50(weights = 'imagenet', include_top = False, input_shape = (224,224,3))"
   ]
  },
  {
   "cell_type": "code",
   "execution_count": 65,
   "metadata": {
    "ExecuteTime": {
     "end_time": "2020-09-17T06:36:39.988828Z",
     "start_time": "2020-09-17T06:36:39.984345Z"
    },
    "colab": {},
    "colab_type": "code",
    "executionInfo": {
     "elapsed": 902,
     "status": "ok",
     "timestamp": 1598801039573,
     "user": {
      "displayName": "‍조유정[학생](대학원 경영학과)",
      "photoUrl": "",
      "userId": "08462910251745570933"
     },
     "user_tz": -540
    },
    "id": "LH4V9PyWlHkl"
   },
   "outputs": [],
   "source": [
    "for layer in pre_resnet.layers:\n",
    "    layer.trainable = False"
   ]
  },
  {
   "cell_type": "code",
   "execution_count": null,
   "metadata": {
    "ExecuteTime": {
     "end_time": "2020-09-07T11:27:05.660610Z",
     "start_time": "2020-09-07T11:27:05.659156Z"
    },
    "colab": {},
    "colab_type": "code",
    "executionInfo": {
     "elapsed": 834,
     "status": "ok",
     "timestamp": 1598794552857,
     "user": {
      "displayName": "‍조유정[학생](대학원 경영학과)",
      "photoUrl": "",
      "userId": "08462910251745570933"
     },
     "user_tz": -540
    },
    "id": "qpNkTEytlIFF"
   },
   "outputs": [],
   "source": [
    "# pre_resnet.summary()"
   ]
  },
  {
   "cell_type": "code",
   "execution_count": 66,
   "metadata": {
    "ExecuteTime": {
     "end_time": "2020-09-17T06:36:43.007266Z",
     "start_time": "2020-09-17T06:36:41.792206Z"
    },
    "colab": {},
    "colab_type": "code",
    "executionInfo": {
     "elapsed": 3083,
     "status": "ok",
     "timestamp": 1598801045695,
     "user": {
      "displayName": "‍조유정[학생](대학원 경영학과)",
      "photoUrl": "",
      "userId": "08462910251745570933"
     },
     "user_tz": -540
    },
    "id": "GsgEAvgklNKZ"
   },
   "outputs": [],
   "source": [
    "r_model = tf.keras.Sequential()\n",
    "r_model.add(pre_resnet)\n",
    "r_model.add(layers.GlobalAveragePooling2D())\n",
    "r_model.add(layers.Dense(2,activation = 'softmax'))"
   ]
  },
  {
   "cell_type": "code",
   "execution_count": null,
   "metadata": {
    "ExecuteTime": {
     "end_time": "2020-09-04T10:47:42.997328Z",
     "start_time": "2020-09-04T10:47:42.995725Z"
    },
    "colab": {},
    "colab_type": "code",
    "executionInfo": {
     "elapsed": 2343,
     "status": "ok",
     "timestamp": 1598801045696,
     "user": {
      "displayName": "‍조유정[학생](대학원 경영학과)",
      "photoUrl": "",
      "userId": "08462910251745570933"
     },
     "user_tz": -540
    },
    "id": "LGagkEdElO_Q"
   },
   "outputs": [],
   "source": [
    "# r_model.summary()"
   ]
  },
  {
   "cell_type": "code",
   "execution_count": 67,
   "metadata": {
    "ExecuteTime": {
     "end_time": "2020-09-17T06:36:45.162214Z",
     "start_time": "2020-09-17T06:36:45.160244Z"
    },
    "colab": {},
    "colab_type": "code",
    "executionInfo": {
     "elapsed": 1465,
     "status": "ok",
     "timestamp": 1598801045696,
     "user": {
      "displayName": "‍조유정[학생](대학원 경영학과)",
      "photoUrl": "",
      "userId": "08462910251745570933"
     },
     "user_tz": -540
    },
    "id": "CB0kOR_slSD0"
   },
   "outputs": [],
   "source": [
    "early_stopping = EarlyStopping(patience = 30)"
   ]
  },
  {
   "cell_type": "code",
   "execution_count": 68,
   "metadata": {
    "ExecuteTime": {
     "end_time": "2020-09-17T06:36:46.015992Z",
     "start_time": "2020-09-17T06:36:45.945323Z"
    },
    "colab": {},
    "colab_type": "code",
    "executionInfo": {
     "elapsed": 918,
     "status": "ok",
     "timestamp": 1598801050791,
     "user": {
      "displayName": "‍조유정[학생](대학원 경영학과)",
      "photoUrl": "",
      "userId": "08462910251745570933"
     },
     "user_tz": -540
    },
    "id": "UDoKZeNtlWDx"
   },
   "outputs": [],
   "source": [
    "r_model.compile(loss='sparse_categorical_crossentropy', \n",
    "              optimizer='adam',\n",
    "              #optimizer = 'RMSprop',\n",
    "              metrics=['accuracy'],\n",
    "             )"
   ]
  },
  {
   "cell_type": "code",
   "execution_count": 69,
   "metadata": {
    "ExecuteTime": {
     "end_time": "2020-09-17T06:42:22.405771Z",
     "start_time": "2020-09-17T06:38:01.395944Z"
    },
    "colab": {
     "base_uri": "https://localhost:8080/",
     "height": 969
    },
    "colab_type": "code",
    "executionInfo": {
     "elapsed": 352063,
     "status": "ok",
     "timestamp": 1598801406318,
     "user": {
      "displayName": "‍조유정[학생](대학원 경영학과)",
      "photoUrl": "",
      "userId": "08462910251745570933"
     },
     "user_tz": -540
    },
    "id": "rDVo64KBlXD1",
    "outputId": "6901268a-6fe8-446a-ea58-88082f975a93"
   },
   "outputs": [
    {
     "name": "stdout",
     "output_type": "stream",
     "text": [
      "Epoch 1/100\n",
      "22/23 [===========================>..] - ETA: 0s - loss: 0.7099 - acc: 0.6529Epoch 1/100\n",
      "23/23 [==============================] - 12s 515ms/step - loss: 0.7101 - acc: 0.6532 - val_loss: 1.0116 - val_acc: 0.3040\n",
      "Epoch 2/100\n",
      "22/23 [===========================>..] - ETA: 0s - loss: 0.6098 - acc: 0.6970Epoch 1/100\n",
      "23/23 [==============================] - 6s 271ms/step - loss: 0.6089 - acc: 0.6953 - val_loss: 1.0590 - val_acc: 0.3040\n",
      "Epoch 3/100\n",
      "22/23 [===========================>..] - ETA: 0s - loss: 0.5458 - acc: 0.7245Epoch 1/100\n",
      "23/23 [==============================] - 8s 337ms/step - loss: 0.5453 - acc: 0.7270 - val_loss: 1.0065 - val_acc: 0.3040\n",
      "Epoch 4/100\n",
      "22/23 [===========================>..] - ETA: 0s - loss: 0.5141 - acc: 0.7392Epoch 1/100\n",
      "23/23 [==============================] - 8s 334ms/step - loss: 0.5136 - acc: 0.7419 - val_loss: 1.2388 - val_acc: 0.3040\n",
      "Epoch 5/100\n",
      "22/23 [===========================>..] - ETA: 0s - loss: 0.4930 - acc: 0.7548Epoch 1/100\n",
      "23/23 [==============================] - 8s 329ms/step - loss: 0.4902 - acc: 0.7577 - val_loss: 1.3764 - val_acc: 0.3040\n",
      "Epoch 6/100\n",
      "22/23 [===========================>..] - ETA: 0s - loss: 0.4536 - acc: 0.7833Epoch 1/100\n",
      "23/23 [==============================] - 8s 336ms/step - loss: 0.4576 - acc: 0.7814 - val_loss: 1.3029 - val_acc: 0.3040\n",
      "Epoch 7/100\n",
      "22/23 [===========================>..] - ETA: 0s - loss: 0.4281 - acc: 0.8200Epoch 1/100\n",
      "23/23 [==============================] - 8s 338ms/step - loss: 0.4262 - acc: 0.8209 - val_loss: 1.2413 - val_acc: 0.3040\n",
      "Epoch 8/100\n",
      "22/23 [===========================>..] - ETA: 0s - loss: 0.4121 - acc: 0.8154Epoch 1/100\n",
      "23/23 [==============================] - 8s 333ms/step - loss: 0.4104 - acc: 0.8165 - val_loss: 1.3638 - val_acc: 0.3040\n",
      "Epoch 9/100\n",
      "22/23 [===========================>..] - ETA: 0s - loss: 0.3933 - acc: 0.8292Epoch 1/100\n",
      "23/23 [==============================] - 8s 338ms/step - loss: 0.3948 - acc: 0.8297 - val_loss: 1.3727 - val_acc: 0.3040\n",
      "Epoch 10/100\n",
      "22/23 [===========================>..] - ETA: 0s - loss: 0.3869 - acc: 0.8421Epoch 1/100\n",
      "23/23 [==============================] - 8s 341ms/step - loss: 0.3907 - acc: 0.8376 - val_loss: 1.3163 - val_acc: 0.3040\n",
      "Epoch 11/100\n",
      "22/23 [===========================>..] - ETA: 0s - loss: 0.3815 - acc: 0.8329Epoch 1/100\n",
      "23/23 [==============================] - 8s 334ms/step - loss: 0.3832 - acc: 0.8323 - val_loss: 1.4743 - val_acc: 0.3040\n",
      "Epoch 12/100\n",
      "22/23 [===========================>..] - ETA: 0s - loss: 0.3729 - acc: 0.8338Epoch 1/100\n",
      "23/23 [==============================] - 8s 338ms/step - loss: 0.3745 - acc: 0.8349 - val_loss: 1.6336 - val_acc: 0.3040\n",
      "Epoch 13/100\n",
      "22/23 [===========================>..] - ETA: 0s - loss: 0.3846 - acc: 0.8292Epoch 1/100\n",
      "23/23 [==============================] - 8s 330ms/step - loss: 0.3835 - acc: 0.8323 - val_loss: 1.7079 - val_acc: 0.3040\n",
      "Epoch 14/100\n",
      "22/23 [===========================>..] - ETA: 0s - loss: 0.3535 - acc: 0.8522Epoch 1/100\n",
      "23/23 [==============================] - 8s 331ms/step - loss: 0.3544 - acc: 0.8499 - val_loss: 1.4746 - val_acc: 0.3040\n",
      "Epoch 15/100\n",
      "22/23 [===========================>..] - ETA: 0s - loss: 0.3397 - acc: 0.8669Epoch 1/100\n",
      "23/23 [==============================] - 8s 342ms/step - loss: 0.3391 - acc: 0.8657 - val_loss: 1.6425 - val_acc: 0.3040\n",
      "Epoch 16/100\n",
      "22/23 [===========================>..] - ETA: 0s - loss: 0.3171 - acc: 0.8944Epoch 1/100\n",
      "23/23 [==============================] - 8s 340ms/step - loss: 0.3196 - acc: 0.8920 - val_loss: 1.6127 - val_acc: 0.3040\n",
      "Epoch 17/100\n",
      "22/23 [===========================>..] - ETA: 0s - loss: 0.3146 - acc: 0.8806Epoch 1/100\n",
      "23/23 [==============================] - 8s 341ms/step - loss: 0.3136 - acc: 0.8806 - val_loss: 1.5067 - val_acc: 0.3040\n",
      "Epoch 18/100\n",
      "22/23 [===========================>..] - ETA: 0s - loss: 0.3153 - acc: 0.8733Epoch 1/100\n",
      "23/23 [==============================] - 8s 334ms/step - loss: 0.3139 - acc: 0.8727 - val_loss: 1.7268 - val_acc: 0.3040\n",
      "Epoch 19/100\n",
      "22/23 [===========================>..] - ETA: 0s - loss: 0.2952 - acc: 0.8882Epoch 1/100\n",
      "23/23 [==============================] - 8s 336ms/step - loss: 0.2963 - acc: 0.8894 - val_loss: 1.5913 - val_acc: 0.3040\n",
      "Epoch 20/100\n",
      "22/23 [===========================>..] - ETA: 0s - loss: 0.2880 - acc: 0.9027Epoch 1/100\n",
      "23/23 [==============================] - 8s 342ms/step - loss: 0.2888 - acc: 0.9025 - val_loss: 1.4757 - val_acc: 0.3040\n",
      "Epoch 21/100\n",
      "22/23 [===========================>..] - ETA: 0s - loss: 0.2735 - acc: 0.9018Epoch 1/100\n",
      "23/23 [==============================] - 8s 333ms/step - loss: 0.2829 - acc: 0.8973 - val_loss: 1.6703 - val_acc: 0.3040\n",
      "Epoch 22/100\n",
      "22/23 [===========================>..] - ETA: 0s - loss: 0.2718 - acc: 0.9036Epoch 1/100\n",
      "23/23 [==============================] - 8s 337ms/step - loss: 0.2759 - acc: 0.8990 - val_loss: 1.5953 - val_acc: 0.3040\n",
      "Epoch 23/100\n",
      "22/23 [===========================>..] - ETA: 0s - loss: 0.2825 - acc: 0.9054Epoch 1/100\n",
      "23/23 [==============================] - 8s 343ms/step - loss: 0.2804 - acc: 0.9052 - val_loss: 1.4925 - val_acc: 0.3040\n",
      "Epoch 24/100\n",
      "22/23 [===========================>..] - ETA: 0s - loss: 0.2660 - acc: 0.8972Epoch 1/100\n",
      "23/23 [==============================] - 8s 336ms/step - loss: 0.2685 - acc: 0.8973 - val_loss: 1.5510 - val_acc: 0.3040\n",
      "Epoch 25/100\n",
      "22/23 [===========================>..] - ETA: 0s - loss: 0.2680 - acc: 0.8935Epoch 1/100\n",
      "23/23 [==============================] - 8s 349ms/step - loss: 0.2702 - acc: 0.8920 - val_loss: 1.4937 - val_acc: 0.3040\n",
      "Epoch 26/100\n",
      "22/23 [===========================>..] - ETA: 0s - loss: 0.2500 - acc: 0.9302Epoch 1/100\n",
      "23/23 [==============================] - 8s 345ms/step - loss: 0.2495 - acc: 0.9298 - val_loss: 1.4766 - val_acc: 0.3040\n",
      "Epoch 27/100\n",
      "22/23 [===========================>..] - ETA: 0s - loss: 0.2419 - acc: 0.9146Epoch 1/100\n",
      "23/23 [==============================] - 8s 337ms/step - loss: 0.2386 - acc: 0.9175 - val_loss: 1.5622 - val_acc: 0.3040\n",
      "Epoch 28/100\n",
      "22/23 [===========================>..] - ETA: 0s - loss: 0.2428 - acc: 0.9265Epoch 1/100\n",
      "23/23 [==============================] - 8s 338ms/step - loss: 0.2418 - acc: 0.9263 - val_loss: 1.5841 - val_acc: 0.3040\n",
      "Epoch 29/100\n",
      "22/23 [===========================>..] - ETA: 0s - loss: 0.2398 - acc: 0.9247Epoch 1/100\n",
      "23/23 [==============================] - 7s 325ms/step - loss: 0.2404 - acc: 0.9236 - val_loss: 1.6338 - val_acc: 0.3040\n",
      "Epoch 30/100\n",
      "22/23 [===========================>..] - ETA: 0s - loss: 0.2330 - acc: 0.9320Epoch 1/100\n",
      "23/23 [==============================] - 8s 335ms/step - loss: 0.2343 - acc: 0.9306 - val_loss: 1.5773 - val_acc: 0.3040\n",
      "Epoch 31/100\n",
      "22/23 [===========================>..] - ETA: 0s - loss: 0.2249 - acc: 0.9431Epoch 1/100\n",
      "23/23 [==============================] - 8s 339ms/step - loss: 0.2245 - acc: 0.9403 - val_loss: 1.3902 - val_acc: 0.3040\n",
      "Epoch 32/100\n",
      "22/23 [===========================>..] - ETA: 0s - loss: 0.2448 - acc: 0.9091Epoch 1/100\n",
      "23/23 [==============================] - 8s 331ms/step - loss: 0.2404 - acc: 0.9122 - val_loss: 1.5538 - val_acc: 0.3040\n",
      "Epoch 33/100\n",
      "22/23 [===========================>..] - ETA: 0s - loss: 0.2240 - acc: 0.9201Epoch 1/100\n",
      "23/23 [==============================] - 8s 330ms/step - loss: 0.2229 - acc: 0.9201 - val_loss: 1.5219 - val_acc: 0.3040\n"
     ]
    }
   ],
   "source": [
    "history_resnet = r_model.fit_generator(train_generator,\n",
    "                                       steps_per_epoch= math.ceil(train_generator.n/train_generator.batch_size),\n",
    "                                       epochs=100,\n",
    "                                       validation_data=test_generator,\n",
    "                                       validation_steps= math.ceil(test_generator.n/test_generator.batch_size),\n",
    "                                      callbacks = [early_stopping]\n",
    "                                       )"
   ]
  },
  {
   "cell_type": "code",
   "execution_count": 70,
   "metadata": {
    "ExecuteTime": {
     "end_time": "2020-09-17T06:46:45.225655Z",
     "start_time": "2020-09-17T06:46:40.920257Z"
    },
    "colab": {},
    "colab_type": "code",
    "executionInfo": {
     "elapsed": 2522,
     "status": "ok",
     "timestamp": 1598802883108,
     "user": {
      "displayName": "‍조유정[학생](대학원 경영학과)",
      "photoUrl": "",
      "userId": "08462910251745570933"
     },
     "user_tz": -540
    },
    "id": "WodFJrV1lgQ5"
   },
   "outputs": [],
   "source": [
    "scores_resnet = r_model.evaluate_generator(valid_generator,steps = math.ceil(valid_generator.n/valid_generator.batch_size))"
   ]
  },
  {
   "cell_type": "code",
   "execution_count": 71,
   "metadata": {
    "ExecuteTime": {
     "end_time": "2020-09-17T06:46:45.828864Z",
     "start_time": "2020-09-17T06:46:45.825747Z"
    },
    "colab": {
     "base_uri": "https://localhost:8080/",
     "height": 36
    },
    "colab_type": "code",
    "executionInfo": {
     "elapsed": 890,
     "status": "ok",
     "timestamp": 1598802901253,
     "user": {
      "displayName": "‍조유정[학생](대학원 경영학과)",
      "photoUrl": "",
      "userId": "08462910251745570933"
     },
     "user_tz": -540
    },
    "id": "BCK_5mr4FCQP",
    "outputId": "0f7f6107-e8cd-4c09-d790-ea13c7fe0ba4"
   },
   "outputs": [
    {
     "data": {
      "text/plain": [
       "[1.4339264580758952, 0.32020548]"
      ]
     },
     "execution_count": 71,
     "metadata": {},
     "output_type": "execute_result"
    }
   ],
   "source": [
    "scores_resnet"
   ]
  },
  {
   "cell_type": "code",
   "execution_count": 72,
   "metadata": {
    "ExecuteTime": {
     "end_time": "2020-09-17T06:46:52.155713Z",
     "start_time": "2020-09-17T06:46:52.153128Z"
    },
    "colab": {},
    "colab_type": "code",
    "executionInfo": {
     "elapsed": 955,
     "status": "ok",
     "timestamp": 1598802890112,
     "user": {
      "displayName": "‍조유정[학생](대학원 경영학과)",
      "photoUrl": "",
      "userId": "08462910251745570933"
     },
     "user_tz": -540
    },
    "id": "I2WcYvygljip"
   },
   "outputs": [],
   "source": [
    "history_resnet_df = pd.DataFrame(history_resnet.history)\n",
    "scores_resnet_df = pd.DataFrame(scores_resnet)"
   ]
  },
  {
   "cell_type": "code",
   "execution_count": 73,
   "metadata": {
    "ExecuteTime": {
     "end_time": "2020-09-17T06:46:52.990815Z",
     "start_time": "2020-09-17T06:46:52.947626Z"
    },
    "colab": {},
    "colab_type": "code",
    "executionInfo": {
     "elapsed": 809,
     "status": "ok",
     "timestamp": 1598802891063,
     "user": {
      "displayName": "‍조유정[학생](대학원 경영학과)",
      "photoUrl": "",
      "userId": "08462910251745570933"
     },
     "user_tz": -540
    },
    "id": "C2wqUclhm-wI"
   },
   "outputs": [],
   "source": [
    "history_resnet_df.to_excel('./resnet50_history_0917.xlsx')\n",
    "scores_resnet_df.to_excel('./resnet50_scores_0917.xlsx')"
   ]
  },
  {
   "cell_type": "code",
   "execution_count": 74,
   "metadata": {
    "ExecuteTime": {
     "end_time": "2020-09-17T06:47:01.298492Z",
     "start_time": "2020-09-17T06:46:57.851658Z"
    }
   },
   "outputs": [],
   "source": [
    "r_model.save('./resnet_weight.h5')"
   ]
  },
  {
   "cell_type": "code",
   "execution_count": null,
   "metadata": {
    "ExecuteTime": {
     "end_time": "2020-09-07T11:43:21.250179Z",
     "start_time": "2020-09-07T11:43:21.134343Z"
    },
    "colab": {
     "base_uri": "https://localhost:8080/",
     "height": 300
    },
    "colab_type": "code",
    "executionInfo": {
     "elapsed": 958,
     "status": "ok",
     "timestamp": 1598802910062,
     "user": {
      "displayName": "‍조유정[학생](대학원 경영학과)",
      "photoUrl": "",
      "userId": "08462910251745570933"
     },
     "user_tz": -540
    },
    "id": "953ZYIk4ljmK",
    "outputId": "74dfbb59-b61e-4bbc-8b13-0e5bfb28e159"
   },
   "outputs": [],
   "source": [
    "# epochs = range(len(history_resnet.history['acc']))\n",
    "# plt.plot(epochs, history_resnet.history['acc'],label = 'Training accuracy')\n",
    "# plt.plot(epochs,history_resnet.history['val_acc'],label = 'Validation accuracy')\n",
    "# plt.title('Training and validation accuracy')\n",
    "# plt.legend()"
   ]
  },
  {
   "cell_type": "code",
   "execution_count": null,
   "metadata": {
    "ExecuteTime": {
     "end_time": "2020-09-07T11:43:25.518497Z",
     "start_time": "2020-09-07T11:43:25.396045Z"
    },
    "colab": {
     "base_uri": "https://localhost:8080/",
     "height": 300
    },
    "colab_type": "code",
    "executionInfo": {
     "elapsed": 962,
     "status": "ok",
     "timestamp": 1598802912811,
     "user": {
      "displayName": "‍조유정[학생](대학원 경영학과)",
      "photoUrl": "",
      "userId": "08462910251745570933"
     },
     "user_tz": -540
    },
    "id": "9UO9TZwcljqq",
    "outputId": "cdf7a332-707f-4b15-fe78-e859b68ce81d"
   },
   "outputs": [],
   "source": [
    "# plt.plot(epochs, history_resnet.history['loss'],label='Training loss')\n",
    "# plt.plot(epochs,history_resnet.history['val_loss'],label = 'Validation loss')\n",
    "# plt.title('Training and validation loss')\n",
    "# plt.legend()"
   ]
  },
  {
   "cell_type": "code",
   "execution_count": 75,
   "metadata": {
    "ExecuteTime": {
     "end_time": "2020-09-17T06:47:15.937190Z",
     "start_time": "2020-09-17T06:47:10.982669Z"
    },
    "colab": {},
    "colab_type": "code",
    "executionInfo": {
     "elapsed": 4593,
     "status": "ok",
     "timestamp": 1598802933007,
     "user": {
      "displayName": "‍조유정[학생](대학원 경영학과)",
      "photoUrl": "",
      "userId": "08462910251745570933"
     },
     "user_tz": -540
    },
    "id": "ZfoBW_Y9lnwA"
   },
   "outputs": [],
   "source": [
    "Y_pred_resnet = r_model.predict_generator(valid_generator, math.ceil(valid_generator.n/valid_generator.batch_size))\n",
    "y_pred_resnet = np.argmax(Y_pred_resnet, axis=1)"
   ]
  },
  {
   "cell_type": "code",
   "execution_count": 76,
   "metadata": {
    "ExecuteTime": {
     "end_time": "2020-09-17T06:47:18.301589Z",
     "start_time": "2020-09-17T06:47:18.298393Z"
    },
    "colab": {
     "base_uri": "https://localhost:8080/",
     "height": 148
    },
    "colab_type": "code",
    "executionInfo": {
     "elapsed": 1020,
     "status": "ok",
     "timestamp": 1598802942624,
     "user": {
      "displayName": "‍조유정[학생](대학원 경영학과)",
      "photoUrl": "",
      "userId": "08462910251745570933"
     },
     "user_tz": -540
    },
    "id": "lCzPSV3LsBkX",
    "outputId": "248514ad-d90c-404c-a884-a453722a51e0"
   },
   "outputs": [
    {
     "data": {
      "text/plain": [
       "array([0, 0, 0, 0, 0, 0, 0, 0, 0, 0, 0, 0, 0, 0, 0, 0, 0, 0, 0, 0, 0, 0,\n",
       "       0, 0, 0, 0, 0, 0, 0, 0, 0, 0, 0, 0, 0, 0, 0, 0, 0, 0, 0, 0, 0, 0,\n",
       "       0, 0, 0, 0, 0, 0, 0, 0, 0, 0, 0, 0, 0, 0, 0, 0, 0, 0, 0, 0, 0, 0,\n",
       "       0, 0, 0, 0, 0, 0, 0, 0, 0, 0, 0, 0, 0, 0, 0, 0, 0, 0, 0, 0, 0, 0,\n",
       "       0, 0, 0, 0, 0, 0, 0, 0, 0, 0, 0, 0, 0, 0, 0, 0, 0, 0, 0, 0, 0, 0,\n",
       "       0, 0, 0, 0, 0, 0, 0, 0, 0, 0, 0, 0, 0, 0, 0, 0, 0, 1, 0, 0, 0, 0,\n",
       "       0, 0, 0, 0, 0, 0, 0, 0, 0, 0, 0, 0, 0, 0, 0, 0, 0, 0, 0, 0, 0, 0,\n",
       "       0, 0, 0, 0, 0, 0, 0, 0, 0, 0, 0, 0, 0, 0, 0, 0, 0, 0, 0, 0, 0, 0,\n",
       "       0, 0, 0, 0, 0, 0, 0, 0, 0, 0, 0, 0, 0, 0, 0, 0, 0, 0, 0, 0, 0, 0,\n",
       "       0, 0, 0, 0, 0, 0, 0, 0, 0, 0, 0, 0, 0, 0, 0, 0, 0, 0, 0, 0, 0, 0,\n",
       "       0, 0, 0, 0, 0, 0, 0, 0, 0, 0, 0, 0, 0, 0, 0, 0, 0, 0, 0, 0, 0, 0,\n",
       "       0, 0, 0, 0, 0, 0, 0, 0, 0, 0, 0, 0, 0, 0, 0, 0, 0, 0, 0, 0, 0, 0,\n",
       "       0, 0, 0, 0, 0, 0, 0, 0, 0, 0, 0, 0, 0, 0, 0, 0, 0, 0, 0, 0, 0, 0,\n",
       "       0, 0, 0, 0, 0, 0, 0, 0, 0, 0, 0, 0, 0, 0, 0, 0, 0, 0, 0, 0, 0, 0,\n",
       "       0, 0, 0, 0, 0, 0, 0, 0, 0, 0, 0, 0, 0, 0, 0, 0, 0, 0, 0, 0, 0, 0,\n",
       "       0, 0, 0, 0, 0, 0, 0, 0, 0, 0, 0, 0, 0, 0, 0, 0, 0, 0, 0, 0, 0, 0,\n",
       "       0, 0, 0, 0, 0, 0, 0, 0, 0, 0, 0, 0, 0, 0, 0, 0, 0, 0, 0, 0, 0, 0,\n",
       "       0, 0, 0, 0, 0, 0, 0, 0, 0, 0, 0, 0, 0, 0, 0, 0, 0, 0, 0, 0, 0, 0,\n",
       "       0, 0, 0, 0, 0, 0, 0, 0, 0, 0, 0, 0, 0, 0, 0, 0, 0, 0, 0, 0, 0, 0,\n",
       "       0, 0, 0, 0, 0, 0, 0, 0, 0, 0, 0, 0, 0, 0, 0, 0, 0, 0, 0, 0, 0, 0,\n",
       "       0, 0, 0, 0, 0, 0, 0, 0, 0, 0, 0, 0, 0, 0, 0, 0, 0, 0, 0, 0, 0, 0,\n",
       "       0, 0, 0, 0, 0, 0, 0, 0, 0, 0, 0, 0, 0, 0, 0, 0, 0, 0, 0, 0, 0, 0,\n",
       "       0, 0, 0, 0, 0, 0, 0, 0, 0, 0, 0, 0, 0, 0, 0, 0, 0, 0, 0, 0, 0, 0,\n",
       "       0, 0, 0, 0, 0, 0, 0, 0, 0, 0, 0, 0, 0, 0, 0, 0, 0, 0, 0, 0, 0, 0,\n",
       "       0, 0, 0, 0, 0, 0, 0, 0, 0, 0, 0, 0, 0, 0, 0, 0, 0, 0, 0, 0, 0, 0,\n",
       "       0, 0, 0, 0, 0, 0, 0, 0, 0, 0, 0, 0, 0, 0, 0, 0, 0, 0, 0, 0, 0, 0,\n",
       "       0, 0, 0, 0, 0, 0, 0, 0, 0, 0, 0, 0])"
      ]
     },
     "execution_count": 76,
     "metadata": {},
     "output_type": "execute_result"
    }
   ],
   "source": [
    "y_pred_resnet"
   ]
  },
  {
   "cell_type": "code",
   "execution_count": 81,
   "metadata": {
    "ExecuteTime": {
     "end_time": "2020-09-17T06:50:26.287443Z",
     "start_time": "2020-09-17T06:50:26.272321Z"
    }
   },
   "outputs": [],
   "source": [
    "resnet_df = pd.DataFrame()\n",
    "resnet_df['filenames'] = valid_generator.filenames\n",
    "resnet_df['predict'] = y_pred_resnet"
   ]
  },
  {
   "cell_type": "code",
   "execution_count": 82,
   "metadata": {
    "ExecuteTime": {
     "end_time": "2020-09-17T06:51:01.846888Z",
     "start_time": "2020-09-17T06:51:01.644230Z"
    }
   },
   "outputs": [],
   "source": [
    "resnet_df.to_excel('resnet_predict.xlsx',index = False)"
   ]
  },
  {
   "cell_type": "code",
   "execution_count": 86,
   "metadata": {
    "ExecuteTime": {
     "end_time": "2020-09-17T08:23:24.450711Z",
     "start_time": "2020-09-17T08:23:24.333954Z"
    }
   },
   "outputs": [
    {
     "name": "stdout",
     "output_type": "stream",
     "text": [
      "Found 584 images belonging to 2 classes.\n"
     ]
    }
   ],
   "source": [
    "valid_generator = valid_datagen.flow_from_directory(valid_dir, target_size = (IMAGE_SIZE,IMAGE_SIZE),batch_size = 10,\n",
    "                                                 class_mode = 'binary',shuffle = True)"
   ]
  },
  {
   "cell_type": "code",
   "execution_count": 87,
   "metadata": {
    "ExecuteTime": {
     "end_time": "2020-09-17T08:23:25.258144Z",
     "start_time": "2020-09-17T08:23:25.254867Z"
    }
   },
   "outputs": [
    {
     "data": {
      "text/plain": [
       "array([[0, 0, 0, 0, 0, 0, 0, 0, 0, 0, 0, 0, 0, 0, 0, 0, 0, 0, 0, 0, 0, 0,\n",
       "        0, 0, 0, 0, 0, 0, 0, 0, 0, 0, 0, 0, 0, 0, 0, 0, 0, 0, 0, 0, 0, 0,\n",
       "        0, 0, 0, 0, 0, 0, 0, 0, 0, 0, 0, 0, 0, 0, 0, 0, 0, 0, 0, 0, 0, 0,\n",
       "        0, 0, 0, 0, 0, 0, 0, 0, 0, 0, 0, 0, 0, 0, 0, 0, 0, 0, 0, 0, 0, 0,\n",
       "        0, 0, 0, 0, 0, 0, 0, 0, 0, 0, 0, 0, 0, 0, 0, 0, 0, 0, 0, 0, 0, 0,\n",
       "        0, 0, 0, 0, 0, 0, 0, 0, 0, 0, 0, 0, 0, 0, 0, 0, 0, 0, 0, 0, 0, 0,\n",
       "        0, 0, 0, 0, 0, 0, 0, 0, 0, 0, 0, 0, 0, 0, 0, 0, 0, 0, 0, 0, 0, 0,\n",
       "        0, 0, 0, 0, 0, 0, 0, 0, 0, 0, 0, 0, 0, 0, 0, 0, 0, 0, 0, 0, 0, 0,\n",
       "        0, 0, 0, 0, 0, 0, 0, 0, 0, 0, 0, 0, 1, 1, 1, 1, 1, 1, 1, 1, 1, 1,\n",
       "        1, 1, 1, 1, 1, 1, 1, 1, 1, 1, 1, 1, 1, 1, 1, 1, 1, 1, 1, 1, 1, 1,\n",
       "        1, 1, 1, 1, 1, 1, 1, 1, 1, 1, 1, 1, 1, 1, 1, 1, 1, 1, 1, 1, 1, 1,\n",
       "        1, 1, 1, 1, 1, 1, 1, 1, 1, 1, 1, 1, 1, 1, 1, 1, 1, 1, 1, 1, 1, 1,\n",
       "        1, 1, 1, 1, 1, 1, 1, 1, 1, 1, 1, 1, 1, 1, 1, 1, 1, 1, 1, 1, 1, 1,\n",
       "        1, 1, 1, 1, 1, 1, 1, 1, 1, 1, 1, 1, 1, 1, 1, 1, 1, 1, 1, 1, 1, 1,\n",
       "        1, 1, 1, 1, 1, 1, 1, 1, 1, 1, 1, 1, 1, 1, 1, 1, 1, 1, 1, 1, 1, 1,\n",
       "        1, 1, 1, 1, 1, 1, 1, 1, 1, 1, 1, 1, 1, 1, 1, 1, 1, 1, 1, 1, 1, 1,\n",
       "        1, 1, 1, 1, 1, 1, 1, 1, 1, 1, 1, 1, 1, 1, 1, 1, 1, 1, 1, 1, 1, 1,\n",
       "        1, 1, 1, 1, 1, 1, 1, 1, 1, 1, 1, 1, 1, 1, 1, 1, 1, 1, 1, 1, 1, 1,\n",
       "        1, 1, 1, 1, 1, 1, 1, 1, 1, 1, 1, 1, 1, 1, 1, 1, 1, 1, 1, 1, 1, 1,\n",
       "        1, 1, 1, 1, 1, 1, 1, 1, 1, 1, 1, 1, 1, 1, 1, 1, 1, 1, 1, 1, 1, 1,\n",
       "        1, 1, 1, 1, 1, 1, 1, 1, 1, 1, 1, 1, 1, 1, 1, 1, 1, 1, 1, 1, 1, 1,\n",
       "        1, 1, 1, 1, 1, 1, 1, 1, 1, 1, 1, 1, 1, 1, 1, 1, 1, 1, 1, 1, 1, 1,\n",
       "        1, 1, 1, 1, 1, 1, 1, 1, 1, 1, 1, 1, 1, 1, 1, 1, 1, 1, 1, 1, 1, 1,\n",
       "        1, 1, 1, 1, 1, 1, 1, 1, 1, 1, 1, 1, 1, 1, 1, 1, 1, 1, 1, 1, 1, 1,\n",
       "        1, 1, 1, 1, 1, 1, 1, 1, 1, 1, 1, 1, 1, 1, 1, 1, 1, 1, 1, 1, 1, 1,\n",
       "        1, 1, 1, 1, 1, 1, 1, 1, 1, 1, 1, 1, 1, 1, 1, 1, 1, 1, 1, 1, 1, 1,\n",
       "        1, 1, 1, 1, 1, 1, 1, 1, 1, 1, 1, 1]], dtype=int32)"
      ]
     },
     "execution_count": 87,
     "metadata": {},
     "output_type": "execute_result"
    }
   ],
   "source": [
    "valid_generator.classes[valid_generator.index_array]"
   ]
  },
  {
   "cell_type": "code",
   "execution_count": null,
   "metadata": {
    "ExecuteTime": {
     "end_time": "2020-09-07T11:43:40.554393Z",
     "start_time": "2020-09-07T11:43:40.551071Z"
    },
    "colab": {
     "base_uri": "https://localhost:8080/",
     "height": 92
    },
    "colab_type": "code",
    "executionInfo": {
     "elapsed": 927,
     "status": "ok",
     "timestamp": 1598802950612,
     "user": {
      "displayName": "‍조유정[학생](대학원 경영학과)",
      "photoUrl": "",
      "userId": "08462910251745570933"
     },
     "user_tz": -540
    },
    "id": "WlnzEw67lnz9",
    "outputId": "ac789add-3ff7-4ad3-d606-b579d4870474"
   },
   "outputs": [],
   "source": [
    "# print('Confusion Matrix')\n",
    "# print(confusion_matrix(test_generator.classes, y_pred_resnet))\n",
    "# print('Classification Report')"
   ]
  },
  {
   "cell_type": "code",
   "execution_count": 77,
   "metadata": {
    "ExecuteTime": {
     "end_time": "2020-09-17T06:47:38.969405Z",
     "start_time": "2020-09-17T06:47:38.953060Z"
    },
    "colab": {
     "base_uri": "https://localhost:8080/",
     "height": 243
    },
    "colab_type": "code",
    "executionInfo": {
     "elapsed": 890,
     "status": "ok",
     "timestamp": 1598802967035,
     "user": {
      "displayName": "‍조유정[학생](대학원 경영학과)",
      "photoUrl": "",
      "userId": "08462910251745570933"
     },
     "user_tz": -540
    },
    "id": "riH8XeriljuZ",
    "outputId": "fe3d3944-7723-4382-e3fc-3446db55426f"
   },
   "outputs": [
    {
     "name": "stdout",
     "output_type": "stream",
     "text": [
      "              precision    recall  f1-score   support\n",
      "\n",
      "           0       0.32      0.99      0.49       188\n",
      "           1       0.00      0.00      0.00       396\n",
      "\n",
      "    accuracy                           0.32       584\n",
      "   macro avg       0.16      0.50      0.24       584\n",
      "weighted avg       0.10      0.32      0.16       584\n",
      "\n"
     ]
    }
   ],
   "source": [
    "target_names = ['0', '1']\n",
    "print(classification_report(valid_generator.classes, y_pred_resnet, target_names=target_names))"
   ]
  },
  {
   "cell_type": "code",
   "execution_count": 78,
   "metadata": {
    "ExecuteTime": {
     "end_time": "2020-09-17T06:47:49.732747Z",
     "start_time": "2020-09-17T06:47:49.726965Z"
    },
    "colab": {
     "base_uri": "https://localhost:8080/",
     "height": 75
    },
    "colab_type": "code",
    "executionInfo": {
     "elapsed": 1008,
     "status": "ok",
     "timestamp": 1598802971746,
     "user": {
      "displayName": "‍조유정[학생](대학원 경영학과)",
      "photoUrl": "",
      "userId": "08462910251745570933"
     },
     "user_tz": -540
    },
    "id": "0sbXH04Rlw23",
    "outputId": "c8c8a6a0-f0ac-4ddc-f7ea-c3b100570152"
   },
   "outputs": [],
   "source": [
    "resnet_report = classification_report(valid_generator.classes, y_pred_resnet, target_names=target_names,output_dict = True)"
   ]
  },
  {
   "cell_type": "code",
   "execution_count": 79,
   "metadata": {
    "ExecuteTime": {
     "end_time": "2020-09-17T06:47:52.615048Z",
     "start_time": "2020-09-17T06:47:52.612066Z"
    },
    "colab": {},
    "colab_type": "code",
    "executionInfo": {
     "elapsed": 916,
     "status": "ok",
     "timestamp": 1598802975652,
     "user": {
      "displayName": "‍조유정[학생](대학원 경영학과)",
      "photoUrl": "",
      "userId": "08462910251745570933"
     },
     "user_tz": -540
    },
    "id": "8ouW_9eJlw-A"
   },
   "outputs": [],
   "source": [
    "resnet_report_df = pd.DataFrame(resnet_report).transpose()"
   ]
  },
  {
   "cell_type": "code",
   "execution_count": 80,
   "metadata": {
    "ExecuteTime": {
     "end_time": "2020-09-17T06:47:53.137430Z",
     "start_time": "2020-09-17T06:47:53.113850Z"
    },
    "colab": {},
    "colab_type": "code",
    "executionInfo": {
     "elapsed": 891,
     "status": "ok",
     "timestamp": 1598802978604,
     "user": {
      "displayName": "‍조유정[학생](대학원 경영학과)",
      "photoUrl": "",
      "userId": "08462910251745570933"
     },
     "user_tz": -540
    },
    "id": "UYpf_GhMl2Am"
   },
   "outputs": [],
   "source": [
    "resnet_report_df.to_excel('./resnet50_report_0917.xlsx')"
   ]
  },
  {
   "cell_type": "code",
   "execution_count": null,
   "metadata": {
    "colab": {},
    "colab_type": "code",
    "id": "m6u5yHN9l2Dt"
   },
   "outputs": [],
   "source": [
    "with open('result.csv', 'a') as f:\n",
    "    f.write('어떤결과')"
   ]
  },
  {
   "cell_type": "markdown",
   "metadata": {},
   "source": [
    "# pure cnn"
   ]
  },
  {
   "cell_type": "code",
   "execution_count": 90,
   "metadata": {
    "ExecuteTime": {
     "end_time": "2020-09-17T10:50:12.996119Z",
     "start_time": "2020-09-17T10:50:12.678751Z"
    }
   },
   "outputs": [
    {
     "name": "stdout",
     "output_type": "stream",
     "text": [
      "Found 1139 images belonging to 2 classes.\n",
      "Found 125 images belonging to 2 classes.\n",
      "Found 584 images belonging to 2 classes.\n"
     ]
    }
   ],
   "source": [
    "# 데이터를 읽고 이미지를 한번에 넣은 개수\n",
    "train_generator = train_datagen.flow_from_directory(train_dir, target_size=(IMAGE_SIZE, IMAGE_SIZE),\n",
    "                                                    batch_size=20, class_mode='binary')\n",
    "\n",
    "test_generator = test_datagen.flow_from_directory(test_dir, target_size=(IMAGE_SIZE, IMAGE_SIZE),\n",
    "                                                              batch_size=10, class_mode='binary')\n",
    "\n",
    "valid_generator = valid_datagen.flow_from_directory(valid_dir, target_size=(IMAGE_SIZE, IMAGE_SIZE),\n",
    "                                                              batch_size=10, class_mode='binary',shuffle = False)\n"
   ]
  },
  {
   "cell_type": "code",
   "execution_count": 94,
   "metadata": {
    "ExecuteTime": {
     "end_time": "2020-09-17T10:51:15.698481Z",
     "start_time": "2020-09-17T10:51:15.691676Z"
    }
   },
   "outputs": [],
   "source": [
    "from tensorflow.keras.layers import Dense, Dropout, Flatten, Conv2D, MaxPooling2D"
   ]
  },
  {
   "cell_type": "code",
   "execution_count": 95,
   "metadata": {
    "ExecuteTime": {
     "end_time": "2020-09-17T10:51:16.454291Z",
     "start_time": "2020-09-17T10:51:16.437843Z"
    }
   },
   "outputs": [
    {
     "ename": "TypeError",
     "evalue": "The added layer must be an instance of class Layer. Found: <tensorflow.python.keras.layers.convolutional.Conv2D object at 0x7fb9582bcd10>",
     "output_type": "error",
     "traceback": [
      "\u001b[0;31m---------------------------------------------------------------------------\u001b[0m",
      "\u001b[0;31mTypeError\u001b[0m                                 Traceback (most recent call last)",
      "\u001b[0;32m<ipython-input-95-c92603e2c3fd>\u001b[0m in \u001b[0;36m<module>\u001b[0;34m\u001b[0m\n\u001b[1;32m     12\u001b[0m \u001b[0;34m\u001b[0m\u001b[0m\n\u001b[1;32m     13\u001b[0m     \u001b[0mDropout\u001b[0m\u001b[0;34m(\u001b[0m\u001b[0;36m0.5\u001b[0m\u001b[0;34m)\u001b[0m\u001b[0;34m,\u001b[0m\u001b[0;34m\u001b[0m\u001b[0;34m\u001b[0m\u001b[0m\n\u001b[0;32m---> 14\u001b[0;31m     \u001b[0mDense\u001b[0m\u001b[0;34m(\u001b[0m\u001b[0;36m2\u001b[0m\u001b[0;34m,\u001b[0m \u001b[0mactivation\u001b[0m\u001b[0;34m=\u001b[0m\u001b[0;34m'softmax'\u001b[0m\u001b[0;34m)\u001b[0m\u001b[0;34m\u001b[0m\u001b[0;34m\u001b[0m\u001b[0m\n\u001b[0m\u001b[1;32m     15\u001b[0m     ])\n",
      "\u001b[0;32m~/anaconda3/envs/yu4/lib/python3.7/site-packages/keras/engine/sequential.py\u001b[0m in \u001b[0;36m__init__\u001b[0;34m(self, layers, name)\u001b[0m\n\u001b[1;32m     92\u001b[0m         \u001b[0;32mif\u001b[0m \u001b[0mlayers\u001b[0m\u001b[0;34m:\u001b[0m\u001b[0;34m\u001b[0m\u001b[0;34m\u001b[0m\u001b[0m\n\u001b[1;32m     93\u001b[0m             \u001b[0;32mfor\u001b[0m \u001b[0mlayer\u001b[0m \u001b[0;32min\u001b[0m \u001b[0mlayers\u001b[0m\u001b[0;34m:\u001b[0m\u001b[0;34m\u001b[0m\u001b[0;34m\u001b[0m\u001b[0m\n\u001b[0;32m---> 94\u001b[0;31m                 \u001b[0mself\u001b[0m\u001b[0;34m.\u001b[0m\u001b[0madd\u001b[0m\u001b[0;34m(\u001b[0m\u001b[0mlayer\u001b[0m\u001b[0;34m)\u001b[0m\u001b[0;34m\u001b[0m\u001b[0;34m\u001b[0m\u001b[0m\n\u001b[0m\u001b[1;32m     95\u001b[0m \u001b[0;34m\u001b[0m\u001b[0m\n\u001b[1;32m     96\u001b[0m     \u001b[0;34m@\u001b[0m\u001b[0mproperty\u001b[0m\u001b[0;34m\u001b[0m\u001b[0;34m\u001b[0m\u001b[0m\n",
      "\u001b[0;32m~/anaconda3/envs/yu4/lib/python3.7/site-packages/keras/engine/sequential.py\u001b[0m in \u001b[0;36madd\u001b[0;34m(self, layer)\u001b[0m\n\u001b[1;32m    131\u001b[0m             raise TypeError('The added layer must be '\n\u001b[1;32m    132\u001b[0m                             \u001b[0;34m'an instance of class Layer. '\u001b[0m\u001b[0;34m\u001b[0m\u001b[0;34m\u001b[0m\u001b[0m\n\u001b[0;32m--> 133\u001b[0;31m                             'Found: ' + str(layer))\n\u001b[0m\u001b[1;32m    134\u001b[0m         \u001b[0mself\u001b[0m\u001b[0;34m.\u001b[0m\u001b[0mbuilt\u001b[0m \u001b[0;34m=\u001b[0m \u001b[0;32mFalse\u001b[0m\u001b[0;34m\u001b[0m\u001b[0;34m\u001b[0m\u001b[0m\n\u001b[1;32m    135\u001b[0m         \u001b[0;32mif\u001b[0m \u001b[0;32mnot\u001b[0m \u001b[0mself\u001b[0m\u001b[0;34m.\u001b[0m\u001b[0m_layers\u001b[0m\u001b[0;34m:\u001b[0m\u001b[0;34m\u001b[0m\u001b[0;34m\u001b[0m\u001b[0m\n",
      "\u001b[0;31mTypeError\u001b[0m: The added layer must be an instance of class Layer. Found: <tensorflow.python.keras.layers.convolutional.Conv2D object at 0x7fb9582bcd10>"
     ]
    }
   ],
   "source": [
    "# 층 설정 및 활성함수\n",
    "model = keras.Sequential([\n",
    "    Conv2D(64, kernel_size=(3,3), padding='same', activation='relu'),\n",
    "    MaxPooling2D(pool_size=(2,2)),\n",
    "    Conv2D(64, kernel_size=(3,3), padding='same', activation='relu'),\n",
    "    MaxPooling2D(pool_size=(2,2)),\n",
    "    Conv2D(64, kernel_size=(3,3), padding='same', activation='relu'),\n",
    "    MaxPooling2D(pool_size=(2,2)),\n",
    "    Flatten(),\n",
    "    Dropout(0.25),\n",
    "    Dense(128, activation='relu'),\n",
    "    \n",
    "    Dropout(0.5),\n",
    "    Dense(2, activation='softmax')\n",
    "    ])"
   ]
  },
  {
   "cell_type": "code",
   "execution_count": null,
   "metadata": {},
   "outputs": [],
   "source": [
    "# compile\n",
    "model.compile(optimizer='Adam',\n",
    "            loss='sparse_categorical_crossentropy',\n",
    "            metrics=['accuracy'])"
   ]
  },
  {
   "cell_type": "code",
   "execution_count": null,
   "metadata": {},
   "outputs": [],
   "source": [
    "#early_stopping = EarlyStopping(monitor='val_loss', patience=10)\n",
    "\n",
    "history = model.fit_generator(\n",
    "        train_generator,\n",
    "        steps_per_epoch=70,\n",
    "        epochs=50,\n",
    "        validation_data=validation_generator,\n",
    "        validation_steps=16)"
   ]
  },
  {
   "cell_type": "code",
   "execution_count": null,
   "metadata": {},
   "outputs": [],
   "source": [
    "scores = model.evaluate_generator(validation_generator, steps=10)"
   ]
  },
  {
   "cell_type": "code",
   "execution_count": null,
   "metadata": {},
   "outputs": [],
   "source": [
    "scores = model.evaluate_generator(validation_generator, steps=5)"
   ]
  },
  {
   "cell_type": "code",
   "execution_count": null,
   "metadata": {},
   "outputs": [],
   "source": [
    "Y_pred = model.predict_generator(validation_generator, 16)\n",
    "y_pred= np.argmax(Y_pred, axis=1)"
   ]
  },
  {
   "cell_type": "code",
   "execution_count": 88,
   "metadata": {
    "ExecuteTime": {
     "end_time": "2020-09-17T10:49:50.090499Z",
     "start_time": "2020-09-17T10:49:50.069713Z"
    }
   },
   "outputs": [
    {
     "ename": "NameError",
     "evalue": "name 'validation_generator' is not defined",
     "output_type": "error",
     "traceback": [
      "\u001b[0;31m---------------------------------------------------------------------------\u001b[0m",
      "\u001b[0;31mNameError\u001b[0m                                 Traceback (most recent call last)",
      "\u001b[0;32m<ipython-input-88-0a901caddc7b>\u001b[0m in \u001b[0;36m<module>\u001b[0;34m\u001b[0m\n\u001b[1;32m      1\u001b[0m \u001b[0mtarget_names\u001b[0m \u001b[0;34m=\u001b[0m \u001b[0;34m[\u001b[0m\u001b[0;34m'0'\u001b[0m\u001b[0;34m,\u001b[0m \u001b[0;34m'1'\u001b[0m\u001b[0;34m]\u001b[0m\u001b[0;34m\u001b[0m\u001b[0;34m\u001b[0m\u001b[0m\n\u001b[0;32m----> 2\u001b[0;31m \u001b[0mprint\u001b[0m\u001b[0;34m(\u001b[0m\u001b[0mclassification_report\u001b[0m\u001b[0;34m(\u001b[0m\u001b[0mvalidation_generator\u001b[0m\u001b[0;34m.\u001b[0m\u001b[0mclasses\u001b[0m\u001b[0;34m,\u001b[0m \u001b[0my_pred\u001b[0m\u001b[0;34m,\u001b[0m \u001b[0mtarget_names\u001b[0m\u001b[0;34m=\u001b[0m\u001b[0mtarget_names\u001b[0m\u001b[0;34m)\u001b[0m\u001b[0;34m)\u001b[0m\u001b[0;34m\u001b[0m\u001b[0;34m\u001b[0m\u001b[0m\n\u001b[0m",
      "\u001b[0;31mNameError\u001b[0m: name 'validation_generator' is not defined"
     ]
    }
   ],
   "source": [
    "target_names = ['0', '1']\n",
    "print(classification_report(validation_generator.classes, y_pred, target_names=target_names))"
   ]
  },
  {
   "cell_type": "code",
   "execution_count": null,
   "metadata": {},
   "outputs": [],
   "source": []
  }
 ],
 "metadata": {
  "accelerator": "GPU",
  "colab": {
   "authorship_tag": "ABX9TyPYqUFIA+BOViEEQai9xOBK",
   "name": "0831_accuracy_save.ipynb",
   "provenance": []
  },
  "hide_input": false,
  "kernelspec": {
   "display_name": "yu4",
   "language": "python",
   "name": "yu4"
  },
  "language_info": {
   "codemirror_mode": {
    "name": "ipython",
    "version": 3
   },
   "file_extension": ".py",
   "mimetype": "text/x-python",
   "name": "python",
   "nbconvert_exporter": "python",
   "pygments_lexer": "ipython3",
   "version": "3.7.7"
  },
  "toc": {
   "base_numbering": 1,
   "nav_menu": {},
   "number_sections": true,
   "sideBar": true,
   "skip_h1_title": false,
   "title_cell": "Table of Contents",
   "title_sidebar": "Contents",
   "toc_cell": false,
   "toc_position": {},
   "toc_section_display": true,
   "toc_window_display": false
  }
 },
 "nbformat": 4,
 "nbformat_minor": 1
}
