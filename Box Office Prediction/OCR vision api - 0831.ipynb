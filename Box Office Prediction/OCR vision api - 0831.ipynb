{
 "cells": [
  {
   "cell_type": "code",
   "execution_count": 1,
   "metadata": {},
   "outputs": [],
   "source": [
    "import io  # 파일 읽고 쓰기위한 모듈\n",
    "import os # os의 기능을 사용하기 위한 모듈\n",
    "\n",
    "#import the google cloud client library\n",
    "from google.cloud import vision\n",
    "from google.cloud.vision import types"
   ]
  },
  {
   "cell_type": "code",
   "execution_count": 2,
   "metadata": {},
   "outputs": [],
   "source": [
    "# os.chdir('./dataset/0')"
   ]
  },
  {
   "cell_type": "code",
   "execution_count": 3,
   "metadata": {},
   "outputs": [
    {
     "data": {
      "text/plain": [
       "'C:\\\\Users\\\\user\\\\Desktop\\\\경희대\\\\포스터 이미지로 광고효과'"
      ]
     },
     "execution_count": 3,
     "metadata": {},
     "output_type": "execute_result"
    }
   ],
   "source": [
    "os.getcwd()"
   ]
  },
  {
   "cell_type": "markdown",
   "metadata": {},
   "source": [
    "cmd 창에서\n",
    "\n",
    "SETX GOOGLE_APPLICATION_CREDENTIALS=\"api키 생성후 받은 json파일 있는 경로\"\n",
    "\n",
    "지정해주기"
   ]
  },
  {
   "cell_type": "code",
   "execution_count": 4,
   "metadata": {},
   "outputs": [],
   "source": [
    "#폴더0에 있는 파일들OCR 후 추출된 text개수 저장\n",
    "client = vision.ImageAnnotatorClient()\n",
    "filenames = os.listdir('./dataset/0_중복제거전')   ##listdir은 폴더지정까지만"
   ]
  },
  {
   "cell_type": "code",
   "execution_count": 5,
   "metadata": {},
   "outputs": [
    {
     "data": {
      "text/plain": [
       "576"
      ]
     },
     "execution_count": 5,
     "metadata": {},
     "output_type": "execute_result"
    }
   ],
   "source": [
    "len(filenames)"
   ]
  },
  {
   "cell_type": "code",
   "execution_count": 6,
   "metadata": {},
   "outputs": [],
   "source": [
    "text_list_0 = []"
   ]
  },
  {
   "cell_type": "code",
   "execution_count": 7,
   "metadata": {},
   "outputs": [],
   "source": [
    "for file in filenames:\n",
    "    path = os.path.join('./dataset/0_중복제거전/', file)\n",
    "\n",
    "    # Loads the image into memory\n",
    "    with io.open(path, 'rb') as image_file:\n",
    "        content = image_file.read()\n",
    "\n",
    "    image = vision.types.Image(content=content)\n",
    "    response = client.text_detection(image=image)\n",
    "    texts = response.text_annotations\n",
    "    \n",
    "    try:\n",
    "        text_list_0.append(texts[0].description)\n",
    "        #print(texts[0].description)\n",
    "    except :\n",
    "        text_list_0.append(' ')\n",
    "\n",
    "#     with open('C:/Users/choyujung/Desktop/경희대/포스터 이미지로 광고효과/연극흥행/0_text/'+filename[0:-4]+'.txt', \"w\") as f:\n",
    "#         f.write(texts[0].description)"
   ]
  },
  {
   "cell_type": "code",
   "execution_count": 8,
   "metadata": {},
   "outputs": [
    {
     "data": {
      "text/plain": [
       "576"
      ]
     },
     "execution_count": 8,
     "metadata": {},
     "output_type": "execute_result"
    }
   ],
   "source": [
    "len(text_list_0)"
   ]
  },
  {
   "cell_type": "code",
   "execution_count": 10,
   "metadata": {},
   "outputs": [
    {
     "data": {
      "text/plain": [
       "'새 나라의 어른이들을 위한 연극\\n바른생활\\n영회야 넌 꿈이 뭐니?\\n바른생활 공연\\n재미있다던데..\\n영희야 입다물고\\n색상이나 옮겨줄래?\\n난 연봉8000에\\n외제차를 끌고\\n60평아파트에 사는\\n남자 만나는게\\n꿈이란다\\n출연 안영주 김지용 김동민 배설하 김재도 박미리 엄현수 조현주 강원진 백슬아\\n프로듀서 석봉준 작가 김진수 연출 작곡 정성운 조명디자인 박민한 무대디자인 유다미 진행 신은영 구회연 오퍼레이터 전시운 강동웅\\n후원 시2, 서울문화재단, 영진주물 협찬 하이트진로 기획 예술기획 팀플레이 (주) 예매 인터파크 티켓 문의 02,1661.6981.\\n본 프로그램은 서울문화재단의 2016년도 「서울메세나지원사업」의 지원금으로 추진됩니다.\\nXN\\nK\\n'"
      ]
     },
     "execution_count": 10,
     "metadata": {},
     "output_type": "execute_result"
    }
   ],
   "source": [
    "text_list_0[575]"
   ]
  },
  {
   "cell_type": "code",
   "execution_count": 11,
   "metadata": {},
   "outputs": [],
   "source": [
    "import pandas as pd\n",
    "text_df_0 = pd.DataFrame()"
   ]
  },
  {
   "cell_type": "code",
   "execution_count": 12,
   "metadata": {},
   "outputs": [],
   "source": [
    "text_df_0['filename'] = filenames"
   ]
  },
  {
   "cell_type": "code",
   "execution_count": 13,
   "metadata": {},
   "outputs": [],
   "source": [
    "text_df_0['text'] = text_list_0"
   ]
  },
  {
   "cell_type": "code",
   "execution_count": null,
   "metadata": {},
   "outputs": [],
   "source": [
    "#text_df_0.to_csv('0_text.csv')"
   ]
  },
  {
   "cell_type": "code",
   "execution_count": 14,
   "metadata": {},
   "outputs": [],
   "source": [
    "count_list_0= []\n",
    "count0 = 0"
   ]
  },
  {
   "cell_type": "code",
   "execution_count": null,
   "metadata": {},
   "outputs": [],
   "source": [
    "#input = text_list_0[0]"
   ]
  },
  {
   "cell_type": "code",
   "execution_count": 15,
   "metadata": {},
   "outputs": [],
   "source": [
    "for t in range(len(text_list_0)):\n",
    "    count0 = 0\n",
    "    for j in text_list_0[t]:\n",
    "        if j not in [\" \",\"\\n\"]:\n",
    "            count0 += 1\n",
    "    count_list_0.append(count0)"
   ]
  },
  {
   "cell_type": "code",
   "execution_count": null,
   "metadata": {},
   "outputs": [],
   "source": [
    "#import pandas as pd"
   ]
  },
  {
   "cell_type": "code",
   "execution_count": null,
   "metadata": {},
   "outputs": [],
   "source": [
    "#count_df0 = pd.DataFrame()"
   ]
  },
  {
   "cell_type": "code",
   "execution_count": null,
   "metadata": {},
   "outputs": [],
   "source": [
    "#c0 = pd.DataFrame(count_list_0)"
   ]
  },
  {
   "cell_type": "code",
   "execution_count": null,
   "metadata": {},
   "outputs": [],
   "source": [
    "#count_df0['filename'] = filenames"
   ]
  },
  {
   "cell_type": "code",
   "execution_count": null,
   "metadata": {},
   "outputs": [],
   "source": [
    "#count_df0['0folder_text'] = c0"
   ]
  },
  {
   "cell_type": "code",
   "execution_count": 16,
   "metadata": {},
   "outputs": [],
   "source": [
    "text_df_0['count'] = count_list_0"
   ]
  },
  {
   "cell_type": "code",
   "execution_count": 17,
   "metadata": {},
   "outputs": [],
   "source": [
    "text_df_0.to_excel('./dataset/0_text.xlsx')"
   ]
  },
  {
   "cell_type": "code",
   "execution_count": null,
   "metadata": {},
   "outputs": [],
   "source": [
    "#count_df0.to_csv(\"0_text_count.csv\")"
   ]
  },
  {
   "cell_type": "code",
   "execution_count": 18,
   "metadata": {},
   "outputs": [],
   "source": [
    "#폴더1에 있는 파일들OCR 후 추출된 text개수 저장\n",
    "#client = vision.ImageAnnotatorClient()\n",
    "filenames_1 = os.listdir('./dataset/1_중복제거전')   ##listdir은 폴더지정까지만"
   ]
  },
  {
   "cell_type": "code",
   "execution_count": 19,
   "metadata": {},
   "outputs": [
    {
     "data": {
      "text/plain": [
       "1272"
      ]
     },
     "execution_count": 19,
     "metadata": {},
     "output_type": "execute_result"
    }
   ],
   "source": [
    "len(filenames_1)"
   ]
  },
  {
   "cell_type": "code",
   "execution_count": 20,
   "metadata": {},
   "outputs": [],
   "source": [
    "text_list_1=[]"
   ]
  },
  {
   "cell_type": "code",
   "execution_count": 21,
   "metadata": {},
   "outputs": [],
   "source": [
    "for filename in filenames_1:\n",
    "    path = os.path.join('./dataset/1_중복제거전/', filename)\n",
    "\n",
    "    # Loads the image into memory\n",
    "    with io.open(path, 'rb') as image_file:\n",
    "        content = image_file.read()\n",
    "\n",
    "    image = vision.types.Image(content=content)\n",
    "    response = client.text_detection(image=image)\n",
    "    texts = response.text_annotations\n",
    "    #print(texts[0].description)\n",
    "\n",
    "    try:\n",
    "        text_list_1.append(texts[0].description)\n",
    "        \n",
    "#         with open('C:/Users/choyujung/Desktop/경희대/포스터 이미지로 광고효과/dataset/1_text/'+filename[0:-4]+'.txt', \"w\") as f:\n",
    "#             f.write(texts[0].description)\n",
    "#         폴더에 txt파일로 저장\n",
    "    except:\n",
    "        text_list_1.append(' ')"
   ]
  },
  {
   "cell_type": "code",
   "execution_count": 22,
   "metadata": {},
   "outputs": [
    {
     "data": {
      "text/plain": [
       "1272"
      ]
     },
     "execution_count": 22,
     "metadata": {},
     "output_type": "execute_result"
    }
   ],
   "source": [
    "len(text_list_1)"
   ]
  },
  {
   "cell_type": "code",
   "execution_count": 30,
   "metadata": {},
   "outputs": [],
   "source": [
    "text_df_1 = pd.DataFrame()"
   ]
  },
  {
   "cell_type": "code",
   "execution_count": 31,
   "metadata": {},
   "outputs": [],
   "source": [
    "text_df_1['filename'] = filenames_1"
   ]
  },
  {
   "cell_type": "code",
   "execution_count": 32,
   "metadata": {},
   "outputs": [],
   "source": [
    "text_df_1['text'] = text_list_1"
   ]
  },
  {
   "cell_type": "code",
   "execution_count": null,
   "metadata": {},
   "outputs": [],
   "source": [
    "#text_df_1.to_csv('1_text.csv')"
   ]
  },
  {
   "cell_type": "code",
   "execution_count": null,
   "metadata": {},
   "outputs": [],
   "source": [
    "#text_list_1[0]"
   ]
  },
  {
   "cell_type": "code",
   "execution_count": 26,
   "metadata": {},
   "outputs": [],
   "source": [
    "count_list_1 = []\n",
    "count1 = 0"
   ]
  },
  {
   "cell_type": "code",
   "execution_count": 27,
   "metadata": {},
   "outputs": [],
   "source": [
    "for t in range(len(text_list_1)):\n",
    "    count1 = 0\n",
    "    for j in text_list_1[t]:\n",
    "        if j not in [\" \",\"\\n\"]:\n",
    "            count1 += 1\n",
    "    count_list_1.append(count1)"
   ]
  },
  {
   "cell_type": "code",
   "execution_count": null,
   "metadata": {},
   "outputs": [],
   "source": [
    "#count_df1 = pd.DataFrame()"
   ]
  },
  {
   "cell_type": "code",
   "execution_count": null,
   "metadata": {},
   "outputs": [],
   "source": [
    "#count_df1['filename']=filenames_1 "
   ]
  },
  {
   "cell_type": "code",
   "execution_count": 33,
   "metadata": {},
   "outputs": [],
   "source": [
    "text_df_1['count'] = count_list_1"
   ]
  },
  {
   "cell_type": "code",
   "execution_count": 34,
   "metadata": {},
   "outputs": [],
   "source": [
    "text_df_1.to_excel('./dataset/1_text.xlsx')"
   ]
  },
  {
   "cell_type": "code",
   "execution_count": null,
   "metadata": {},
   "outputs": [],
   "source": [
    "#count_df1.to_csv(\"1_text_count.csv\")"
   ]
  },
  {
   "cell_type": "code",
   "execution_count": null,
   "metadata": {},
   "outputs": [],
   "source": [
    "os.getcwd()"
   ]
  },
  {
   "cell_type": "markdown",
   "metadata": {},
   "source": [
    "참고 링크\n",
    "\n",
    "코드, API 키 받는법 참고\n",
    "\n",
    "http://blog.naver.com/PostView.nhn?blogId=rhrkdfus&logNo=221335351270&parentCategoryNo=&categoryNo=16&viewDate=&isShowPopularPosts=true&from=search\n",
    "\n",
    "http://blog.naver.com/PostView.nhn?blogId=rhrkdfus&logNo=221335357361&categoryNo=29&parentCategoryNo=0\n",
    "\n",
    "https://naramp4.github.io/python/ocr/\n",
    "\n",
    "open함수 설명\n",
    "\n",
    "https://www.daleseo.com/python-open/\n",
    "https://python.flowdas.com/library/io.html\n",
    "\n",
    "cf)영상에서 이미지추출\n",
    "https://springml.com/blog/streaming-ocr-vision-api/\n",
    "\n",
    "공백없이 글자수 추출방법\n",
    "http://codingdojang.com/scode/589?langby=python\n",
    "\n",
    "try: excep: 문 설명 https://copycoding.tistory.com/140"
   ]
  },
  {
   "cell_type": "markdown",
   "metadata": {},
   "source": [
    "## image 밝기 수치화 "
   ]
  },
  {
   "cell_type": "markdown",
   "metadata": {},
   "source": [
    "convert 함수 설명\n",
    "\n",
    "https://www.geeksforgeeks.org/python-pil-image-convert-method/\n",
    "\n",
    "pixcel 밝기 측정 코드 참고\n",
    "https://ko.coder.work/so/python/374462\n",
    "\n",
    "getpixcel은 (X,Y)좌표에 있는 픽셀의 색상값을 반환\n",
    "\n",
    "(X좌표, Y좌표위치 설명)\n",
    "https://webnautes.tistory.com/580\n",
    "\n",
    "https://soyoung-new-challenge.tistory.com/112"
   ]
  },
  {
   "cell_type": "code",
   "execution_count": 35,
   "metadata": {},
   "outputs": [],
   "source": [
    "#PIL(Python Imaging library 는 파이썬을 이용해서 쉽게 이미지 프로세싱을 할 수 있게 해주는 라이브러리)\n",
    "from PIL import Image\n",
    "from math import sqrt\n",
    "import os\n",
    "import pandas as pd"
   ]
  },
  {
   "cell_type": "code",
   "execution_count": null,
   "metadata": {},
   "outputs": [],
   "source": [
    "#img = Image.open(\"C:/Users/choyujung/Desktop/경희대/포스터 이미지로 광고효과/dataset/0/PF154858.jpg\")"
   ]
  },
  {
   "cell_type": "code",
   "execution_count": 54,
   "metadata": {},
   "outputs": [],
   "source": [
    "filenames = os.listdir(\"./dataset/1_중복제거전/\")"
   ]
  },
  {
   "cell_type": "code",
   "execution_count": 55,
   "metadata": {},
   "outputs": [],
   "source": [
    "r_list = []\n",
    "g_list = []\n",
    "b_list = []\n",
    "bright_list = []\n",
    "lumi_list = []"
   ]
  },
  {
   "cell_type": "code",
   "execution_count": 41,
   "metadata": {},
   "outputs": [],
   "source": [
    "#path = os.path.join('./dataset/0/', filenames[0])"
   ]
  },
  {
   "cell_type": "code",
   "execution_count": 56,
   "metadata": {},
   "outputs": [],
   "source": [
    "for file in filenames:\n",
    "    path = os.path.join('./dataset/1_중복제거전/', file)\n",
    "    \n",
    "    img = Image.open(path)\n",
    "    img = img.convert(\"RGB\")\n",
    "    X,Y = 0,0\n",
    "    pixelRGB = img.getpixel((X,Y))\n",
    "    R,G,B = pixelRGB\n",
    "    r_list.append(R)\n",
    "    g_list.append(G)\n",
    "    b_list.append(B)\n",
    "    \n",
    "    brightness = sum([R,G,B])/3\n",
    "    bright_list.append(brightness)\n",
    "    \n",
    "    lumi = 0.2126*R + 0.7152*G + 0.0722*B\n",
    "    lumi_list.append(lumi)\n",
    "    "
   ]
  },
  {
   "cell_type": "code",
   "execution_count": 57,
   "metadata": {},
   "outputs": [],
   "source": [
    "bright_df = pd.DataFrame()"
   ]
  },
  {
   "cell_type": "code",
   "execution_count": 58,
   "metadata": {},
   "outputs": [],
   "source": [
    "bright_df['filename'] = filenames"
   ]
  },
  {
   "cell_type": "code",
   "execution_count": 59,
   "metadata": {},
   "outputs": [
    {
     "data": {
      "text/plain": [
       "1272"
      ]
     },
     "execution_count": 59,
     "metadata": {},
     "output_type": "execute_result"
    }
   ],
   "source": [
    "len(lumi_list)"
   ]
  },
  {
   "cell_type": "code",
   "execution_count": 60,
   "metadata": {},
   "outputs": [],
   "source": [
    "#r = pd.DataFrame(r_list)\n",
    "bright_df['R'] = r_list"
   ]
  },
  {
   "cell_type": "code",
   "execution_count": 61,
   "metadata": {},
   "outputs": [],
   "source": [
    "#g = pd.DataFrame(g_list)\n",
    "bright_df['G'] = g_list"
   ]
  },
  {
   "cell_type": "code",
   "execution_count": 62,
   "metadata": {},
   "outputs": [],
   "source": [
    "#b = pd.DataFrame(b_list)\n",
    "bright_df['B'] = b_list"
   ]
  },
  {
   "cell_type": "code",
   "execution_count": 63,
   "metadata": {},
   "outputs": [],
   "source": [
    "#br = pd.DataFrame(bright_list)\n",
    "bright_df['brightness'] = bright_list"
   ]
  },
  {
   "cell_type": "code",
   "execution_count": 64,
   "metadata": {},
   "outputs": [],
   "source": [
    "#lu = pd.DataFrame(lumi_list)\n",
    "bright_df['lumi'] = lumi_list"
   ]
  },
  {
   "cell_type": "code",
   "execution_count": 65,
   "metadata": {},
   "outputs": [],
   "source": [
    "bright_df.to_excel(\"./dataset/bright_1.xlsx\")"
   ]
  },
  {
   "cell_type": "code",
   "execution_count": null,
   "metadata": {},
   "outputs": [],
   "source": []
  },
  {
   "cell_type": "code",
   "execution_count": null,
   "metadata": {},
   "outputs": [],
   "source": [
    "img = Image.open('./dataset/0/'+\"PF154694.jpg\")"
   ]
  },
  {
   "cell_type": "code",
   "execution_count": null,
   "metadata": {},
   "outputs": [],
   "source": [
    "img = img.convert(\"RGB\")"
   ]
  },
  {
   "cell_type": "code",
   "execution_count": null,
   "metadata": {},
   "outputs": [],
   "source": [
    "img.size"
   ]
  },
  {
   "cell_type": "code",
   "execution_count": null,
   "metadata": {},
   "outputs": [],
   "source": [
    "X,Y = (312,381)"
   ]
  },
  {
   "cell_type": "code",
   "execution_count": null,
   "metadata": {},
   "outputs": [],
   "source": [
    "pixelRGB = img.getpixel((X,Y))"
   ]
  },
  {
   "cell_type": "code",
   "execution_count": null,
   "metadata": {},
   "outputs": [],
   "source": [
    "pixelRGB"
   ]
  },
  {
   "cell_type": "code",
   "execution_count": null,
   "metadata": {},
   "outputs": [],
   "source": [
    "R,G,B = pixelRGB"
   ]
  },
  {
   "cell_type": "code",
   "execution_count": null,
   "metadata": {},
   "outputs": [],
   "source": []
  },
  {
   "cell_type": "code",
   "execution_count": null,
   "metadata": {},
   "outputs": [],
   "source": []
  },
  {
   "cell_type": "code",
   "execution_count": null,
   "metadata": {},
   "outputs": [],
   "source": [
    "#Convert the image RGB if it is a .gif for example\n",
    "img = img.convert('RGB')     # mode에 따라 픽셀의 팔레트를 다르게 주어 변환"
   ]
  },
  {
   "cell_type": "code",
   "execution_count": null,
   "metadata": {},
   "outputs": [],
   "source": [
    "#coordinates of the pixel\n",
    "X,Y = 0,0\n",
    "#Get RGB\n",
    "pixelRGB = img.getpixel((X,Y))"
   ]
  },
  {
   "cell_type": "code",
   "execution_count": null,
   "metadata": {},
   "outputs": [],
   "source": [
    "R,G,B = pixelRGB "
   ]
  },
  {
   "cell_type": "code",
   "execution_count": null,
   "metadata": {},
   "outputs": [],
   "source": [
    "sum([R,G,B])"
   ]
  },
  {
   "cell_type": "code",
   "execution_count": null,
   "metadata": {},
   "outputs": [],
   "source": [
    "print(\"R:\",R,\"G:\",G,\"B:\",B)"
   ]
  },
  {
   "cell_type": "code",
   "execution_count": null,
   "metadata": {},
   "outputs": [],
   "source": [
    "brightness = sum([R,G,B])/3  ##0 is dark (black) and 255 is bright (white)"
   ]
  },
  {
   "cell_type": "code",
   "execution_count": null,
   "metadata": {},
   "outputs": [],
   "source": [
    "brightness"
   ]
  },
  {
   "cell_type": "code",
   "execution_count": null,
   "metadata": {},
   "outputs": [],
   "source": []
  },
  {
   "cell_type": "code",
   "execution_count": null,
   "metadata": {},
   "outputs": [],
   "source": [
    "y = 0.2126*R + 0.7152*G + 0.0722*B"
   ]
  },
  {
   "cell_type": "markdown",
   "metadata": {},
   "source": [
    "### Relative luminance in colorimetric spaces\n",
    "\n",
    "https://en.wikipedia.org/wiki/Relative_luminance"
   ]
  },
  {
   "cell_type": "raw",
   "metadata": {},
   "source": []
  },
  {
   "cell_type": "markdown",
   "metadata": {},
   "source": [
    "얼굴인식\n",
    "\n",
    "https://pinkwink.kr/1124\n",
    "\n",
    "haarcascades 파일 설명\n",
    "\n",
    "https://studychfhd.tistory.com/230\n",
    "\n",
    "haarcascades 파일 다운로드 깃허브\n",
    "https://github.com/opencv/opencv/tree/master/data/haarcascades\n",
    "\n",
    "haarcascades 파일중 frontalface alt 파일 사용\n",
    "\n",
    "https://m.blog.naver.com/PostView.nhn?blogId=hamstery&logNo=110089766352&proxyReferer=https:%2F%2Fwww.google.com%2F"
   ]
  },
  {
   "cell_type": "markdown",
   "metadata": {},
   "source": [
    "가상환경 만들기\n",
    "\n",
    "https://rfriend.tistory.com/458"
   ]
  },
  {
   "cell_type": "markdown",
   "metadata": {},
   "source": [
    "OpenCV는 파이썬 API들의 모임\n",
    "\n",
    "\n",
    "OpenCV - python OpenCV의 C++API를 파이썬 언어로 랩핑\n",
    "\n",
    "2001년 논문 \"Rapid Object Detection using a Boosted Cascade of Simple Features\"에서 Paul Viola와 Michael Jones가 제안한 특징(feature)을 기반으로 비디오 또는 이미지에서 오브젝트를 검출하기 위해 사용"
   ]
  },
  {
   "cell_type": "code",
   "execution_count": null,
   "metadata": {},
   "outputs": [],
   "source": [
    "import cv2 \n",
    "import numpy as np\n",
    "import pandas as pd\n",
    "from matplotlib import pyplot as plt\n",
    "import os\n",
    "%matplotlib inline"
   ]
  },
  {
   "cell_type": "code",
   "execution_count": null,
   "metadata": {},
   "outputs": [],
   "source": [
    "#face_cascade = cv2.CascadeClassifier(\"C:\\\\Users\\\\choyujung\\\\Desktop\\\\경희대\\\\포스터 이미지로 광고효과\\\\haarcascade\\\\haarcascade_frontalface_default.xml\")"
   ]
  },
  {
   "cell_type": "code",
   "execution_count": null,
   "metadata": {},
   "outputs": [],
   "source": [
    "face_cascade = cv2.CascadeClassifier(\"./haarcascade/haarcascade_frontalface_default.xml\")"
   ]
  },
  {
   "cell_type": "code",
   "execution_count": null,
   "metadata": {},
   "outputs": [],
   "source": [
    "# face_cascade = cv2.CascadeClassifier(\"./haarcascade/haarcascade_frontalface_alt.xml\")"
   ]
  },
  {
   "cell_type": "code",
   "execution_count": null,
   "metadata": {},
   "outputs": [],
   "source": [
    "os.getcwd()"
   ]
  },
  {
   "cell_type": "code",
   "execution_count": null,
   "metadata": {},
   "outputs": [],
   "source": [
    "#os.chdir('C:/Users/choyujung/Desktop/경희대/포스터 이미지로 광고효과/dataset')"
   ]
  },
  {
   "cell_type": "code",
   "execution_count": null,
   "metadata": {},
   "outputs": [],
   "source": [
    "filenames = os.listdir(\"C:/Users/choyujung/Desktop/경희대/포스터 이미지로 광고효과/dataset/0\")"
   ]
  },
  {
   "cell_type": "code",
   "execution_count": null,
   "metadata": {},
   "outputs": [],
   "source": [
    "# img = cv2.imread('./dataset/0/'+filenames[0])"
   ]
  },
  {
   "cell_type": "code",
   "execution_count": null,
   "metadata": {},
   "outputs": [],
   "source": [
    "face_countlist = []"
   ]
  },
  {
   "cell_type": "code",
   "execution_count": null,
   "metadata": {},
   "outputs": [],
   "source": [
    "for file in filenames : \n",
    "    img = cv2.imread('./dataset/0/'+file)\n",
    "    grayImage = cv2.cvtColor(img,cv2.COLOR_BGR2GRAY)\n",
    "    faces = face_cascade.detectMultiScale(grayImage,\n",
    "                                      scaleFactor=1.05,     # 이미지에서 얼굴 크기가 서로 다른 것을 보상해주는 값, 1.1값으로 하면 너무 커서..? 작아서..? 아무 얼굴도 인식 못함\n",
    "                                      minNeighbors= 7,    # 얼굴 사이의 최소 간격(픽셀)입니다\n",
    "                                      minSize = (15,15))\n",
    "    if faces==() :\n",
    "        face_countlist.append(0)\n",
    "    else: \n",
    "        face_countlist.append(faces.shape[0])\n",
    "    "
   ]
  },
  {
   "cell_type": "code",
   "execution_count": null,
   "metadata": {},
   "outputs": [],
   "source": [
    "len(face_countlist)"
   ]
  },
  {
   "cell_type": "code",
   "execution_count": null,
   "metadata": {},
   "outputs": [],
   "source": [
    "face_countlist"
   ]
  },
  {
   "cell_type": "code",
   "execution_count": null,
   "metadata": {},
   "outputs": [],
   "source": [
    "face_df = pd.DataFrame()"
   ]
  },
  {
   "cell_type": "code",
   "execution_count": null,
   "metadata": {},
   "outputs": [],
   "source": [
    "face_df['filename'] = filenames"
   ]
  },
  {
   "cell_type": "code",
   "execution_count": null,
   "metadata": {},
   "outputs": [],
   "source": [
    "face_df['facecount'] = face_countlist"
   ]
  },
  {
   "cell_type": "code",
   "execution_count": null,
   "metadata": {},
   "outputs": [],
   "source": [
    "face_df.to_csv(\"haarcascade_face_0.csv\")"
   ]
  },
  {
   "cell_type": "code",
   "execution_count": null,
   "metadata": {},
   "outputs": [],
   "source": []
  },
  {
   "cell_type": "code",
   "execution_count": null,
   "metadata": {},
   "outputs": [],
   "source": [
    "filenames_1 = os.listdir(\"C:/Users/choyujung/Desktop/경희대/포스터 이미지로 광고효과/dataset/1\")"
   ]
  },
  {
   "cell_type": "code",
   "execution_count": null,
   "metadata": {},
   "outputs": [],
   "source": [
    "face_countlist_1 = []"
   ]
  },
  {
   "cell_type": "code",
   "execution_count": null,
   "metadata": {},
   "outputs": [],
   "source": [
    "for file in filenames_1 : \n",
    "    img = cv2.imread('./dataset/1/'+file)\n",
    "    grayImage = cv2.cvtColor(img,cv2.COLOR_BGR2GRAY)\n",
    "    faces = face_cascade.detectMultiScale(grayImage,\n",
    "                                      scaleFactor=1.05,     # 이미지에서 얼굴 크기가 서로 다른 것을 보상해주는 값, 1.1값으로 하면 너무 커서..? 작아서..? 아무 얼굴도 인식 못함\n",
    "                                      minNeighbors= 7,    # 얼굴 사이의 최소 간격(픽셀)입니다\n",
    "                                      minSize = (15,15))\n",
    "    if faces==() :\n",
    "        face_countlist_1.append(0)\n",
    "    else: \n",
    "        face_countlist_1.append(faces.shape[0])\n",
    "    "
   ]
  },
  {
   "cell_type": "code",
   "execution_count": null,
   "metadata": {},
   "outputs": [],
   "source": [
    "len(face_countlist_1)"
   ]
  },
  {
   "cell_type": "code",
   "execution_count": null,
   "metadata": {},
   "outputs": [],
   "source": [
    "len(filenames_1)"
   ]
  },
  {
   "cell_type": "code",
   "execution_count": null,
   "metadata": {},
   "outputs": [],
   "source": [
    "face_df1=pd.DataFrame()"
   ]
  },
  {
   "cell_type": "code",
   "execution_count": null,
   "metadata": {},
   "outputs": [],
   "source": [
    "face_df1['filename'] = filenames_1"
   ]
  },
  {
   "cell_type": "code",
   "execution_count": null,
   "metadata": {},
   "outputs": [],
   "source": [
    "face_df1['facecount'] = face_countlist_1"
   ]
  },
  {
   "cell_type": "code",
   "execution_count": null,
   "metadata": {},
   "outputs": [],
   "source": [
    "face_df1.to_csv(\"haarcascade_face_1.csv\")"
   ]
  },
  {
   "cell_type": "code",
   "execution_count": null,
   "metadata": {},
   "outputs": [],
   "source": []
  },
  {
   "cell_type": "code",
   "execution_count": null,
   "metadata": {},
   "outputs": [],
   "source": []
  },
  {
   "cell_type": "code",
   "execution_count": null,
   "metadata": {},
   "outputs": [],
   "source": [
    "# print(cv2.__version__)"
   ]
  },
  {
   "cell_type": "code",
   "execution_count": null,
   "metadata": {},
   "outputs": [],
   "source": [
    "# cv2.imshow('image', img)      # 윈도우창(새로운 창 띄워서 이미지 보여줌)\n",
    "# cv2.waitKey()\n",
    "# cv2.destroyAllWindows()"
   ]
  },
  {
   "cell_type": "code",
   "execution_count": null,
   "metadata": {},
   "outputs": [],
   "source": [
    "img = cv2.imread('./dataset/0/'+\"PF154694.jpg\")"
   ]
  },
  {
   "cell_type": "code",
   "execution_count": null,
   "metadata": {},
   "outputs": [],
   "source": [
    "grayImage1 =  cv2.cvtColor(img, cv2.COLOR_BGR2GRAY)"
   ]
  },
  {
   "cell_type": "code",
   "execution_count": null,
   "metadata": {},
   "outputs": [],
   "source": [
    "# #plt.figure(figsize = (12,8))\n",
    "# plt.imshow(grayImage1,cmap = 'gray')"
   ]
  },
  {
   "cell_type": "code",
   "execution_count": null,
   "metadata": {},
   "outputs": [],
   "source": [
    "plt.figure(figsize = (12,8))\n",
    "plt.imshow(grayImage1,cmap = 'gray')\n",
    "plt.xticks([]),plt.yticks([])\n",
    "plt.show()"
   ]
  },
  {
   "cell_type": "code",
   "execution_count": null,
   "metadata": {},
   "outputs": [],
   "source": [
    "faces = face_cascade.detectMultiScale(grayImage1,\n",
    "                                      scaleFactor=1.05,     # 이미지에서 얼굴 크기가 서로 다른 것을 보상해주는 값, 1.1값으로 하면 너무 커서..? 작아서..? 아무 얼굴도 인식 못함\n",
    "                                      minNeighbors= 7,    # 얼굴 사이의 최소 간격(픽셀)입니다\n",
    "                                      minSize = (15,15))"
   ]
  },
  {
   "cell_type": "markdown",
   "metadata": {},
   "source": [
    "첫인자: 이미지데이터가 들어가며 보통 그레이색로 바뀐 이미지가 들어간다. \n",
    "\n",
    "scaleFactor: 각이미지의 스케일이 얼마나 줄어드는지 나타내는 것이다. \n",
    "\n",
    "ex) 1.03이면 원래 크기의 3%작아짐\n",
    "\n",
    "minNeighbors: 각각의 직사각형에 얼마나 많은 이웃들을 유지 해야하는 가를 나타낸다. 값이 크면 얼굴을 덜 찾는 대신 퀄리티가 높아집니다.\n",
    "\n",
    "첫인자: 이미지데이터가 들어가며 보통 그레이색로 바뀐 이미지가 들어간다. "
   ]
  },
  {
   "cell_type": "code",
   "execution_count": null,
   "metadata": {},
   "outputs": [],
   "source": [
    "faces"
   ]
  },
  {
   "cell_type": "code",
   "execution_count": null,
   "metadata": {},
   "outputs": [],
   "source": [
    "# if faces==():\n",
    "#     print('없음')\n",
    "# else:\n",
    "#     print('있음')"
   ]
  },
  {
   "cell_type": "code",
   "execution_count": null,
   "metadata": {},
   "outputs": [],
   "source": [
    "print(faces.shape)\n",
    "print(\"Number of faces detected:\" + str(faces.shape[0]))"
   ]
  },
  {
   "cell_type": "code",
   "execution_count": null,
   "metadata": {},
   "outputs": [],
   "source": [
    "for (x,y,w,h) in faces:\n",
    "    cv2.rectangle(img,(x,y),(x+w,y+h),(255,0,0),2)"
   ]
  },
  {
   "cell_type": "code",
   "execution_count": null,
   "metadata": {},
   "outputs": [],
   "source": [
    "# cv2.rectangle(img, ((0,img.shape[0] -25)), \n",
    "#               (270, img.shape[0]), (255,255,255), -1);\n",
    "# cv2.putText(img, \"PinkWink test\", (0,img.shape[0] -10), \n",
    "#             cv2.FONT_HERSHEY_TRIPLEX, 0.5,  (0,0,0), 1);"
   ]
  },
  {
   "cell_type": "code",
   "execution_count": null,
   "metadata": {},
   "outputs": [],
   "source": [
    "plt.figure(figsize=(12,8))\n",
    "plt.imshow(img, cmap='gray')\n",
    "plt.xticks([]), plt.yticks([])  # to hide tick values on X and Y axis\n",
    "plt.show()"
   ]
  },
  {
   "cell_type": "code",
   "execution_count": null,
   "metadata": {},
   "outputs": [],
   "source": []
  },
  {
   "cell_type": "markdown",
   "metadata": {},
   "source": [
    "https://sulastri.tistory.com/3"
   ]
  },
  {
   "cell_type": "code",
   "execution_count": null,
   "metadata": {},
   "outputs": [],
   "source": [
    "import dlib\n",
    "import cv2"
   ]
  },
  {
   "cell_type": "code",
   "execution_count": null,
   "metadata": {},
   "outputs": [],
   "source": [
    "import cv2 \n",
    "import numpy as np\n",
    "import pandas as pd\n",
    "from matplotlib import pyplot as plt\n",
    "import os\n",
    "%matplotlib inline"
   ]
  },
  {
   "cell_type": "code",
   "execution_count": null,
   "metadata": {},
   "outputs": [],
   "source": [
    "import os"
   ]
  },
  {
   "cell_type": "code",
   "execution_count": null,
   "metadata": {},
   "outputs": [],
   "source": [
    "os.getcwd()"
   ]
  },
  {
   "cell_type": "code",
   "execution_count": null,
   "metadata": {},
   "outputs": [],
   "source": [
    "dlib.__version__"
   ]
  },
  {
   "cell_type": "code",
   "execution_count": null,
   "metadata": {},
   "outputs": [],
   "source": [
    "img = cv2.imread('./dataset/0/'+\"PF154890.jpg\")"
   ]
  },
  {
   "cell_type": "code",
   "execution_count": null,
   "metadata": {},
   "outputs": [],
   "source": [
    "img =  cv2.cvtColor(img, cv2.COLOR_BGR2RGB)"
   ]
  },
  {
   "cell_type": "code",
   "execution_count": null,
   "metadata": {},
   "outputs": [],
   "source": [
    "plt.imshow(img)"
   ]
  },
  {
   "cell_type": "markdown",
   "metadata": {},
   "source": [
    "http://blog.naver.com/PostView.nhn?blogId=dic1224&logNo=221073987368&parentCategoryNo=&categoryNo=248&viewDate=&isShowPopularPosts=false&from=postView"
   ]
  },
  {
   "cell_type": "code",
   "execution_count": null,
   "metadata": {},
   "outputs": [],
   "source": [
    "detector = dlib.get_frontal_face_detector()"
   ]
  },
  {
   "cell_type": "code",
   "execution_count": null,
   "metadata": {},
   "outputs": [],
   "source": [
    "#detector_cnn = dlib.cnn_face_detection_model_v1()"
   ]
  },
  {
   "cell_type": "code",
   "execution_count": null,
   "metadata": {},
   "outputs": [],
   "source": [
    "faces = detector(img)"
   ]
  },
  {
   "cell_type": "code",
   "execution_count": null,
   "metadata": {},
   "outputs": [],
   "source": [
    "faces"
   ]
  },
  {
   "cell_type": "code",
   "execution_count": null,
   "metadata": {},
   "outputs": [],
   "source": [
    "img = cv2.imread('./dataset/0/'+\"PF154694.jpg\")"
   ]
  },
  {
   "cell_type": "code",
   "execution_count": null,
   "metadata": {},
   "outputs": [],
   "source": [
    "img =  cv2.cvtColor(img, cv2.COLOR_BGR2RGB)"
   ]
  },
  {
   "cell_type": "code",
   "execution_count": null,
   "metadata": {},
   "outputs": [],
   "source": [
    "plt.imshow(img)"
   ]
  },
  {
   "cell_type": "code",
   "execution_count": null,
   "metadata": {},
   "outputs": [],
   "source": [
    "faces_2 = detector(img)"
   ]
  },
  {
   "cell_type": "code",
   "execution_count": null,
   "metadata": {},
   "outputs": [],
   "source": [
    "faces_2"
   ]
  },
  {
   "cell_type": "code",
   "execution_count": null,
   "metadata": {},
   "outputs": [],
   "source": []
  },
  {
   "cell_type": "code",
   "execution_count": null,
   "metadata": {},
   "outputs": [],
   "source": []
  },
  {
   "cell_type": "code",
   "execution_count": null,
   "metadata": {},
   "outputs": [],
   "source": []
  },
  {
   "cell_type": "code",
   "execution_count": null,
   "metadata": {},
   "outputs": [],
   "source": [
    "import argparse"
   ]
  },
  {
   "cell_type": "code",
   "execution_count": null,
   "metadata": {},
   "outputs": [],
   "source": [
    "# handle command line arguments\n",
    "ap = argparse.ArgumentParser()"
   ]
  },
  {
   "cell_type": "code",
   "execution_count": null,
   "metadata": {},
   "outputs": [],
   "source": [
    "ap.add_argument('-i', '--image', required=True, help='path to image file')"
   ]
  },
  {
   "cell_type": "code",
   "execution_count": null,
   "metadata": {},
   "outputs": [],
   "source": [
    "ap.add_argument('-w', '--weights', default='./mmod_human_face_detector.dat',\n",
    "                help='path to weights file')"
   ]
  },
  {
   "cell_type": "code",
   "execution_count": null,
   "metadata": {},
   "outputs": [],
   "source": [
    "python cnn-face-detector-dlib.py -i input.jpg"
   ]
  },
  {
   "cell_type": "code",
   "execution_count": null,
   "metadata": {},
   "outputs": [],
   "source": [
    "args = ap.parse_args()"
   ]
  },
  {
   "cell_type": "code",
   "execution_count": null,
   "metadata": {},
   "outputs": [],
   "source": [
    "cnn_face_detector = dlib.cnn_face_detection_model_v1('mmod_human_face_detector.dat')"
   ]
  },
  {
   "cell_type": "code",
   "execution_count": null,
   "metadata": {},
   "outputs": [],
   "source": [
    "faces_cnn = cnn_face_detector(img, 1)"
   ]
  },
  {
   "cell_type": "code",
   "execution_count": null,
   "metadata": {},
   "outputs": [],
   "source": [
    "import cv2\n",
    "import dlib\n",
    "import argparse\n",
    "import time"
   ]
  },
  {
   "cell_type": "code",
   "execution_count": null,
   "metadata": {},
   "outputs": [],
   "source": [
    "# handle command line arguments\n",
    "ap = argparse.ArgumentParser()"
   ]
  },
  {
   "cell_type": "code",
   "execution_count": null,
   "metadata": {},
   "outputs": [],
   "source": [
    "# ap.add_argument('-i', '--image', required=True, help='path to image file')"
   ]
  },
  {
   "cell_type": "code",
   "execution_count": null,
   "metadata": {},
   "outputs": [],
   "source": [
    "# #ap.add_argument(\"-i\", \"--image\", required = True, help = \"Path to the image.\")\n",
    "# ap.add_argument('-w', '--weights', default='./mmod_human_face_detector.dat',\n",
    "#                 help='path to weights file')"
   ]
  },
  {
   "cell_type": "code",
   "execution_count": null,
   "metadata": {},
   "outputs": [],
   "source": [
    "# args = ap.parse_args()"
   ]
  },
  {
   "cell_type": "code",
   "execution_count": null,
   "metadata": {},
   "outputs": [],
   "source": [
    "ap.add_argument(\"-i\", \"--image\", required = True, help = \"Path to the image.\")"
   ]
  },
  {
   "cell_type": "code",
   "execution_count": null,
   "metadata": {},
   "outputs": [],
   "source": [
    "import sys"
   ]
  },
  {
   "cell_type": "code",
   "execution_count": null,
   "metadata": {},
   "outputs": [],
   "source": [
    "# cnn_face_detector = dlib.cnn_face_detection_model_v1(sys.argv[1])"
   ]
  },
  {
   "cell_type": "code",
   "execution_count": null,
   "metadata": {},
   "outputs": [],
   "source": [
    "# if len(sys.argv) < 3:\n",
    "#     print(\n",
    "#         \"Call this program like this:\\n\"\n",
    "#         \"   ./cnn_face_detector.py mmod_human_face_detector.dat ../examples/faces/*.jpg\\n\"\n",
    "#         \"You can get the mmod_human_face_detector.dat file from:\\n\"\n",
    "#         \"    http://dlib.net/files/mmod_human_face_detector.dat.bz2\")\n",
    "#     exit()\n",
    "\n",
    "# cnn_face_detector = dlib.cnn_face_detection_model_v1(sys.argv[1])\n",
    "# win = dlib.image_window()"
   ]
  },
  {
   "cell_type": "code",
   "execution_count": null,
   "metadata": {},
   "outputs": [],
   "source": [
    "import numpy"
   ]
  },
  {
   "cell_type": "code",
   "execution_count": null,
   "metadata": {},
   "outputs": [],
   "source": [
    "# from mtcnn import MTCNN"
   ]
  },
  {
   "cell_type": "code",
   "execution_count": null,
   "metadata": {},
   "outputs": [],
   "source": [
    "# import tensorflow"
   ]
  },
  {
   "cell_type": "code",
   "execution_count": null,
   "metadata": {},
   "outputs": [],
   "source": [
    "# import dlib"
   ]
  },
  {
   "cell_type": "code",
   "execution_count": null,
   "metadata": {},
   "outputs": [],
   "source": [
    "# import tensorflow as tf"
   ]
  },
  {
   "cell_type": "code",
   "execution_count": null,
   "metadata": {},
   "outputs": [],
   "source": [
    "# from mtcnn.mtcnn import MTCNN"
   ]
  },
  {
   "cell_type": "markdown",
   "metadata": {},
   "source": [
    "https://jeremywood.ai/mtcnn-performing-face-detection-with-deep-learning/"
   ]
  }
 ],
 "metadata": {
  "hide_input": false,
  "kernelspec": {
   "display_name": "poster_env",
   "language": "python",
   "name": "poster_env"
  },
  "language_info": {
   "codemirror_mode": {
    "name": "ipython",
    "version": 3
   },
   "file_extension": ".py",
   "mimetype": "text/x-python",
   "name": "python",
   "nbconvert_exporter": "python",
   "pygments_lexer": "ipython3",
   "version": "3.7.7"
  },
  "toc": {
   "base_numbering": 1,
   "nav_menu": {},
   "number_sections": true,
   "sideBar": true,
   "skip_h1_title": false,
   "title_cell": "Table of Contents",
   "title_sidebar": "Contents",
   "toc_cell": false,
   "toc_position": {},
   "toc_section_display": true,
   "toc_window_display": false
  },
  "varInspector": {
   "cols": {
    "lenName": 16,
    "lenType": 16,
    "lenVar": 40
   },
   "kernels_config": {
    "python": {
     "delete_cmd_postfix": "",
     "delete_cmd_prefix": "del ",
     "library": "var_list.py",
     "varRefreshCmd": "print(var_dic_list())"
    },
    "r": {
     "delete_cmd_postfix": ") ",
     "delete_cmd_prefix": "rm(",
     "library": "var_list.r",
     "varRefreshCmd": "cat(var_dic_list()) "
    }
   },
   "types_to_exclude": [
    "module",
    "function",
    "builtin_function_or_method",
    "instance",
    "_Feature"
   ],
   "window_display": false
  }
 },
 "nbformat": 4,
 "nbformat_minor": 2
}
