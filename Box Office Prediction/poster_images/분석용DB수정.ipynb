{
 "cells": [
  {
   "cell_type": "code",
   "execution_count": 2,
   "metadata": {},
   "outputs": [],
   "source": [
    "import numpy as np\n",
    "import pandas as pd\n",
    "import os"
   ]
  },
  {
   "cell_type": "code",
   "execution_count": 3,
   "metadata": {},
   "outputs": [
    {
     "data": {
      "text/plain": [
       "'C:\\\\Users\\\\choyujung\\\\Desktop\\\\경희대\\\\포스터 이미지로 광고효과'"
      ]
     },
     "execution_count": 3,
     "metadata": {},
     "output_type": "execute_result"
    }
   ],
   "source": [
    "os.getcwd()"
   ]
  },
  {
   "cell_type": "code",
   "execution_count": null,
   "metadata": {},
   "outputs": [],
   "source": [
    "#os.chdir('C:/Users/choyujung/Desktop/경희대/TA/권오병교수님/')"
   ]
  },
  {
   "cell_type": "code",
   "execution_count": 8,
   "metadata": {},
   "outputs": [],
   "source": [
    "df = pd.read_excel(\"./권오병교수님/분석자료0522_복사본.xlsx\",sheet_name = \"통계분석용\")"
   ]
  },
  {
   "cell_type": "code",
   "execution_count": 9,
   "metadata": {},
   "outputs": [
    {
     "data": {
      "text/html": [
       "<div>\n",
       "<style scoped>\n",
       "    .dataframe tbody tr th:only-of-type {\n",
       "        vertical-align: middle;\n",
       "    }\n",
       "\n",
       "    .dataframe tbody tr th {\n",
       "        vertical-align: top;\n",
       "    }\n",
       "\n",
       "    .dataframe thead th {\n",
       "        text-align: right;\n",
       "    }\n",
       "</style>\n",
       "<table border=\"1\" class=\"dataframe\">\n",
       "  <thead>\n",
       "    <tr style=\"text-align: right;\">\n",
       "      <th></th>\n",
       "      <th>연극정보.mt20id</th>\n",
       "      <th>대표연극인유명도</th>\n",
       "      <th>공연시간</th>\n",
       "      <th>관객나이</th>\n",
       "      <th>가격</th>\n",
       "      <th>OPENRUN</th>\n",
       "      <th>요일수</th>\n",
       "      <th>공연장수</th>\n",
       "      <th>공연장유형</th>\n",
       "      <th>공연장유형1</th>\n",
       "      <th>공연장연혁</th>\n",
       "      <th>seatscale</th>\n",
       "      <th>수도권여부</th>\n",
       "      <th>수도권여부1</th>\n",
       "      <th>유명도binary</th>\n",
       "      <th>prfdtcnt</th>\n",
       "      <th>예상관객수</th>\n",
       "    </tr>\n",
       "  </thead>\n",
       "  <tbody>\n",
       "    <tr>\n",
       "      <th>0</th>\n",
       "      <td>PF162980</td>\n",
       "      <td>2</td>\n",
       "      <td>100.0</td>\n",
       "      <td>10.0</td>\n",
       "      <td>30000</td>\n",
       "      <td>0</td>\n",
       "      <td>4</td>\n",
       "      <td>1</td>\n",
       "      <td>공공</td>\n",
       "      <td>공공</td>\n",
       "      <td>13.0</td>\n",
       "      <td>200</td>\n",
       "      <td>1</td>\n",
       "      <td>수도권</td>\n",
       "      <td>1</td>\n",
       "      <td>4</td>\n",
       "      <td>800</td>\n",
       "    </tr>\n",
       "    <tr>\n",
       "      <th>1</th>\n",
       "      <td>PF162923</td>\n",
       "      <td>2</td>\n",
       "      <td>100.0</td>\n",
       "      <td>10.0</td>\n",
       "      <td>30000</td>\n",
       "      <td>0</td>\n",
       "      <td>4</td>\n",
       "      <td>1</td>\n",
       "      <td>공공</td>\n",
       "      <td>공공</td>\n",
       "      <td>13.0</td>\n",
       "      <td>200</td>\n",
       "      <td>1</td>\n",
       "      <td>수도권</td>\n",
       "      <td>1</td>\n",
       "      <td>1</td>\n",
       "      <td>200</td>\n",
       "    </tr>\n",
       "    <tr>\n",
       "      <th>2</th>\n",
       "      <td>PF162980</td>\n",
       "      <td>2</td>\n",
       "      <td>90.0</td>\n",
       "      <td>15.0</td>\n",
       "      <td>12000</td>\n",
       "      <td>0</td>\n",
       "      <td>4</td>\n",
       "      <td>1</td>\n",
       "      <td>민간</td>\n",
       "      <td>민간</td>\n",
       "      <td>3.0</td>\n",
       "      <td>65</td>\n",
       "      <td>2</td>\n",
       "      <td>수도권</td>\n",
       "      <td>1</td>\n",
       "      <td>4</td>\n",
       "      <td>260</td>\n",
       "    </tr>\n",
       "    <tr>\n",
       "      <th>3</th>\n",
       "      <td>PF162849</td>\n",
       "      <td>1</td>\n",
       "      <td>100.0</td>\n",
       "      <td>13.0</td>\n",
       "      <td>30000</td>\n",
       "      <td>0</td>\n",
       "      <td>4</td>\n",
       "      <td>1</td>\n",
       "      <td>민간</td>\n",
       "      <td>민간</td>\n",
       "      <td>7.0</td>\n",
       "      <td>280</td>\n",
       "      <td>0</td>\n",
       "      <td>전국</td>\n",
       "      <td>1</td>\n",
       "      <td>4</td>\n",
       "      <td>1120</td>\n",
       "    </tr>\n",
       "    <tr>\n",
       "      <th>4</th>\n",
       "      <td>PF162833</td>\n",
       "      <td>2</td>\n",
       "      <td>90.0</td>\n",
       "      <td>8.0</td>\n",
       "      <td>11900</td>\n",
       "      <td>0</td>\n",
       "      <td>1</td>\n",
       "      <td>2</td>\n",
       "      <td>공공</td>\n",
       "      <td>공공</td>\n",
       "      <td>16.0</td>\n",
       "      <td>768</td>\n",
       "      <td>2</td>\n",
       "      <td>수도권</td>\n",
       "      <td>1</td>\n",
       "      <td>1</td>\n",
       "      <td>768</td>\n",
       "    </tr>\n",
       "    <tr>\n",
       "      <th>5</th>\n",
       "      <td>PF162610</td>\n",
       "      <td>2</td>\n",
       "      <td>NaN</td>\n",
       "      <td>NaN</td>\n",
       "      <td>0</td>\n",
       "      <td>0</td>\n",
       "      <td>1</td>\n",
       "      <td>4</td>\n",
       "      <td>국립</td>\n",
       "      <td>공공</td>\n",
       "      <td>48.0</td>\n",
       "      <td>2802</td>\n",
       "      <td>2</td>\n",
       "      <td>수도권</td>\n",
       "      <td>1</td>\n",
       "      <td>1</td>\n",
       "      <td>2802</td>\n",
       "    </tr>\n",
       "  </tbody>\n",
       "</table>\n",
       "</div>"
      ],
      "text/plain": [
       "  연극정보.mt20id  대표연극인유명도   공연시간  관객나이     가격  OPENRUN  요일수  공연장수 공연장유형 공연장유형1  \\\n",
       "0    PF162980         2  100.0  10.0  30000        0    4     1    공공     공공   \n",
       "1    PF162923         2  100.0  10.0  30000        0    4     1    공공     공공   \n",
       "2    PF162980         2   90.0  15.0  12000        0    4     1    민간     민간   \n",
       "3    PF162849         1  100.0  13.0  30000        0    4     1    민간     민간   \n",
       "4    PF162833         2   90.0   8.0  11900        0    1     2    공공     공공   \n",
       "5    PF162610         2    NaN   NaN      0        0    1     4    국립     공공   \n",
       "\n",
       "   공연장연혁  seatscale  수도권여부 수도권여부1  유명도binary  prfdtcnt  예상관객수  \n",
       "0   13.0        200      1    수도권          1         4    800  \n",
       "1   13.0        200      1    수도권          1         1    200  \n",
       "2    3.0         65      2    수도권          1         4    260  \n",
       "3    7.0        280      0     전국          1         4   1120  \n",
       "4   16.0        768      2    수도권          1         1    768  \n",
       "5   48.0       2802      2    수도권          1         1   2802  "
      ]
     },
     "execution_count": 9,
     "metadata": {},
     "output_type": "execute_result"
    }
   ],
   "source": [
    "df.head(6)\n",
    "#df.dtypes"
   ]
  },
  {
   "cell_type": "code",
   "execution_count": 10,
   "metadata": {},
   "outputs": [
    {
     "data": {
      "text/plain": [
       "Index(['연극정보.mt20id', '대표연극인유명도', '공연시간', '관객나이', '가격', 'OPENRUN', '요일수',\n",
       "       '공연장수', '공연장유형', '공연장유형1', '공연장연혁', 'seatscale', '수도권여부', '수도권여부1',\n",
       "       '유명도binary', 'prfdtcnt', '예상관객수'],\n",
       "      dtype='object')"
      ]
     },
     "execution_count": 10,
     "metadata": {},
     "output_type": "execute_result"
    }
   ],
   "source": [
    "df.columns"
   ]
  },
  {
   "cell_type": "code",
   "execution_count": 11,
   "metadata": {},
   "outputs": [
    {
     "name": "stdout",
     "output_type": "stream",
     "text": [
      "<class 'pandas.core.frame.DataFrame'>\n",
      "RangeIndex: 400 entries, 0 to 399\n",
      "Data columns (total 17 columns):\n",
      "연극정보.mt20id    400 non-null object\n",
      "대표연극인유명도       400 non-null int64\n",
      "공연시간           380 non-null float64\n",
      "관객나이           399 non-null float64\n",
      "가격             400 non-null int64\n",
      "OPENRUN        400 non-null int64\n",
      "요일수            400 non-null int64\n",
      "공연장수           400 non-null int64\n",
      "공연장유형          400 non-null object\n",
      "공연장유형1         400 non-null object\n",
      "공연장연혁          395 non-null float64\n",
      "seatscale      400 non-null int64\n",
      "수도권여부          400 non-null int64\n",
      "수도권여부1         400 non-null object\n",
      "유명도binary      400 non-null int64\n",
      "prfdtcnt       400 non-null int64\n",
      "예상관객수          400 non-null int64\n",
      "dtypes: float64(3), int64(10), object(4)\n",
      "memory usage: 53.2+ KB\n"
     ]
    }
   ],
   "source": [
    "df.info()"
   ]
  },
  {
   "cell_type": "code",
   "execution_count": null,
   "metadata": {},
   "outputs": [],
   "source": [
    "#df['관객나이'].value_counts()"
   ]
  },
  {
   "cell_type": "code",
   "execution_count": null,
   "metadata": {},
   "outputs": [],
   "source": [
    "# df['관객나이']=df['관객나이'].fillna(0)"
   ]
  },
  {
   "cell_type": "code",
   "execution_count": null,
   "metadata": {},
   "outputs": [],
   "source": [
    "#df['관객나이']"
   ]
  },
  {
   "cell_type": "code",
   "execution_count": null,
   "metadata": {},
   "outputs": [],
   "source": [
    "# df['관객나이']=pd.to_numeric(df['관객나이'])"
   ]
  },
  {
   "cell_type": "markdown",
   "metadata": {},
   "source": [
    "### 0 폴더"
   ]
  },
  {
   "cell_type": "code",
   "execution_count": null,
   "metadata": {},
   "outputs": [],
   "source": [
    "no_image = df['연극정보.mt20id'].isin(['PF155351','PF162980'])"
   ]
  },
  {
   "cell_type": "code",
   "execution_count": null,
   "metadata": {},
   "outputs": [],
   "source": [
    "df=df[~no_image]"
   ]
  },
  {
   "cell_type": "code",
   "execution_count": null,
   "metadata": {},
   "outputs": [],
   "source": [
    "df.info()"
   ]
  },
  {
   "cell_type": "code",
   "execution_count": null,
   "metadata": {},
   "outputs": [],
   "source": [
    "df_0 = df[(df['관객나이']>=1) & (df['관객나이']<=7)]"
   ]
  },
  {
   "cell_type": "code",
   "execution_count": null,
   "metadata": {},
   "outputs": [],
   "source": [
    "df_1 = df[(df['관객나이']>=13)]"
   ]
  },
  {
   "cell_type": "code",
   "execution_count": null,
   "metadata": {},
   "outputs": [],
   "source": [
    "df_2 = df[(df['예상관객수']<500)]"
   ]
  },
  {
   "cell_type": "code",
   "execution_count": null,
   "metadata": {},
   "outputs": [],
   "source": [
    "df_3 = df[(df['예상관객수']>=500)]"
   ]
  },
  {
   "cell_type": "code",
   "execution_count": null,
   "metadata": {},
   "outputs": [],
   "source": [
    "df_3.info()"
   ]
  },
  {
   "cell_type": "code",
   "execution_count": null,
   "metadata": {},
   "outputs": [],
   "source": [
    "#df_0.to_csv(\"0번폴더.csv\",index= False)"
   ]
  },
  {
   "cell_type": "code",
   "execution_count": null,
   "metadata": {},
   "outputs": [],
   "source": [
    "#df.to_csv(\"이상값제거.csv\",index=False)"
   ]
  },
  {
   "cell_type": "code",
   "execution_count": null,
   "metadata": {},
   "outputs": [],
   "source": [
    "df_0_index=df_0['연극정보.mt20id'].tolist()"
   ]
  },
  {
   "cell_type": "code",
   "execution_count": null,
   "metadata": {},
   "outputs": [],
   "source": [
    "df_1_index=df_1['연극정보.mt20id'].tolist()"
   ]
  },
  {
   "cell_type": "code",
   "execution_count": null,
   "metadata": {},
   "outputs": [],
   "source": [
    "df_2_index=df_2['연극정보.mt20id'].tolist()"
   ]
  },
  {
   "cell_type": "code",
   "execution_count": null,
   "metadata": {},
   "outputs": [],
   "source": [
    "df_3_index=df_3['연극정보.mt20id'].tolist()"
   ]
  },
  {
   "cell_type": "code",
   "execution_count": null,
   "metadata": {},
   "outputs": [],
   "source": [
    "type(df_2_index)"
   ]
  },
  {
   "cell_type": "code",
   "execution_count": null,
   "metadata": {},
   "outputs": [],
   "source": [
    "type(df_0_index)"
   ]
  },
  {
   "cell_type": "code",
   "execution_count": null,
   "metadata": {},
   "outputs": [],
   "source": [
    "'PF155351' in df_1_index "
   ]
  },
  {
   "cell_type": "code",
   "execution_count": null,
   "metadata": {},
   "outputs": [],
   "source": [
    "len(df_3_index)"
   ]
  },
  {
   "cell_type": "code",
   "execution_count": null,
   "metadata": {},
   "outputs": [],
   "source": [
    "df_0['연극정보.mt20id']"
   ]
  },
  {
   "cell_type": "code",
   "execution_count": null,
   "metadata": {},
   "outputs": [],
   "source": [
    "df_0_index[0]"
   ]
  },
  {
   "cell_type": "code",
   "execution_count": null,
   "metadata": {},
   "outputs": [],
   "source": [
    "from PIL import Image"
   ]
  },
  {
   "cell_type": "code",
   "execution_count": null,
   "metadata": {},
   "outputs": [],
   "source": [
    "import os"
   ]
  },
  {
   "cell_type": "code",
   "execution_count": null,
   "metadata": {},
   "outputs": [],
   "source": [
    "os.getcwd()"
   ]
  },
  {
   "cell_type": "code",
   "execution_count": null,
   "metadata": {},
   "outputs": [],
   "source": [
    "os.chdir('C:/Users/choyujung/Desktop/경희대/TA/권오병교수님/images')"
   ]
  },
  {
   "cell_type": "code",
   "execution_count": null,
   "metadata": {},
   "outputs": [],
   "source": [
    "os.path.basename('C:/Users/choyujung/Desktop/경희대/TA/권오병교수님/images/images/')"
   ]
  },
  {
   "cell_type": "code",
   "execution_count": null,
   "metadata": {},
   "outputs": [],
   "source": [
    "from os import listdir\n",
    "from os.path import isfile, join"
   ]
  },
  {
   "cell_type": "code",
   "execution_count": null,
   "metadata": {},
   "outputs": [],
   "source": [
    "files = [f for f in listdir('C:/Users/choyujung/Desktop/경희대/TA/권오병교수님/images/images/images_jpg') if isfile(join('C:/Users/choyujung/Desktop/경희대/TA/권오병교수님/images/images/images_jpg', f))]"
   ]
  },
  {
   "cell_type": "code",
   "execution_count": null,
   "metadata": {},
   "outputs": [],
   "source": [
    "files = [f for f in listdir('C:/Users/choyujung/Desktop/경희대/TA/권오병교수님/images/images/images_jpg') if isfile(join('C:/Users/choyujung/Desktop/경희대/TA/권오병교수님/images/images/images_jpg', f))]"
   ]
  },
  {
   "cell_type": "code",
   "execution_count": null,
   "metadata": {},
   "outputs": [],
   "source": [
    "files = [f for f in listdir('C:/Users/choyujung/Desktop/경희대/TA/권오병교수님/images/images') if isfile(join('C:/Users/choyujung/Desktop/경희대/TA/권오병교수님/images/images', f))]"
   ]
  },
  {
   "cell_type": "code",
   "execution_count": null,
   "metadata": {},
   "outputs": [],
   "source": [
    "type(files)"
   ]
  },
  {
   "cell_type": "code",
   "execution_count": null,
   "metadata": {},
   "outputs": [],
   "source": [
    "files"
   ]
  },
  {
   "cell_type": "code",
   "execution_count": null,
   "metadata": {},
   "outputs": [],
   "source": [
    "x=[]"
   ]
  },
  {
   "cell_type": "code",
   "execution_count": null,
   "metadata": {},
   "outputs": [],
   "source": [
    "for i in range(len(files)):\n",
    "    x.append(files[i].split('.')[0])\n",
    "   \n",
    "    # x.append()\n"
   ]
  },
  {
   "cell_type": "code",
   "execution_count": null,
   "metadata": {},
   "outputs": [],
   "source": [
    "x"
   ]
  },
  {
   "cell_type": "code",
   "execution_count": null,
   "metadata": {},
   "outputs": [],
   "source": [
    "n = df['연극정보.mt20id'].tolist()"
   ]
  },
  {
   "cell_type": "code",
   "execution_count": null,
   "metadata": {},
   "outputs": [],
   "source": [
    "len(n)"
   ]
  },
  {
   "cell_type": "code",
   "execution_count": null,
   "metadata": {},
   "outputs": [],
   "source": [
    "len(x)"
   ]
  },
  {
   "cell_type": "code",
   "execution_count": null,
   "metadata": {},
   "outputs": [],
   "source": [
    "len(n)-len(x)"
   ]
  },
  {
   "cell_type": "code",
   "execution_count": null,
   "metadata": {},
   "outputs": [],
   "source": [
    "range(len(x))"
   ]
  },
  {
   "cell_type": "code",
   "execution_count": null,
   "metadata": {},
   "outputs": [],
   "source": [
    "y=[]"
   ]
  },
  {
   "cell_type": "code",
   "execution_count": null,
   "metadata": {},
   "outputs": [],
   "source": [
    "for p in range(len(n)):\n",
    "    if n[p] not in x:\n",
    "        print(n[p])"
   ]
  },
  {
   "cell_type": "code",
   "execution_count": null,
   "metadata": {},
   "outputs": [],
   "source": [
    "df.duplicated(['연극정보.mt20id']).count()"
   ]
  },
  {
   "cell_type": "code",
   "execution_count": null,
   "metadata": {},
   "outputs": [],
   "source": [
    "if x[1] not in n:\n",
    "    print(x[1])"
   ]
  },
  {
   "cell_type": "code",
   "execution_count": null,
   "metadata": {},
   "outputs": [],
   "source": [
    "import shutil"
   ]
  },
  {
   "cell_type": "code",
   "execution_count": null,
   "metadata": {},
   "outputs": [],
   "source": [
    "os.getcwd()"
   ]
  },
  {
   "cell_type": "code",
   "execution_count": null,
   "metadata": {},
   "outputs": [],
   "source": [
    "#shutil.move('C:/Users/choyujung/Desktop/경희대/TA/권오병교수님/images/images_jpg/[포맷변환]'+df_0_index[0]+'.jpg', \"C:/Users/choyujung/Desktop/경희대/TA/권오병교수님/0/data1.jpg\")"
   ]
  },
  {
   "cell_type": "code",
   "execution_count": null,
   "metadata": {},
   "outputs": [],
   "source": [
    "shutil.copy('C:/Users/choyujung/Desktop/경희대/TA/권오병교수님/images/images_jpg/[포맷변환]'+df_0_index[0]+'.jpg', \"C:/Users/choyujung/Desktop/경희대/TA/권오병교수님/0/\"+df_0_index[0]+\".jpg\")"
   ]
  },
  {
   "cell_type": "code",
   "execution_count": null,
   "metadata": {},
   "outputs": [],
   "source": [
    "for i in range(len(df_0_index)):\n",
    "    shutil.copy('C:/Users/choyujung/Desktop/경희대/TA/권오병교수님/images/images_jpg/[포맷변환]'+df_0_index[i]+'.jpg', \"C:/Users/choyujung/Desktop/경희대/TA/권오병교수님/0/\"+df_0_index[i]+\".jpg\")"
   ]
  },
  {
   "cell_type": "code",
   "execution_count": null,
   "metadata": {},
   "outputs": [],
   "source": [
    "for j in range(len(df_1_index)):\n",
    "    shutil.copy('C:/Users/choyujung/Desktop/경희대/TA/권오병교수님/images/images_jpg/[포맷변환]'+df_1_index[j]+'.jpg', \"C:/Users/choyujung/Desktop/경희대/TA/권오병교수님/1/\"+df_1_index[j]+\".jpg\")"
   ]
  },
  {
   "cell_type": "code",
   "execution_count": null,
   "metadata": {},
   "outputs": [],
   "source": [
    "for k in range(len(df_2_index)):\n",
    "    shutil.copy('C:/Users/choyujung/Desktop/경희대/TA/권오병교수님/images/images_jpg/[포맷변환]'+df_2_index[k]+'.jpg', \"C:/Users/choyujung/Desktop/경희대/TA/권오병교수님/2/\"+df_2_index[k]+\".jpg\")"
   ]
  },
  {
   "cell_type": "code",
   "execution_count": null,
   "metadata": {},
   "outputs": [],
   "source": [
    "for t in range(len(df_3_index)):\n",
    "    shutil.copy('C:/Users/choyujung/Desktop/경희대/TA/권오병교수님/images/images_jpg/[포맷변환]'+df_3_index[t]+'.jpg', \"C:/Users/choyujung/Desktop/경희대/TA/권오병교수님/3/\"+df_3_index[t]+\".jpg\")"
   ]
  },
  {
   "cell_type": "code",
   "execution_count": null,
   "metadata": {},
   "outputs": [],
   "source": []
  },
  {
   "cell_type": "code",
   "execution_count": null,
   "metadata": {},
   "outputs": [],
   "source": [
    "import glob"
   ]
  },
  {
   "cell_type": "code",
   "execution_count": null,
   "metadata": {},
   "outputs": [],
   "source": [
    "a= glob.glob('C:/Users/choyujung/Desktop/경희대/TA/권오병교수님/images/images/PF154694/*')"
   ]
  },
  {
   "cell_type": "code",
   "execution_count": null,
   "metadata": {},
   "outputs": [],
   "source": [
    "a"
   ]
  },
  {
   "cell_type": "code",
   "execution_count": null,
   "metadata": {},
   "outputs": [],
   "source": [
    "im = Image.open('C:/Users/choyujung/Desktop/경희대/TA/권오병교수님/images/images_jpg/[포맷변환]'+df_0_index[0]+'.jpg') # 이미지 불러오기"
   ]
  },
  {
   "cell_type": "code",
   "execution_count": null,
   "metadata": {},
   "outputs": [],
   "source": [
    "im"
   ]
  },
  {
   "cell_type": "code",
   "execution_count": null,
   "metadata": {},
   "outputs": [],
   "source": [
    "im.save('rename.jpeg') # 이미지 다른 이름으로 저장 "
   ]
  },
  {
   "cell_type": "markdown",
   "metadata": {},
   "source": [
    "## new_database merge"
   ]
  },
  {
   "cell_type": "code",
   "execution_count": 108,
   "metadata": {},
   "outputs": [],
   "source": [
    "df = pd.read_excel(\"./권오병교수님/분석자료0522_복사본.xlsx\",sheet_name = \"통계분석용\")"
   ]
  },
  {
   "cell_type": "code",
   "execution_count": 109,
   "metadata": {},
   "outputs": [
    {
     "data": {
      "text/html": [
       "<div>\n",
       "<style scoped>\n",
       "    .dataframe tbody tr th:only-of-type {\n",
       "        vertical-align: middle;\n",
       "    }\n",
       "\n",
       "    .dataframe tbody tr th {\n",
       "        vertical-align: top;\n",
       "    }\n",
       "\n",
       "    .dataframe thead th {\n",
       "        text-align: right;\n",
       "    }\n",
       "</style>\n",
       "<table border=\"1\" class=\"dataframe\">\n",
       "  <thead>\n",
       "    <tr style=\"text-align: right;\">\n",
       "      <th></th>\n",
       "      <th>연극정보.mt20id</th>\n",
       "      <th>대표연극인유명도</th>\n",
       "      <th>공연시간</th>\n",
       "      <th>관객나이</th>\n",
       "      <th>가격</th>\n",
       "      <th>OPENRUN</th>\n",
       "      <th>요일수</th>\n",
       "      <th>공연장수</th>\n",
       "      <th>공연장유형</th>\n",
       "      <th>공연장유형1</th>\n",
       "      <th>공연장연혁</th>\n",
       "      <th>seatscale</th>\n",
       "      <th>수도권여부</th>\n",
       "      <th>수도권여부1</th>\n",
       "      <th>유명도binary</th>\n",
       "      <th>prfdtcnt</th>\n",
       "      <th>예상관객수</th>\n",
       "    </tr>\n",
       "  </thead>\n",
       "  <tbody>\n",
       "    <tr>\n",
       "      <th>0</th>\n",
       "      <td>PF162980</td>\n",
       "      <td>2</td>\n",
       "      <td>100.0</td>\n",
       "      <td>10.0</td>\n",
       "      <td>30000</td>\n",
       "      <td>0</td>\n",
       "      <td>4</td>\n",
       "      <td>1</td>\n",
       "      <td>공공</td>\n",
       "      <td>공공</td>\n",
       "      <td>13.0</td>\n",
       "      <td>200</td>\n",
       "      <td>1</td>\n",
       "      <td>수도권</td>\n",
       "      <td>1</td>\n",
       "      <td>4</td>\n",
       "      <td>800</td>\n",
       "    </tr>\n",
       "    <tr>\n",
       "      <th>1</th>\n",
       "      <td>PF162923</td>\n",
       "      <td>2</td>\n",
       "      <td>100.0</td>\n",
       "      <td>10.0</td>\n",
       "      <td>30000</td>\n",
       "      <td>0</td>\n",
       "      <td>4</td>\n",
       "      <td>1</td>\n",
       "      <td>공공</td>\n",
       "      <td>공공</td>\n",
       "      <td>13.0</td>\n",
       "      <td>200</td>\n",
       "      <td>1</td>\n",
       "      <td>수도권</td>\n",
       "      <td>1</td>\n",
       "      <td>1</td>\n",
       "      <td>200</td>\n",
       "    </tr>\n",
       "    <tr>\n",
       "      <th>2</th>\n",
       "      <td>PF162980</td>\n",
       "      <td>2</td>\n",
       "      <td>90.0</td>\n",
       "      <td>15.0</td>\n",
       "      <td>12000</td>\n",
       "      <td>0</td>\n",
       "      <td>4</td>\n",
       "      <td>1</td>\n",
       "      <td>민간</td>\n",
       "      <td>민간</td>\n",
       "      <td>3.0</td>\n",
       "      <td>65</td>\n",
       "      <td>2</td>\n",
       "      <td>수도권</td>\n",
       "      <td>1</td>\n",
       "      <td>4</td>\n",
       "      <td>260</td>\n",
       "    </tr>\n",
       "    <tr>\n",
       "      <th>3</th>\n",
       "      <td>PF162849</td>\n",
       "      <td>1</td>\n",
       "      <td>100.0</td>\n",
       "      <td>13.0</td>\n",
       "      <td>30000</td>\n",
       "      <td>0</td>\n",
       "      <td>4</td>\n",
       "      <td>1</td>\n",
       "      <td>민간</td>\n",
       "      <td>민간</td>\n",
       "      <td>7.0</td>\n",
       "      <td>280</td>\n",
       "      <td>0</td>\n",
       "      <td>전국</td>\n",
       "      <td>1</td>\n",
       "      <td>4</td>\n",
       "      <td>1120</td>\n",
       "    </tr>\n",
       "    <tr>\n",
       "      <th>4</th>\n",
       "      <td>PF162833</td>\n",
       "      <td>2</td>\n",
       "      <td>90.0</td>\n",
       "      <td>8.0</td>\n",
       "      <td>11900</td>\n",
       "      <td>0</td>\n",
       "      <td>1</td>\n",
       "      <td>2</td>\n",
       "      <td>공공</td>\n",
       "      <td>공공</td>\n",
       "      <td>16.0</td>\n",
       "      <td>768</td>\n",
       "      <td>2</td>\n",
       "      <td>수도권</td>\n",
       "      <td>1</td>\n",
       "      <td>1</td>\n",
       "      <td>768</td>\n",
       "    </tr>\n",
       "  </tbody>\n",
       "</table>\n",
       "</div>"
      ],
      "text/plain": [
       "  연극정보.mt20id  대표연극인유명도   공연시간  관객나이     가격  OPENRUN  요일수  공연장수 공연장유형 공연장유형1  \\\n",
       "0    PF162980         2  100.0  10.0  30000        0    4     1    공공     공공   \n",
       "1    PF162923         2  100.0  10.0  30000        0    4     1    공공     공공   \n",
       "2    PF162980         2   90.0  15.0  12000        0    4     1    민간     민간   \n",
       "3    PF162849         1  100.0  13.0  30000        0    4     1    민간     민간   \n",
       "4    PF162833         2   90.0   8.0  11900        0    1     2    공공     공공   \n",
       "\n",
       "   공연장연혁  seatscale  수도권여부 수도권여부1  유명도binary  prfdtcnt  예상관객수  \n",
       "0   13.0        200      1    수도권          1         4    800  \n",
       "1   13.0        200      1    수도권          1         1    200  \n",
       "2    3.0         65      2    수도권          1         4    260  \n",
       "3    7.0        280      0     전국          1         4   1120  \n",
       "4   16.0        768      2    수도권          1         1    768  "
      ]
     },
     "execution_count": 109,
     "metadata": {},
     "output_type": "execute_result"
    }
   ],
   "source": [
    "df.head()"
   ]
  },
  {
   "cell_type": "code",
   "execution_count": 131,
   "metadata": {},
   "outputs": [],
   "source": [
    "t0 = pd.read_csv(\"./poster_new_info/0_text_count.csv\")\n",
    "t1 = pd.read_csv(\"./poster_new_info/1_text_count.csv\")"
   ]
  },
  {
   "cell_type": "code",
   "execution_count": 132,
   "metadata": {},
   "outputs": [
    {
     "data": {
      "text/html": [
       "<div>\n",
       "<style scoped>\n",
       "    .dataframe tbody tr th:only-of-type {\n",
       "        vertical-align: middle;\n",
       "    }\n",
       "\n",
       "    .dataframe tbody tr th {\n",
       "        vertical-align: top;\n",
       "    }\n",
       "\n",
       "    .dataframe thead th {\n",
       "        text-align: right;\n",
       "    }\n",
       "</style>\n",
       "<table border=\"1\" class=\"dataframe\">\n",
       "  <thead>\n",
       "    <tr style=\"text-align: right;\">\n",
       "      <th></th>\n",
       "      <th>Unnamed: 0</th>\n",
       "      <th>filename</th>\n",
       "      <th>0folder_text</th>\n",
       "    </tr>\n",
       "  </thead>\n",
       "  <tbody>\n",
       "    <tr>\n",
       "      <th>0</th>\n",
       "      <td>0</td>\n",
       "      <td>PF154694</td>\n",
       "      <td>56</td>\n",
       "    </tr>\n",
       "    <tr>\n",
       "      <th>1</th>\n",
       "      <td>1</td>\n",
       "      <td>PF154831</td>\n",
       "      <td>0</td>\n",
       "    </tr>\n",
       "    <tr>\n",
       "      <th>2</th>\n",
       "      <td>2</td>\n",
       "      <td>PF154858</td>\n",
       "      <td>39</td>\n",
       "    </tr>\n",
       "    <tr>\n",
       "      <th>3</th>\n",
       "      <td>3</td>\n",
       "      <td>PF154885</td>\n",
       "      <td>58</td>\n",
       "    </tr>\n",
       "    <tr>\n",
       "      <th>4</th>\n",
       "      <td>4</td>\n",
       "      <td>PF154887</td>\n",
       "      <td>62</td>\n",
       "    </tr>\n",
       "  </tbody>\n",
       "</table>\n",
       "</div>"
      ],
      "text/plain": [
       "   Unnamed: 0  filename  0folder_text\n",
       "0           0  PF154694            56\n",
       "1           1  PF154831             0\n",
       "2           2  PF154858            39\n",
       "3           3  PF154885            58\n",
       "4           4  PF154887            62"
      ]
     },
     "execution_count": 132,
     "metadata": {},
     "output_type": "execute_result"
    }
   ],
   "source": [
    "t0.head()"
   ]
  },
  {
   "cell_type": "code",
   "execution_count": 133,
   "metadata": {},
   "outputs": [],
   "source": [
    "t0=t0.rename(columns={t0.columns[0] : 'index',t0.columns[2] : 'text_count'})\n",
    "t1=t1.rename(columns={t1.columns[0] : 'index',t1.columns[2] : 'text_count'})"
   ]
  },
  {
   "cell_type": "code",
   "execution_count": 134,
   "metadata": {},
   "outputs": [
    {
     "data": {
      "text/html": [
       "<div>\n",
       "<style scoped>\n",
       "    .dataframe tbody tr th:only-of-type {\n",
       "        vertical-align: middle;\n",
       "    }\n",
       "\n",
       "    .dataframe tbody tr th {\n",
       "        vertical-align: top;\n",
       "    }\n",
       "\n",
       "    .dataframe thead th {\n",
       "        text-align: right;\n",
       "    }\n",
       "</style>\n",
       "<table border=\"1\" class=\"dataframe\">\n",
       "  <thead>\n",
       "    <tr style=\"text-align: right;\">\n",
       "      <th></th>\n",
       "      <th>index</th>\n",
       "      <th>filename</th>\n",
       "      <th>text_count</th>\n",
       "    </tr>\n",
       "  </thead>\n",
       "  <tbody>\n",
       "    <tr>\n",
       "      <th>0</th>\n",
       "      <td>0</td>\n",
       "      <td>PF154728</td>\n",
       "      <td>40</td>\n",
       "    </tr>\n",
       "    <tr>\n",
       "      <th>1</th>\n",
       "      <td>1</td>\n",
       "      <td>PF154745</td>\n",
       "      <td>73</td>\n",
       "    </tr>\n",
       "    <tr>\n",
       "      <th>2</th>\n",
       "      <td>2</td>\n",
       "      <td>PF154746</td>\n",
       "      <td>165</td>\n",
       "    </tr>\n",
       "    <tr>\n",
       "      <th>3</th>\n",
       "      <td>3</td>\n",
       "      <td>PF154758</td>\n",
       "      <td>13</td>\n",
       "    </tr>\n",
       "    <tr>\n",
       "      <th>4</th>\n",
       "      <td>4</td>\n",
       "      <td>PF154776</td>\n",
       "      <td>9</td>\n",
       "    </tr>\n",
       "  </tbody>\n",
       "</table>\n",
       "</div>"
      ],
      "text/plain": [
       "   index  filename  text_count\n",
       "0      0  PF154728          40\n",
       "1      1  PF154745          73\n",
       "2      2  PF154746         165\n",
       "3      3  PF154758          13\n",
       "4      4  PF154776           9"
      ]
     },
     "execution_count": 134,
     "metadata": {},
     "output_type": "execute_result"
    }
   ],
   "source": [
    "t1.head()"
   ]
  },
  {
   "cell_type": "code",
   "execution_count": 135,
   "metadata": {},
   "outputs": [],
   "source": [
    "text_df = pd.concat([t0,t1])"
   ]
  },
  {
   "cell_type": "code",
   "execution_count": 136,
   "metadata": {},
   "outputs": [
    {
     "name": "stdout",
     "output_type": "stream",
     "text": [
      "<class 'pandas.core.frame.DataFrame'>\n",
      "Int64Index: 344 entries, 0 to 219\n",
      "Data columns (total 3 columns):\n",
      "index         344 non-null int64\n",
      "filename      344 non-null object\n",
      "text_count    344 non-null int64\n",
      "dtypes: int64(2), object(1)\n",
      "memory usage: 10.8+ KB\n"
     ]
    }
   ],
   "source": [
    "text_df.info()"
   ]
  },
  {
   "cell_type": "code",
   "execution_count": 137,
   "metadata": {},
   "outputs": [
    {
     "data": {
      "text/html": [
       "<div>\n",
       "<style scoped>\n",
       "    .dataframe tbody tr th:only-of-type {\n",
       "        vertical-align: middle;\n",
       "    }\n",
       "\n",
       "    .dataframe tbody tr th {\n",
       "        vertical-align: top;\n",
       "    }\n",
       "\n",
       "    .dataframe thead th {\n",
       "        text-align: right;\n",
       "    }\n",
       "</style>\n",
       "<table border=\"1\" class=\"dataframe\">\n",
       "  <thead>\n",
       "    <tr style=\"text-align: right;\">\n",
       "      <th></th>\n",
       "      <th>index</th>\n",
       "      <th>filename</th>\n",
       "      <th>text_count</th>\n",
       "    </tr>\n",
       "  </thead>\n",
       "  <tbody>\n",
       "    <tr>\n",
       "      <th>0</th>\n",
       "      <td>0</td>\n",
       "      <td>PF154694</td>\n",
       "      <td>56</td>\n",
       "    </tr>\n",
       "    <tr>\n",
       "      <th>1</th>\n",
       "      <td>1</td>\n",
       "      <td>PF154831</td>\n",
       "      <td>0</td>\n",
       "    </tr>\n",
       "    <tr>\n",
       "      <th>2</th>\n",
       "      <td>2</td>\n",
       "      <td>PF154858</td>\n",
       "      <td>39</td>\n",
       "    </tr>\n",
       "    <tr>\n",
       "      <th>3</th>\n",
       "      <td>3</td>\n",
       "      <td>PF154885</td>\n",
       "      <td>58</td>\n",
       "    </tr>\n",
       "    <tr>\n",
       "      <th>4</th>\n",
       "      <td>4</td>\n",
       "      <td>PF154887</td>\n",
       "      <td>62</td>\n",
       "    </tr>\n",
       "  </tbody>\n",
       "</table>\n",
       "</div>"
      ],
      "text/plain": [
       "   index  filename  text_count\n",
       "0      0  PF154694          56\n",
       "1      1  PF154831           0\n",
       "2      2  PF154858          39\n",
       "3      3  PF154885          58\n",
       "4      4  PF154887          62"
      ]
     },
     "execution_count": 137,
     "metadata": {},
     "output_type": "execute_result"
    }
   ],
   "source": [
    "text_df.head()"
   ]
  },
  {
   "cell_type": "code",
   "execution_count": 138,
   "metadata": {},
   "outputs": [],
   "source": [
    "text_df = text_df.rename(columns = {text_df.columns[1]:'연극정보.mt20id'})"
   ]
  },
  {
   "cell_type": "code",
   "execution_count": 139,
   "metadata": {},
   "outputs": [],
   "source": [
    "text_df = text_df.iloc[:,1:3]"
   ]
  },
  {
   "cell_type": "code",
   "execution_count": 140,
   "metadata": {},
   "outputs": [
    {
     "data": {
      "text/html": [
       "<div>\n",
       "<style scoped>\n",
       "    .dataframe tbody tr th:only-of-type {\n",
       "        vertical-align: middle;\n",
       "    }\n",
       "\n",
       "    .dataframe tbody tr th {\n",
       "        vertical-align: top;\n",
       "    }\n",
       "\n",
       "    .dataframe thead th {\n",
       "        text-align: right;\n",
       "    }\n",
       "</style>\n",
       "<table border=\"1\" class=\"dataframe\">\n",
       "  <thead>\n",
       "    <tr style=\"text-align: right;\">\n",
       "      <th></th>\n",
       "      <th>연극정보.mt20id</th>\n",
       "      <th>text_count</th>\n",
       "    </tr>\n",
       "  </thead>\n",
       "  <tbody>\n",
       "    <tr>\n",
       "      <th>0</th>\n",
       "      <td>PF154694</td>\n",
       "      <td>56</td>\n",
       "    </tr>\n",
       "    <tr>\n",
       "      <th>1</th>\n",
       "      <td>PF154831</td>\n",
       "      <td>0</td>\n",
       "    </tr>\n",
       "    <tr>\n",
       "      <th>2</th>\n",
       "      <td>PF154858</td>\n",
       "      <td>39</td>\n",
       "    </tr>\n",
       "    <tr>\n",
       "      <th>3</th>\n",
       "      <td>PF154885</td>\n",
       "      <td>58</td>\n",
       "    </tr>\n",
       "    <tr>\n",
       "      <th>4</th>\n",
       "      <td>PF154887</td>\n",
       "      <td>62</td>\n",
       "    </tr>\n",
       "  </tbody>\n",
       "</table>\n",
       "</div>"
      ],
      "text/plain": [
       "  연극정보.mt20id  text_count\n",
       "0    PF154694          56\n",
       "1    PF154831           0\n",
       "2    PF154858          39\n",
       "3    PF154885          58\n",
       "4    PF154887          62"
      ]
     },
     "execution_count": 140,
     "metadata": {},
     "output_type": "execute_result"
    }
   ],
   "source": [
    "text_df.head()"
   ]
  },
  {
   "cell_type": "code",
   "execution_count": 119,
   "metadata": {},
   "outputs": [],
   "source": [
    "c0 = pd.read_csv(\"./poster_new_info/color_df_0.csv\")\n",
    "c1 = pd.read_csv(\"./poster_new_info/color_df_1.csv\")"
   ]
  },
  {
   "cell_type": "code",
   "execution_count": 120,
   "metadata": {},
   "outputs": [
    {
     "data": {
      "text/html": [
       "<div>\n",
       "<style scoped>\n",
       "    .dataframe tbody tr th:only-of-type {\n",
       "        vertical-align: middle;\n",
       "    }\n",
       "\n",
       "    .dataframe tbody tr th {\n",
       "        vertical-align: top;\n",
       "    }\n",
       "\n",
       "    .dataframe thead th {\n",
       "        text-align: right;\n",
       "    }\n",
       "</style>\n",
       "<table border=\"1\" class=\"dataframe\">\n",
       "  <thead>\n",
       "    <tr style=\"text-align: right;\">\n",
       "      <th></th>\n",
       "      <th>filenames</th>\n",
       "      <th>R</th>\n",
       "      <th>G</th>\n",
       "      <th>B</th>\n",
       "      <th>brightness</th>\n",
       "      <th>lumi</th>\n",
       "    </tr>\n",
       "  </thead>\n",
       "  <tbody>\n",
       "    <tr>\n",
       "      <th>0</th>\n",
       "      <td>PF154694</td>\n",
       "      <td>118.579576</td>\n",
       "      <td>54.346142</td>\n",
       "      <td>53.352419</td>\n",
       "      <td>75.426046</td>\n",
       "      <td>67.930423</td>\n",
       "    </tr>\n",
       "    <tr>\n",
       "      <th>1</th>\n",
       "      <td>PF154831</td>\n",
       "      <td>253.821625</td>\n",
       "      <td>252.929866</td>\n",
       "      <td>252.887844</td>\n",
       "      <td>253.213112</td>\n",
       "      <td>253.116420</td>\n",
       "    </tr>\n",
       "    <tr>\n",
       "      <th>2</th>\n",
       "      <td>PF154858</td>\n",
       "      <td>22.514220</td>\n",
       "      <td>22.825590</td>\n",
       "      <td>22.920069</td>\n",
       "      <td>22.753293</td>\n",
       "      <td>22.766214</td>\n",
       "    </tr>\n",
       "    <tr>\n",
       "      <th>3</th>\n",
       "      <td>PF154885</td>\n",
       "      <td>57.961107</td>\n",
       "      <td>63.056864</td>\n",
       "      <td>61.489695</td>\n",
       "      <td>60.835889</td>\n",
       "      <td>61.860357</td>\n",
       "    </tr>\n",
       "    <tr>\n",
       "      <th>4</th>\n",
       "      <td>PF154887</td>\n",
       "      <td>73.730505</td>\n",
       "      <td>74.273067</td>\n",
       "      <td>74.413172</td>\n",
       "      <td>74.138914</td>\n",
       "      <td>74.167834</td>\n",
       "    </tr>\n",
       "  </tbody>\n",
       "</table>\n",
       "</div>"
      ],
      "text/plain": [
       "  filenames           R           G           B  brightness        lumi\n",
       "0  PF154694  118.579576   54.346142   53.352419   75.426046   67.930423\n",
       "1  PF154831  253.821625  252.929866  252.887844  253.213112  253.116420\n",
       "2  PF154858   22.514220   22.825590   22.920069   22.753293   22.766214\n",
       "3  PF154885   57.961107   63.056864   61.489695   60.835889   61.860357\n",
       "4  PF154887   73.730505   74.273067   74.413172   74.138914   74.167834"
      ]
     },
     "execution_count": 120,
     "metadata": {},
     "output_type": "execute_result"
    }
   ],
   "source": [
    "c0.head()"
   ]
  },
  {
   "cell_type": "code",
   "execution_count": 121,
   "metadata": {},
   "outputs": [
    {
     "data": {
      "text/html": [
       "<div>\n",
       "<style scoped>\n",
       "    .dataframe tbody tr th:only-of-type {\n",
       "        vertical-align: middle;\n",
       "    }\n",
       "\n",
       "    .dataframe tbody tr th {\n",
       "        vertical-align: top;\n",
       "    }\n",
       "\n",
       "    .dataframe thead th {\n",
       "        text-align: right;\n",
       "    }\n",
       "</style>\n",
       "<table border=\"1\" class=\"dataframe\">\n",
       "  <thead>\n",
       "    <tr style=\"text-align: right;\">\n",
       "      <th></th>\n",
       "      <th>filenames</th>\n",
       "      <th>R</th>\n",
       "      <th>G</th>\n",
       "      <th>B</th>\n",
       "      <th>brightness</th>\n",
       "      <th>lumi</th>\n",
       "    </tr>\n",
       "  </thead>\n",
       "  <tbody>\n",
       "    <tr>\n",
       "      <th>0</th>\n",
       "      <td>PF154728</td>\n",
       "      <td>100.265039</td>\n",
       "      <td>68.448313</td>\n",
       "      <td>57.805636</td>\n",
       "      <td>75.506329</td>\n",
       "      <td>74.444147</td>\n",
       "    </tr>\n",
       "    <tr>\n",
       "      <th>1</th>\n",
       "      <td>PF154745</td>\n",
       "      <td>87.926671</td>\n",
       "      <td>176.320020</td>\n",
       "      <td>190.397625</td>\n",
       "      <td>151.548105</td>\n",
       "      <td>158.543997</td>\n",
       "    </tr>\n",
       "    <tr>\n",
       "      <th>2</th>\n",
       "      <td>PF154746</td>\n",
       "      <td>70.467019</td>\n",
       "      <td>75.038428</td>\n",
       "      <td>136.125687</td>\n",
       "      <td>93.877045</td>\n",
       "      <td>78.477047</td>\n",
       "    </tr>\n",
       "    <tr>\n",
       "      <th>3</th>\n",
       "      <td>PF154758</td>\n",
       "      <td>136.088139</td>\n",
       "      <td>139.451802</td>\n",
       "      <td>176.127589</td>\n",
       "      <td>150.555843</td>\n",
       "      <td>141.384679</td>\n",
       "    </tr>\n",
       "    <tr>\n",
       "      <th>4</th>\n",
       "      <td>PF154776</td>\n",
       "      <td>137.669856</td>\n",
       "      <td>150.779358</td>\n",
       "      <td>137.638401</td>\n",
       "      <td>142.029205</td>\n",
       "      <td>147.043501</td>\n",
       "    </tr>\n",
       "  </tbody>\n",
       "</table>\n",
       "</div>"
      ],
      "text/plain": [
       "  filenames           R           G           B  brightness        lumi\n",
       "0  PF154728  100.265039   68.448313   57.805636   75.506329   74.444147\n",
       "1  PF154745   87.926671  176.320020  190.397625  151.548105  158.543997\n",
       "2  PF154746   70.467019   75.038428  136.125687   93.877045   78.477047\n",
       "3  PF154758  136.088139  139.451802  176.127589  150.555843  141.384679\n",
       "4  PF154776  137.669856  150.779358  137.638401  142.029205  147.043501"
      ]
     },
     "execution_count": 121,
     "metadata": {},
     "output_type": "execute_result"
    }
   ],
   "source": [
    "c1.head()"
   ]
  },
  {
   "cell_type": "code",
   "execution_count": null,
   "metadata": {},
   "outputs": [],
   "source": [
    "# t0=t0.rename(columns={t0.columns[0] : 'index',t0.columns[2] : 'text_count'})\n",
    "# t1=t1.rename(columns={t1.columns[0] : 'index',t1.columns[2] : 'text_count'})"
   ]
  },
  {
   "cell_type": "code",
   "execution_count": 122,
   "metadata": {},
   "outputs": [],
   "source": [
    "color_df = pd.concat([c0,c1])"
   ]
  },
  {
   "cell_type": "code",
   "execution_count": 123,
   "metadata": {},
   "outputs": [
    {
     "data": {
      "text/html": [
       "<div>\n",
       "<style scoped>\n",
       "    .dataframe tbody tr th:only-of-type {\n",
       "        vertical-align: middle;\n",
       "    }\n",
       "\n",
       "    .dataframe tbody tr th {\n",
       "        vertical-align: top;\n",
       "    }\n",
       "\n",
       "    .dataframe thead th {\n",
       "        text-align: right;\n",
       "    }\n",
       "</style>\n",
       "<table border=\"1\" class=\"dataframe\">\n",
       "  <thead>\n",
       "    <tr style=\"text-align: right;\">\n",
       "      <th></th>\n",
       "      <th>filenames</th>\n",
       "      <th>R</th>\n",
       "      <th>G</th>\n",
       "      <th>B</th>\n",
       "      <th>brightness</th>\n",
       "      <th>lumi</th>\n",
       "    </tr>\n",
       "  </thead>\n",
       "  <tbody>\n",
       "    <tr>\n",
       "      <th>0</th>\n",
       "      <td>PF154694</td>\n",
       "      <td>118.579576</td>\n",
       "      <td>54.346142</td>\n",
       "      <td>53.352419</td>\n",
       "      <td>75.426046</td>\n",
       "      <td>67.930423</td>\n",
       "    </tr>\n",
       "    <tr>\n",
       "      <th>1</th>\n",
       "      <td>PF154831</td>\n",
       "      <td>253.821625</td>\n",
       "      <td>252.929866</td>\n",
       "      <td>252.887844</td>\n",
       "      <td>253.213112</td>\n",
       "      <td>253.116420</td>\n",
       "    </tr>\n",
       "    <tr>\n",
       "      <th>2</th>\n",
       "      <td>PF154858</td>\n",
       "      <td>22.514220</td>\n",
       "      <td>22.825590</td>\n",
       "      <td>22.920069</td>\n",
       "      <td>22.753293</td>\n",
       "      <td>22.766214</td>\n",
       "    </tr>\n",
       "    <tr>\n",
       "      <th>3</th>\n",
       "      <td>PF154885</td>\n",
       "      <td>57.961107</td>\n",
       "      <td>63.056864</td>\n",
       "      <td>61.489695</td>\n",
       "      <td>60.835889</td>\n",
       "      <td>61.860357</td>\n",
       "    </tr>\n",
       "    <tr>\n",
       "      <th>4</th>\n",
       "      <td>PF154887</td>\n",
       "      <td>73.730505</td>\n",
       "      <td>74.273067</td>\n",
       "      <td>74.413172</td>\n",
       "      <td>74.138914</td>\n",
       "      <td>74.167834</td>\n",
       "    </tr>\n",
       "  </tbody>\n",
       "</table>\n",
       "</div>"
      ],
      "text/plain": [
       "  filenames           R           G           B  brightness        lumi\n",
       "0  PF154694  118.579576   54.346142   53.352419   75.426046   67.930423\n",
       "1  PF154831  253.821625  252.929866  252.887844  253.213112  253.116420\n",
       "2  PF154858   22.514220   22.825590   22.920069   22.753293   22.766214\n",
       "3  PF154885   57.961107   63.056864   61.489695   60.835889   61.860357\n",
       "4  PF154887   73.730505   74.273067   74.413172   74.138914   74.167834"
      ]
     },
     "execution_count": 123,
     "metadata": {},
     "output_type": "execute_result"
    }
   ],
   "source": [
    "color_df.head()"
   ]
  },
  {
   "cell_type": "code",
   "execution_count": 124,
   "metadata": {},
   "outputs": [],
   "source": [
    "color_df = color_df.rename(columns = {color_df.columns[0]:'연극정보.mt20id'})"
   ]
  },
  {
   "cell_type": "code",
   "execution_count": 125,
   "metadata": {},
   "outputs": [
    {
     "data": {
      "text/html": [
       "<div>\n",
       "<style scoped>\n",
       "    .dataframe tbody tr th:only-of-type {\n",
       "        vertical-align: middle;\n",
       "    }\n",
       "\n",
       "    .dataframe tbody tr th {\n",
       "        vertical-align: top;\n",
       "    }\n",
       "\n",
       "    .dataframe thead th {\n",
       "        text-align: right;\n",
       "    }\n",
       "</style>\n",
       "<table border=\"1\" class=\"dataframe\">\n",
       "  <thead>\n",
       "    <tr style=\"text-align: right;\">\n",
       "      <th></th>\n",
       "      <th>연극정보.mt20id</th>\n",
       "      <th>R</th>\n",
       "      <th>G</th>\n",
       "      <th>B</th>\n",
       "      <th>brightness</th>\n",
       "      <th>lumi</th>\n",
       "    </tr>\n",
       "  </thead>\n",
       "  <tbody>\n",
       "    <tr>\n",
       "      <th>0</th>\n",
       "      <td>PF154694</td>\n",
       "      <td>118.579576</td>\n",
       "      <td>54.346142</td>\n",
       "      <td>53.352419</td>\n",
       "      <td>75.426046</td>\n",
       "      <td>67.930423</td>\n",
       "    </tr>\n",
       "    <tr>\n",
       "      <th>1</th>\n",
       "      <td>PF154831</td>\n",
       "      <td>253.821625</td>\n",
       "      <td>252.929866</td>\n",
       "      <td>252.887844</td>\n",
       "      <td>253.213112</td>\n",
       "      <td>253.116420</td>\n",
       "    </tr>\n",
       "    <tr>\n",
       "      <th>2</th>\n",
       "      <td>PF154858</td>\n",
       "      <td>22.514220</td>\n",
       "      <td>22.825590</td>\n",
       "      <td>22.920069</td>\n",
       "      <td>22.753293</td>\n",
       "      <td>22.766214</td>\n",
       "    </tr>\n",
       "    <tr>\n",
       "      <th>3</th>\n",
       "      <td>PF154885</td>\n",
       "      <td>57.961107</td>\n",
       "      <td>63.056864</td>\n",
       "      <td>61.489695</td>\n",
       "      <td>60.835889</td>\n",
       "      <td>61.860357</td>\n",
       "    </tr>\n",
       "    <tr>\n",
       "      <th>4</th>\n",
       "      <td>PF154887</td>\n",
       "      <td>73.730505</td>\n",
       "      <td>74.273067</td>\n",
       "      <td>74.413172</td>\n",
       "      <td>74.138914</td>\n",
       "      <td>74.167834</td>\n",
       "    </tr>\n",
       "  </tbody>\n",
       "</table>\n",
       "</div>"
      ],
      "text/plain": [
       "  연극정보.mt20id           R           G           B  brightness        lumi\n",
       "0    PF154694  118.579576   54.346142   53.352419   75.426046   67.930423\n",
       "1    PF154831  253.821625  252.929866  252.887844  253.213112  253.116420\n",
       "2    PF154858   22.514220   22.825590   22.920069   22.753293   22.766214\n",
       "3    PF154885   57.961107   63.056864   61.489695   60.835889   61.860357\n",
       "4    PF154887   73.730505   74.273067   74.413172   74.138914   74.167834"
      ]
     },
     "execution_count": 125,
     "metadata": {},
     "output_type": "execute_result"
    }
   ],
   "source": [
    "color_df.head()"
   ]
  },
  {
   "cell_type": "code",
   "execution_count": null,
   "metadata": {},
   "outputs": [],
   "source": []
  },
  {
   "cell_type": "code",
   "execution_count": null,
   "metadata": {},
   "outputs": [],
   "source": [
    "face_df"
   ]
  },
  {
   "cell_type": "code",
   "execution_count": 141,
   "metadata": {},
   "outputs": [],
   "source": [
    "df1 = pd.merge(df, text_df, on='연극정보.mt20id',how = 'left' )"
   ]
  },
  {
   "cell_type": "code",
   "execution_count": 142,
   "metadata": {},
   "outputs": [
    {
     "data": {
      "text/html": [
       "<div>\n",
       "<style scoped>\n",
       "    .dataframe tbody tr th:only-of-type {\n",
       "        vertical-align: middle;\n",
       "    }\n",
       "\n",
       "    .dataframe tbody tr th {\n",
       "        vertical-align: top;\n",
       "    }\n",
       "\n",
       "    .dataframe thead th {\n",
       "        text-align: right;\n",
       "    }\n",
       "</style>\n",
       "<table border=\"1\" class=\"dataframe\">\n",
       "  <thead>\n",
       "    <tr style=\"text-align: right;\">\n",
       "      <th></th>\n",
       "      <th>연극정보.mt20id</th>\n",
       "      <th>대표연극인유명도</th>\n",
       "      <th>공연시간</th>\n",
       "      <th>관객나이</th>\n",
       "      <th>가격</th>\n",
       "      <th>OPENRUN</th>\n",
       "      <th>요일수</th>\n",
       "      <th>공연장수</th>\n",
       "      <th>공연장유형</th>\n",
       "      <th>공연장유형1</th>\n",
       "      <th>공연장연혁</th>\n",
       "      <th>seatscale</th>\n",
       "      <th>수도권여부</th>\n",
       "      <th>수도권여부1</th>\n",
       "      <th>유명도binary</th>\n",
       "      <th>prfdtcnt</th>\n",
       "      <th>예상관객수</th>\n",
       "      <th>text_count</th>\n",
       "    </tr>\n",
       "  </thead>\n",
       "  <tbody>\n",
       "    <tr>\n",
       "      <th>0</th>\n",
       "      <td>PF162980</td>\n",
       "      <td>2</td>\n",
       "      <td>100.0</td>\n",
       "      <td>10.0</td>\n",
       "      <td>30000</td>\n",
       "      <td>0</td>\n",
       "      <td>4</td>\n",
       "      <td>1</td>\n",
       "      <td>공공</td>\n",
       "      <td>공공</td>\n",
       "      <td>13.0</td>\n",
       "      <td>200</td>\n",
       "      <td>1</td>\n",
       "      <td>수도권</td>\n",
       "      <td>1</td>\n",
       "      <td>4</td>\n",
       "      <td>800</td>\n",
       "      <td>50.0</td>\n",
       "    </tr>\n",
       "    <tr>\n",
       "      <th>1</th>\n",
       "      <td>PF162923</td>\n",
       "      <td>2</td>\n",
       "      <td>100.0</td>\n",
       "      <td>10.0</td>\n",
       "      <td>30000</td>\n",
       "      <td>0</td>\n",
       "      <td>4</td>\n",
       "      <td>1</td>\n",
       "      <td>공공</td>\n",
       "      <td>공공</td>\n",
       "      <td>13.0</td>\n",
       "      <td>200</td>\n",
       "      <td>1</td>\n",
       "      <td>수도권</td>\n",
       "      <td>1</td>\n",
       "      <td>1</td>\n",
       "      <td>200</td>\n",
       "      <td>73.0</td>\n",
       "    </tr>\n",
       "    <tr>\n",
       "      <th>2</th>\n",
       "      <td>PF162980</td>\n",
       "      <td>2</td>\n",
       "      <td>90.0</td>\n",
       "      <td>15.0</td>\n",
       "      <td>12000</td>\n",
       "      <td>0</td>\n",
       "      <td>4</td>\n",
       "      <td>1</td>\n",
       "      <td>민간</td>\n",
       "      <td>민간</td>\n",
       "      <td>3.0</td>\n",
       "      <td>65</td>\n",
       "      <td>2</td>\n",
       "      <td>수도권</td>\n",
       "      <td>1</td>\n",
       "      <td>4</td>\n",
       "      <td>260</td>\n",
       "      <td>50.0</td>\n",
       "    </tr>\n",
       "    <tr>\n",
       "      <th>3</th>\n",
       "      <td>PF162849</td>\n",
       "      <td>1</td>\n",
       "      <td>100.0</td>\n",
       "      <td>13.0</td>\n",
       "      <td>30000</td>\n",
       "      <td>0</td>\n",
       "      <td>4</td>\n",
       "      <td>1</td>\n",
       "      <td>민간</td>\n",
       "      <td>민간</td>\n",
       "      <td>7.0</td>\n",
       "      <td>280</td>\n",
       "      <td>0</td>\n",
       "      <td>전국</td>\n",
       "      <td>1</td>\n",
       "      <td>4</td>\n",
       "      <td>1120</td>\n",
       "      <td>113.0</td>\n",
       "    </tr>\n",
       "    <tr>\n",
       "      <th>4</th>\n",
       "      <td>PF162833</td>\n",
       "      <td>2</td>\n",
       "      <td>90.0</td>\n",
       "      <td>8.0</td>\n",
       "      <td>11900</td>\n",
       "      <td>0</td>\n",
       "      <td>1</td>\n",
       "      <td>2</td>\n",
       "      <td>공공</td>\n",
       "      <td>공공</td>\n",
       "      <td>16.0</td>\n",
       "      <td>768</td>\n",
       "      <td>2</td>\n",
       "      <td>수도권</td>\n",
       "      <td>1</td>\n",
       "      <td>1</td>\n",
       "      <td>768</td>\n",
       "      <td>62.0</td>\n",
       "    </tr>\n",
       "  </tbody>\n",
       "</table>\n",
       "</div>"
      ],
      "text/plain": [
       "  연극정보.mt20id  대표연극인유명도   공연시간  관객나이     가격  OPENRUN  요일수  공연장수 공연장유형 공연장유형1  \\\n",
       "0    PF162980         2  100.0  10.0  30000        0    4     1    공공     공공   \n",
       "1    PF162923         2  100.0  10.0  30000        0    4     1    공공     공공   \n",
       "2    PF162980         2   90.0  15.0  12000        0    4     1    민간     민간   \n",
       "3    PF162849         1  100.0  13.0  30000        0    4     1    민간     민간   \n",
       "4    PF162833         2   90.0   8.0  11900        0    1     2    공공     공공   \n",
       "\n",
       "   공연장연혁  seatscale  수도권여부 수도권여부1  유명도binary  prfdtcnt  예상관객수  text_count  \n",
       "0   13.0        200      1    수도권          1         4    800        50.0  \n",
       "1   13.0        200      1    수도권          1         1    200        73.0  \n",
       "2    3.0         65      2    수도권          1         4    260        50.0  \n",
       "3    7.0        280      0     전국          1         4   1120       113.0  \n",
       "4   16.0        768      2    수도권          1         1    768        62.0  "
      ]
     },
     "execution_count": 142,
     "metadata": {},
     "output_type": "execute_result"
    }
   ],
   "source": [
    "df1.head()"
   ]
  },
  {
   "cell_type": "code",
   "execution_count": 143,
   "metadata": {},
   "outputs": [],
   "source": [
    "df2 = pd.merge(df1,color_df,on='연극정보.mt20id',how = 'left')"
   ]
  },
  {
   "cell_type": "code",
   "execution_count": 144,
   "metadata": {},
   "outputs": [
    {
     "data": {
      "text/html": [
       "<div>\n",
       "<style scoped>\n",
       "    .dataframe tbody tr th:only-of-type {\n",
       "        vertical-align: middle;\n",
       "    }\n",
       "\n",
       "    .dataframe tbody tr th {\n",
       "        vertical-align: top;\n",
       "    }\n",
       "\n",
       "    .dataframe thead th {\n",
       "        text-align: right;\n",
       "    }\n",
       "</style>\n",
       "<table border=\"1\" class=\"dataframe\">\n",
       "  <thead>\n",
       "    <tr style=\"text-align: right;\">\n",
       "      <th></th>\n",
       "      <th>연극정보.mt20id</th>\n",
       "      <th>대표연극인유명도</th>\n",
       "      <th>공연시간</th>\n",
       "      <th>관객나이</th>\n",
       "      <th>가격</th>\n",
       "      <th>OPENRUN</th>\n",
       "      <th>요일수</th>\n",
       "      <th>공연장수</th>\n",
       "      <th>공연장유형</th>\n",
       "      <th>공연장유형1</th>\n",
       "      <th>...</th>\n",
       "      <th>수도권여부1</th>\n",
       "      <th>유명도binary</th>\n",
       "      <th>prfdtcnt</th>\n",
       "      <th>예상관객수</th>\n",
       "      <th>text_count</th>\n",
       "      <th>R</th>\n",
       "      <th>G</th>\n",
       "      <th>B</th>\n",
       "      <th>brightness</th>\n",
       "      <th>lumi</th>\n",
       "    </tr>\n",
       "  </thead>\n",
       "  <tbody>\n",
       "    <tr>\n",
       "      <th>0</th>\n",
       "      <td>PF162980</td>\n",
       "      <td>2</td>\n",
       "      <td>100.0</td>\n",
       "      <td>10.0</td>\n",
       "      <td>30000</td>\n",
       "      <td>0</td>\n",
       "      <td>4</td>\n",
       "      <td>1</td>\n",
       "      <td>공공</td>\n",
       "      <td>공공</td>\n",
       "      <td>...</td>\n",
       "      <td>수도권</td>\n",
       "      <td>1</td>\n",
       "      <td>4</td>\n",
       "      <td>800</td>\n",
       "      <td>50.0</td>\n",
       "      <td>35.245765</td>\n",
       "      <td>23.018015</td>\n",
       "      <td>19.815773</td>\n",
       "      <td>26.026518</td>\n",
       "      <td>25.386433</td>\n",
       "    </tr>\n",
       "    <tr>\n",
       "      <th>1</th>\n",
       "      <td>PF162923</td>\n",
       "      <td>2</td>\n",
       "      <td>100.0</td>\n",
       "      <td>10.0</td>\n",
       "      <td>30000</td>\n",
       "      <td>0</td>\n",
       "      <td>4</td>\n",
       "      <td>1</td>\n",
       "      <td>공공</td>\n",
       "      <td>공공</td>\n",
       "      <td>...</td>\n",
       "      <td>수도권</td>\n",
       "      <td>1</td>\n",
       "      <td>1</td>\n",
       "      <td>200</td>\n",
       "      <td>73.0</td>\n",
       "      <td>181.954806</td>\n",
       "      <td>146.551037</td>\n",
       "      <td>94.940932</td>\n",
       "      <td>141.148925</td>\n",
       "      <td>150.351629</td>\n",
       "    </tr>\n",
       "    <tr>\n",
       "      <th>2</th>\n",
       "      <td>PF162980</td>\n",
       "      <td>2</td>\n",
       "      <td>90.0</td>\n",
       "      <td>15.0</td>\n",
       "      <td>12000</td>\n",
       "      <td>0</td>\n",
       "      <td>4</td>\n",
       "      <td>1</td>\n",
       "      <td>민간</td>\n",
       "      <td>민간</td>\n",
       "      <td>...</td>\n",
       "      <td>수도권</td>\n",
       "      <td>1</td>\n",
       "      <td>4</td>\n",
       "      <td>260</td>\n",
       "      <td>50.0</td>\n",
       "      <td>35.245765</td>\n",
       "      <td>23.018015</td>\n",
       "      <td>19.815773</td>\n",
       "      <td>26.026518</td>\n",
       "      <td>25.386433</td>\n",
       "    </tr>\n",
       "    <tr>\n",
       "      <th>3</th>\n",
       "      <td>PF162849</td>\n",
       "      <td>1</td>\n",
       "      <td>100.0</td>\n",
       "      <td>13.0</td>\n",
       "      <td>30000</td>\n",
       "      <td>0</td>\n",
       "      <td>4</td>\n",
       "      <td>1</td>\n",
       "      <td>민간</td>\n",
       "      <td>민간</td>\n",
       "      <td>...</td>\n",
       "      <td>전국</td>\n",
       "      <td>1</td>\n",
       "      <td>4</td>\n",
       "      <td>1120</td>\n",
       "      <td>113.0</td>\n",
       "      <td>173.823273</td>\n",
       "      <td>89.941804</td>\n",
       "      <td>91.264931</td>\n",
       "      <td>118.343336</td>\n",
       "      <td>107.870534</td>\n",
       "    </tr>\n",
       "    <tr>\n",
       "      <th>4</th>\n",
       "      <td>PF162833</td>\n",
       "      <td>2</td>\n",
       "      <td>90.0</td>\n",
       "      <td>8.0</td>\n",
       "      <td>11900</td>\n",
       "      <td>0</td>\n",
       "      <td>1</td>\n",
       "      <td>2</td>\n",
       "      <td>공공</td>\n",
       "      <td>공공</td>\n",
       "      <td>...</td>\n",
       "      <td>수도권</td>\n",
       "      <td>1</td>\n",
       "      <td>1</td>\n",
       "      <td>768</td>\n",
       "      <td>62.0</td>\n",
       "      <td>199.913213</td>\n",
       "      <td>193.188076</td>\n",
       "      <td>205.457534</td>\n",
       "      <td>199.519608</td>\n",
       "      <td>195.503695</td>\n",
       "    </tr>\n",
       "  </tbody>\n",
       "</table>\n",
       "<p>5 rows × 23 columns</p>\n",
       "</div>"
      ],
      "text/plain": [
       "  연극정보.mt20id  대표연극인유명도   공연시간  관객나이     가격  OPENRUN  요일수  공연장수 공연장유형 공연장유형1  \\\n",
       "0    PF162980         2  100.0  10.0  30000        0    4     1    공공     공공   \n",
       "1    PF162923         2  100.0  10.0  30000        0    4     1    공공     공공   \n",
       "2    PF162980         2   90.0  15.0  12000        0    4     1    민간     민간   \n",
       "3    PF162849         1  100.0  13.0  30000        0    4     1    민간     민간   \n",
       "4    PF162833         2   90.0   8.0  11900        0    1     2    공공     공공   \n",
       "\n",
       "   ...  수도권여부1  유명도binary  prfdtcnt 예상관객수  text_count           R           G  \\\n",
       "0  ...     수도권          1         4   800        50.0   35.245765   23.018015   \n",
       "1  ...     수도권          1         1   200        73.0  181.954806  146.551037   \n",
       "2  ...     수도권          1         4   260        50.0   35.245765   23.018015   \n",
       "3  ...      전국          1         4  1120       113.0  173.823273   89.941804   \n",
       "4  ...     수도권          1         1   768        62.0  199.913213  193.188076   \n",
       "\n",
       "            B  brightness        lumi  \n",
       "0   19.815773   26.026518   25.386433  \n",
       "1   94.940932  141.148925  150.351629  \n",
       "2   19.815773   26.026518   25.386433  \n",
       "3   91.264931  118.343336  107.870534  \n",
       "4  205.457534  199.519608  195.503695  \n",
       "\n",
       "[5 rows x 23 columns]"
      ]
     },
     "execution_count": 144,
     "metadata": {},
     "output_type": "execute_result"
    }
   ],
   "source": [
    "df2.head()"
   ]
  },
  {
   "cell_type": "code",
   "execution_count": 145,
   "metadata": {},
   "outputs": [],
   "source": [
    "#df2.to_csv('text_color_add.csv',index = False)"
   ]
  },
  {
   "cell_type": "code",
   "execution_count": 149,
   "metadata": {},
   "outputs": [],
   "source": [
    "df2=df2.drop_duplicates(['연극정보.mt20id'])"
   ]
  },
  {
   "cell_type": "code",
   "execution_count": 150,
   "metadata": {},
   "outputs": [
    {
     "name": "stdout",
     "output_type": "stream",
     "text": [
      "<class 'pandas.core.frame.DataFrame'>\n",
      "Int64Index: 399 entries, 0 to 399\n",
      "Data columns (total 23 columns):\n",
      "연극정보.mt20id    399 non-null object\n",
      "대표연극인유명도       399 non-null int64\n",
      "공연시간           379 non-null float64\n",
      "관객나이           398 non-null float64\n",
      "가격             399 non-null int64\n",
      "OPENRUN        399 non-null int64\n",
      "요일수            399 non-null int64\n",
      "공연장수           399 non-null int64\n",
      "공연장유형          399 non-null object\n",
      "공연장유형1         399 non-null object\n",
      "공연장연혁          394 non-null float64\n",
      "seatscale      399 non-null int64\n",
      "수도권여부          399 non-null int64\n",
      "수도권여부1         399 non-null object\n",
      "유명도binary      399 non-null int64\n",
      "prfdtcnt       399 non-null int64\n",
      "예상관객수          399 non-null int64\n",
      "text_count     344 non-null float64\n",
      "R              344 non-null float64\n",
      "G              344 non-null float64\n",
      "B              344 non-null float64\n",
      "brightness     344 non-null float64\n",
      "lumi           344 non-null float64\n",
      "dtypes: float64(9), int64(10), object(4)\n",
      "memory usage: 74.8+ KB\n"
     ]
    }
   ],
   "source": [
    "df2.info()"
   ]
  },
  {
   "cell_type": "code",
   "execution_count": 151,
   "metadata": {},
   "outputs": [],
   "source": [
    "df2.to_csv('text_color_add.csv',index = False)"
   ]
  },
  {
   "cell_type": "code",
   "execution_count": null,
   "metadata": {},
   "outputs": [],
   "source": []
  }
 ],
 "metadata": {
  "hide_input": false,
  "kernelspec": {
   "display_name": "Python 3",
   "language": "python",
   "name": "python3"
  },
  "language_info": {
   "codemirror_mode": {
    "name": "ipython",
    "version": 3
   },
   "file_extension": ".py",
   "mimetype": "text/x-python",
   "name": "python",
   "nbconvert_exporter": "python",
   "pygments_lexer": "ipython3",
   "version": "3.6.8"
  },
  "toc": {
   "base_numbering": 1,
   "nav_menu": {},
   "number_sections": true,
   "sideBar": true,
   "skip_h1_title": false,
   "title_cell": "Table of Contents",
   "title_sidebar": "Contents",
   "toc_cell": false,
   "toc_position": {},
   "toc_section_display": true,
   "toc_window_display": false
  },
  "varInspector": {
   "cols": {
    "lenName": 16,
    "lenType": 16,
    "lenVar": 40
   },
   "kernels_config": {
    "python": {
     "delete_cmd_postfix": "",
     "delete_cmd_prefix": "del ",
     "library": "var_list.py",
     "varRefreshCmd": "print(var_dic_list())"
    },
    "r": {
     "delete_cmd_postfix": ") ",
     "delete_cmd_prefix": "rm(",
     "library": "var_list.r",
     "varRefreshCmd": "cat(var_dic_list()) "
    }
   },
   "types_to_exclude": [
    "module",
    "function",
    "builtin_function_or_method",
    "instance",
    "_Feature"
   ],
   "window_display": false
  }
 },
 "nbformat": 4,
 "nbformat_minor": 2
}
