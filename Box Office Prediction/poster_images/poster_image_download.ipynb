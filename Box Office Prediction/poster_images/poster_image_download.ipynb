{
 "cells": [
  {
   "cell_type": "code",
   "execution_count": 16,
   "metadata": {},
   "outputs": [],
   "source": [
    "import urllib.request\n",
    "import pandas as pd\n",
    "import requests\n",
    "from bs4 import BeautifulSoup\n",
    "import time"
   ]
  },
  {
   "cell_type": "code",
   "execution_count": 17,
   "metadata": {},
   "outputs": [],
   "source": [
    "my_df = pd.read_csv(\"2016-2019pre_final.csv\",encoding = 'cp949')"
   ]
  },
  {
   "cell_type": "code",
   "execution_count": 18,
   "metadata": {},
   "outputs": [],
   "source": [
    "play_id = my_df['연극ID']\n",
    "play_id_list = list(play_id)\n",
    "data0_id = my_df.loc[my_df['예상관객수'] < 500]['연극ID']\n",
    "data1_id = my_df.loc[my_df['예상관객수'] >= 500]['연극ID']"
   ]
  },
  {
   "cell_type": "code",
   "execution_count": 19,
   "metadata": {},
   "outputs": [],
   "source": [
    "data0_id = list(data0_id)\n",
    "data1_id = list(data1_id)"
   ]
  },
  {
   "cell_type": "code",
   "execution_count": 20,
   "metadata": {},
   "outputs": [],
   "source": [
    "apikey = 'd2d444505af640df8e926c51e32aebca'\n",
    "#detail_url = 'http://www.kopis.or.kr/openApi/restful/pblprfr/'+name+'?service='+apikey"
   ]
  },
  {
   "cell_type": "code",
   "execution_count": 29,
   "metadata": {},
   "outputs": [],
   "source": [
    "noimage_0 = [] "
   ]
  },
  {
   "cell_type": "code",
   "execution_count": 24,
   "metadata": {},
   "outputs": [],
   "source": [
    "name = 'PF134671'"
   ]
  },
  {
   "cell_type": "code",
   "execution_count": 25,
   "metadata": {},
   "outputs": [],
   "source": [
    "detail_url = 'http://www.kopis.or.kr/openApi/restful/pblprfr/'+name+'?service='+apikey\n",
    "detail_response = requests.get(detail_url)\n",
    "detail_soup = BeautifulSoup(detail_response.text, 'html.parser')\n",
    "poster = detail_soup.select('poster')\n",
    "    "
   ]
  },
  {
   "cell_type": "code",
   "execution_count": 28,
   "metadata": {},
   "outputs": [
    {
     "data": {
      "text/plain": [
       "'kopis'"
      ]
     },
     "execution_count": 28,
     "metadata": {},
     "output_type": "execute_result"
    }
   ],
   "source": [
    "poster[0].text[11:16]"
   ]
  },
  {
   "cell_type": "code",
   "execution_count": 31,
   "metadata": {},
   "outputs": [],
   "source": [
    "for name in data0_id:\n",
    "    detail_url = 'http://www.kopis.or.kr/openApi/restful/pblprfr/'+name+'?service='+apikey\n",
    "    detail_response = requests.get(detail_url)\n",
    "    detail_soup = BeautifulSoup(detail_response.text, 'html.parser')\n",
    "    \n",
    "    poster = detail_soup.select('poster')\n",
    "    \n",
    "    if poster[0].text[11:16] != 'kopis':\n",
    "        noimage_0.append(name)\n",
    "    \n",
    "    else:\n",
    "        poster_url = poster[0].text\n",
    "        urllib.request.urlretrieve(poster_url, \"./0/\"+name +\".jpg\")\n",
    "    \n",
    "    #time.sleep(2)\n",
    "    "
   ]
  },
  {
   "cell_type": "code",
   "execution_count": 33,
   "metadata": {},
   "outputs": [
    {
     "data": {
      "text/plain": [
       "64"
      ]
     },
     "execution_count": 33,
     "metadata": {},
     "output_type": "execute_result"
    }
   ],
   "source": [
    "len(noimage_0)"
   ]
  },
  {
   "cell_type": "code",
   "execution_count": 34,
   "metadata": {},
   "outputs": [],
   "source": [
    "noimage_1 = [] "
   ]
  },
  {
   "cell_type": "code",
   "execution_count": 35,
   "metadata": {},
   "outputs": [],
   "source": [
    "for name in data1_id:\n",
    "    detail_url = 'http://www.kopis.or.kr/openApi/restful/pblprfr/'+name+'?service='+apikey\n",
    "    detail_response = requests.get(detail_url)\n",
    "    detail_soup = BeautifulSoup(detail_response.text, 'html.parser')\n",
    "    \n",
    "    poster = detail_soup.select('poster')\n",
    "    \n",
    "    if poster[0].text[11:16] != 'kopis':\n",
    "        noimage_1.append(name)\n",
    "    \n",
    "    else:\n",
    "        poster_url = poster[0].text\n",
    "        urllib.request.urlretrieve(poster_url, \"./1/\"+name +\".jpg\")"
   ]
  },
  {
   "cell_type": "code",
   "execution_count": 9,
   "metadata": {},
   "outputs": [
    {
     "data": {
      "text/html": [
       "<div>\n",
       "<style scoped>\n",
       "    .dataframe tbody tr th:only-of-type {\n",
       "        vertical-align: middle;\n",
       "    }\n",
       "\n",
       "    .dataframe tbody tr th {\n",
       "        vertical-align: top;\n",
       "    }\n",
       "\n",
       "    .dataframe thead th {\n",
       "        text-align: right;\n",
       "    }\n",
       "</style>\n",
       "<table border=\"1\" class=\"dataframe\">\n",
       "  <thead>\n",
       "    <tr style=\"text-align: right;\">\n",
       "      <th></th>\n",
       "      <th>연극ID</th>\n",
       "      <th>연극제목</th>\n",
       "      <th>공연시간</th>\n",
       "      <th>관객나이</th>\n",
       "      <th>티켓가격</th>\n",
       "      <th>공연장유형</th>\n",
       "      <th>객석수</th>\n",
       "      <th>공연수</th>\n",
       "      <th>예상관객수</th>\n",
       "    </tr>\n",
       "  </thead>\n",
       "  <tbody>\n",
       "    <tr>\n",
       "      <th>0</th>\n",
       "      <td>PF134763</td>\n",
       "      <td>검정고무신 [부산]</td>\n",
       "      <td>90</td>\n",
       "      <td>7</td>\n",
       "      <td>30000</td>\n",
       "      <td>민간</td>\n",
       "      <td>80</td>\n",
       "      <td>1</td>\n",
       "      <td>80</td>\n",
       "    </tr>\n",
       "    <tr>\n",
       "      <th>1</th>\n",
       "      <td>PF134762</td>\n",
       "      <td>플랜비</td>\n",
       "      <td>90</td>\n",
       "      <td>11</td>\n",
       "      <td>20000</td>\n",
       "      <td>민간</td>\n",
       "      <td>70</td>\n",
       "      <td>1</td>\n",
       "      <td>70</td>\n",
       "    </tr>\n",
       "    <tr>\n",
       "      <th>2</th>\n",
       "      <td>PF134756</td>\n",
       "      <td>청춘예찬</td>\n",
       "      <td>80</td>\n",
       "      <td>13</td>\n",
       "      <td>30000</td>\n",
       "      <td>민간</td>\n",
       "      <td>100</td>\n",
       "      <td>5</td>\n",
       "      <td>500</td>\n",
       "    </tr>\n",
       "    <tr>\n",
       "      <th>3</th>\n",
       "      <td>PF134755</td>\n",
       "      <td>죽여주는이야기 [광주]</td>\n",
       "      <td>100</td>\n",
       "      <td>7</td>\n",
       "      <td>12000</td>\n",
       "      <td>공공</td>\n",
       "      <td>2226</td>\n",
       "      <td>4</td>\n",
       "      <td>8904</td>\n",
       "    </tr>\n",
       "    <tr>\n",
       "      <th>4</th>\n",
       "      <td>PF134750</td>\n",
       "      <td>염쟁이 유씨</td>\n",
       "      <td>90</td>\n",
       "      <td>8</td>\n",
       "      <td>30000</td>\n",
       "      <td>공공</td>\n",
       "      <td>514</td>\n",
       "      <td>5</td>\n",
       "      <td>2570</td>\n",
       "    </tr>\n",
       "    <tr>\n",
       "      <th>...</th>\n",
       "      <td>...</td>\n",
       "      <td>...</td>\n",
       "      <td>...</td>\n",
       "      <td>...</td>\n",
       "      <td>...</td>\n",
       "      <td>...</td>\n",
       "      <td>...</td>\n",
       "      <td>...</td>\n",
       "      <td>...</td>\n",
       "    </tr>\n",
       "    <tr>\n",
       "      <th>1929</th>\n",
       "      <td>PF156381</td>\n",
       "      <td>러브액츄얼리 오리지날 [수원]</td>\n",
       "      <td>90</td>\n",
       "      <td>8</td>\n",
       "      <td>30000</td>\n",
       "      <td>공공</td>\n",
       "      <td>3062</td>\n",
       "      <td>7</td>\n",
       "      <td>21434</td>\n",
       "    </tr>\n",
       "    <tr>\n",
       "      <th>1930</th>\n",
       "      <td>PF156367</td>\n",
       "      <td>관람모드: 보는방식</td>\n",
       "      <td>70</td>\n",
       "      <td>15</td>\n",
       "      <td>30000</td>\n",
       "      <td>민간</td>\n",
       "      <td>50</td>\n",
       "      <td>6</td>\n",
       "      <td>300</td>\n",
       "    </tr>\n",
       "    <tr>\n",
       "      <th>1931</th>\n",
       "      <td>PF156366</td>\n",
       "      <td>검은스님들 [창원]</td>\n",
       "      <td>90</td>\n",
       "      <td>19</td>\n",
       "      <td>30000</td>\n",
       "      <td>민간</td>\n",
       "      <td>95</td>\n",
       "      <td>63</td>\n",
       "      <td>5985</td>\n",
       "    </tr>\n",
       "    <tr>\n",
       "      <th>1932</th>\n",
       "      <td>PF156365</td>\n",
       "      <td>뷰티풀라이프 [대구]</td>\n",
       "      <td>90</td>\n",
       "      <td>8</td>\n",
       "      <td>35000</td>\n",
       "      <td>민간</td>\n",
       "      <td>300</td>\n",
       "      <td>61</td>\n",
       "      <td>18300</td>\n",
       "    </tr>\n",
       "    <tr>\n",
       "      <th>1933</th>\n",
       "      <td>PF156351</td>\n",
       "      <td>창문 넘어 도망친 100세 노인</td>\n",
       "      <td>150</td>\n",
       "      <td>11</td>\n",
       "      <td>19000</td>\n",
       "      <td>민간</td>\n",
       "      <td>773</td>\n",
       "      <td>46</td>\n",
       "      <td>35558</td>\n",
       "    </tr>\n",
       "  </tbody>\n",
       "</table>\n",
       "<p>1934 rows × 9 columns</p>\n",
       "</div>"
      ],
      "text/plain": [
       "          연극ID               연극제목  공연시간 관객나이   티켓가격 공연장유형   객석수  공연수  예상관객수\n",
       "0     PF134763         검정고무신 [부산]    90    7  30000    민간    80    1     80\n",
       "1     PF134762                플랜비    90   11  20000    민간    70    1     70\n",
       "2     PF134756               청춘예찬    80   13  30000    민간   100    5    500\n",
       "3     PF134755       죽여주는이야기 [광주]   100    7  12000    공공  2226    4   8904\n",
       "4     PF134750             염쟁이 유씨    90    8  30000    공공   514    5   2570\n",
       "...        ...                ...   ...  ...    ...   ...   ...  ...    ...\n",
       "1929  PF156381   러브액츄얼리 오리지날 [수원]    90    8  30000    공공  3062    7  21434\n",
       "1930  PF156367         관람모드: 보는방식    70   15  30000    민간    50    6    300\n",
       "1931  PF156366         검은스님들 [창원]    90   19  30000    민간    95   63   5985\n",
       "1932  PF156365        뷰티풀라이프 [대구]    90    8  35000    민간   300   61  18300\n",
       "1933  PF156351  창문 넘어 도망친 100세 노인   150   11  19000    민간   773   46  35558\n",
       "\n",
       "[1934 rows x 9 columns]"
      ]
     },
     "execution_count": 9,
     "metadata": {},
     "output_type": "execute_result"
    }
   ],
   "source": [
    "my_df"
   ]
  },
  {
   "cell_type": "code",
   "execution_count": 36,
   "metadata": {},
   "outputs": [
    {
     "data": {
      "text/plain": [
       "['PF134650',\n",
       " 'PF134296',\n",
       " 'PF133861',\n",
       " 'PF133793',\n",
       " 'PF133662',\n",
       " 'PF133549',\n",
       " 'PF133492',\n",
       " 'PF133235',\n",
       " 'PF133211',\n",
       " 'PF132809',\n",
       " 'PF132759',\n",
       " 'PF132754',\n",
       " 'PF132753',\n",
       " 'PF132595',\n",
       " 'PF132593',\n",
       " 'PF132253',\n",
       " 'PF132209',\n",
       " 'PF140564',\n",
       " 'PF139568',\n",
       " 'PF139013',\n",
       " 'PF138943',\n",
       " 'PF138906',\n",
       " 'PF138905',\n",
       " 'PF138904',\n",
       " 'PF138903',\n",
       " 'PF138899',\n",
       " 'PF142845',\n",
       " 'PF142577',\n",
       " 'PF142330',\n",
       " 'PF142327',\n",
       " 'PF142287',\n",
       " 'PF141914',\n",
       " 'PF141913',\n",
       " 'PF141912',\n",
       " 'PF141911',\n",
       " 'PF141910',\n",
       " 'PF141909',\n",
       " 'PF141908',\n",
       " 'PF141907',\n",
       " 'PF141581',\n",
       " 'PF141580',\n",
       " 'PF141118',\n",
       " 'PF140468',\n",
       " 'PF140462',\n",
       " 'PF145639',\n",
       " 'PF145608',\n",
       " 'PF145348',\n",
       " 'PF144956',\n",
       " 'PF144903',\n",
       " 'PF144900',\n",
       " 'PF144899',\n",
       " 'PF144897',\n",
       " 'PF144793',\n",
       " 'PF144589',\n",
       " 'PF144309',\n",
       " 'PF144232',\n",
       " 'PF144231',\n",
       " 'PF144230',\n",
       " 'PF144229',\n",
       " 'PF144228',\n",
       " 'PF144088',\n",
       " 'PF144087',\n",
       " 'PF144086',\n",
       " 'PF143785']"
      ]
     },
     "execution_count": 36,
     "metadata": {},
     "output_type": "execute_result"
    }
   ],
   "source": [
    "noimage_0"
   ]
  },
  {
   "cell_type": "code",
   "execution_count": 37,
   "metadata": {},
   "outputs": [
    {
     "data": {
      "text/plain": [
       "['PF134399',\n",
       " 'PF134361',\n",
       " 'PF134116',\n",
       " 'PF133733',\n",
       " 'PF133665',\n",
       " 'PF133236',\n",
       " 'PF133157',\n",
       " 'PF133116',\n",
       " 'PF133115',\n",
       " 'PF133107',\n",
       " 'PF133108',\n",
       " 'PF133087',\n",
       " 'PF133086',\n",
       " 'PF133031',\n",
       " 'PF132887',\n",
       " 'PF132885',\n",
       " 'PF132734',\n",
       " 'PF132735',\n",
       " 'PF132619',\n",
       " 'PF132211',\n",
       " 'PF132210',\n",
       " 'PF141094']"
      ]
     },
     "execution_count": 37,
     "metadata": {},
     "output_type": "execute_result"
    }
   ],
   "source": [
    "noimage_1"
   ]
  },
  {
   "cell_type": "code",
   "execution_count": 43,
   "metadata": {},
   "outputs": [],
   "source": [
    "a= {\"id_0\" : noimage_0 }"
   ]
  },
  {
   "cell_type": "code",
   "execution_count": 44,
   "metadata": {},
   "outputs": [],
   "source": [
    "b = {\"id_1\": noimage_1}"
   ]
  },
  {
   "cell_type": "code",
   "execution_count": 45,
   "metadata": {},
   "outputs": [],
   "source": [
    "ad = pd.DataFrame(a)\n",
    "bd = pd.DataFrame(b)"
   ]
  },
  {
   "cell_type": "code",
   "execution_count": 46,
   "metadata": {},
   "outputs": [],
   "source": [
    "ad.to_excel(\"noimage_0.xlsx\", index = False)"
   ]
  },
  {
   "cell_type": "code",
   "execution_count": 47,
   "metadata": {},
   "outputs": [],
   "source": [
    "bd.to_excel(\"noimage_1.xlsx\", index = False)"
   ]
  },
  {
   "cell_type": "code",
   "execution_count": 48,
   "metadata": {},
   "outputs": [],
   "source": [
    "c = pd.read_excel('noimage_0.xlsx')"
   ]
  },
  {
   "cell_type": "code",
   "execution_count": 49,
   "metadata": {},
   "outputs": [
    {
     "data": {
      "text/html": [
       "<div>\n",
       "<style scoped>\n",
       "    .dataframe tbody tr th:only-of-type {\n",
       "        vertical-align: middle;\n",
       "    }\n",
       "\n",
       "    .dataframe tbody tr th {\n",
       "        vertical-align: top;\n",
       "    }\n",
       "\n",
       "    .dataframe thead th {\n",
       "        text-align: right;\n",
       "    }\n",
       "</style>\n",
       "<table border=\"1\" class=\"dataframe\">\n",
       "  <thead>\n",
       "    <tr style=\"text-align: right;\">\n",
       "      <th></th>\n",
       "      <th>id_0</th>\n",
       "      <th>흥행실패포스터</th>\n",
       "    </tr>\n",
       "  </thead>\n",
       "  <tbody>\n",
       "    <tr>\n",
       "      <th>0</th>\n",
       "      <td>PF134650</td>\n",
       "      <td>PF132209</td>\n",
       "    </tr>\n",
       "    <tr>\n",
       "      <th>1</th>\n",
       "      <td>PF134296</td>\n",
       "      <td>PF132253</td>\n",
       "    </tr>\n",
       "    <tr>\n",
       "      <th>2</th>\n",
       "      <td>PF133861</td>\n",
       "      <td>PF132593</td>\n",
       "    </tr>\n",
       "    <tr>\n",
       "      <th>3</th>\n",
       "      <td>PF133793</td>\n",
       "      <td>PF132595</td>\n",
       "    </tr>\n",
       "    <tr>\n",
       "      <th>4</th>\n",
       "      <td>PF133662</td>\n",
       "      <td>PF132753</td>\n",
       "    </tr>\n",
       "    <tr>\n",
       "      <th>...</th>\n",
       "      <td>...</td>\n",
       "      <td>...</td>\n",
       "    </tr>\n",
       "    <tr>\n",
       "      <th>59</th>\n",
       "      <td>PF144228</td>\n",
       "      <td>PF144903</td>\n",
       "    </tr>\n",
       "    <tr>\n",
       "      <th>60</th>\n",
       "      <td>PF144088</td>\n",
       "      <td>PF144956</td>\n",
       "    </tr>\n",
       "    <tr>\n",
       "      <th>61</th>\n",
       "      <td>PF144087</td>\n",
       "      <td>PF145348</td>\n",
       "    </tr>\n",
       "    <tr>\n",
       "      <th>62</th>\n",
       "      <td>PF144086</td>\n",
       "      <td>PF145608</td>\n",
       "    </tr>\n",
       "    <tr>\n",
       "      <th>63</th>\n",
       "      <td>PF143785</td>\n",
       "      <td>PF145639</td>\n",
       "    </tr>\n",
       "  </tbody>\n",
       "</table>\n",
       "<p>64 rows × 2 columns</p>\n",
       "</div>"
      ],
      "text/plain": [
       "        id_0   흥행실패포스터\n",
       "0   PF134650  PF132209\n",
       "1   PF134296  PF132253\n",
       "2   PF133861  PF132593\n",
       "3   PF133793  PF132595\n",
       "4   PF133662  PF132753\n",
       "..       ...       ...\n",
       "59  PF144228  PF144903\n",
       "60  PF144088  PF144956\n",
       "61  PF144087  PF145348\n",
       "62  PF144086  PF145608\n",
       "63  PF143785  PF145639\n",
       "\n",
       "[64 rows x 2 columns]"
      ]
     },
     "execution_count": 49,
     "metadata": {},
     "output_type": "execute_result"
    }
   ],
   "source": [
    "c"
   ]
  },
  {
   "cell_type": "code",
   "execution_count": 55,
   "metadata": {},
   "outputs": [],
   "source": [
    "kk = list(c['흥행실패포스터'])\n",
    "yu = list(c['id_0'])\n",
    "x = []"
   ]
  },
  {
   "cell_type": "code",
   "execution_count": 56,
   "metadata": {},
   "outputs": [],
   "source": [
    "for i in yu:\n",
    "    if i  in kk : \n",
    "        x.append(i)"
   ]
  },
  {
   "cell_type": "code",
   "execution_count": 57,
   "metadata": {},
   "outputs": [
    {
     "data": {
      "text/plain": [
       "64"
      ]
     },
     "execution_count": 57,
     "metadata": {},
     "output_type": "execute_result"
    }
   ],
   "source": [
    "len(x)"
   ]
  },
  {
   "cell_type": "code",
   "execution_count": null,
   "metadata": {},
   "outputs": [],
   "source": []
  }
 ],
 "metadata": {
  "kernelspec": {
   "display_name": "Python 3",
   "language": "python",
   "name": "python3"
  },
  "language_info": {
   "codemirror_mode": {
    "name": "ipython",
    "version": 3
   },
   "file_extension": ".py",
   "mimetype": "text/x-python",
   "name": "python",
   "nbconvert_exporter": "python",
   "pygments_lexer": "ipython3",
   "version": "3.8.3"
  }
 },
 "nbformat": 4,
 "nbformat_minor": 4
}
